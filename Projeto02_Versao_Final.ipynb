{
 "cells": [
  {
   "cell_type": "markdown",
   "metadata": {},
   "source": [
    "<h1> <font color=red> Engenharia 2019.2 - Ciência dos dados </font> </h1>\n",
    "\n",
    "<h2> Projeto 2 - Classificador Automático de Sentimento</h2>\n",
    "\n",
    "<h3> Alunos: </h3>\n",
    "<ul>\n",
    "    <li>Cicero Tiago Carneiro Valentim</li>\n",
    "    <li>Luiz Felipe Lazzaron</li>\n",
    "    <li>Marcos Vinícius</li>\n",
    "</ul>"
   ]
  },
  {
   "cell_type": "markdown",
   "metadata": {},
   "source": [
    "<h3> Sumário: </h3>\n",
    "<ol>\n",
    "   <li> Introdução </li>\n",
    "   <p></p>\n",
    "   <li>Preparando Ambiente no Jupyter</li>\n",
    "   <p></p>\n",
    "   <li>Autenticando no Twitter</li>\n",
    "   <p></p>\n",
    "   <li>Escolha de um produto</li>\n",
    "   <p></p>\n",
    "   <li>Classificando as mensagens na coragem</li>\n",
    "   <p></p>\n",
    "   <li>Montando o Classificador Naive-Bayes</li>\n",
    "   <p></p>\n",
    "   <li>Limpeza e Tratamento de Dados</li>\n",
    "   <ul>\n",
    "       <li>7.1 Função Remove;</li>\n",
    "       <li>7.2 Função SpaceCleaning;</li>\n",
    "       <li>7.3 Função TratamentodoGrupo;</li>\n",
    "       <li>7.4 Função Stemming;</li>\n",
    "       <li>7.5 Função RemoveStopWords;</li>\n",
    "       <li>7.6 Tratando os Dados da Base de Treinamento;</li>\n",
    "   </ul>\n",
    "   <p></p>\n",
    "   <li>Naive Bayes e Laplace Smoothing</li>\n",
    "   <ul>\n",
    "       <li>8.1 Função lista_sem_repetição</li>\n",
    "       <li>8.2 Função laplace</li>\n",
    "       <li>8.3 Função numero_de_vezes</li>\n",
    "       <li>8.4 Função conta_palavras</li>\n",
    "   </ul>\n",
    "   <p></p>\n",
    "   <li>Verificando a performance na Planilha Testes</li>\n",
    "   <ul>\n",
    "       <li>9.1 Função limpeza_tweet;</li>\n",
    "       <li>9.2 Função analisa_frase;</li>\n",
    "       <li>9.3 Função identifica_valor_maximo;</li>\n",
    "       <li>9.4 Função resultado;</li>       \n",
    "   </ul>\n",
    "   <p></p>\n",
    "   <li>Conclusão</li>\n",
    "   <p></p>\n",
    "   <li>Referências</li>\n",
    "</ol>"
   ]
  },
  {
   "cell_type": "markdown",
   "metadata": {},
   "source": [
    "## 1. Introdução"
   ]
  },
  {
   "cell_type": "markdown",
   "metadata": {},
   "source": [
    "<p>\n",
    "    No presente trabalho, visa-se selecionar tweets relevantes para a classificação de postagens que possuem sinais de depressão por parte de seus autores. Nesse contexto, os integrantes dividiram os tweets em três categorias:\n",
    "</p>\n",
    "<ul>\n",
    "    <li> 1. Irrelavantes ou Neutros. Tweets que não indicam quaisquer indício de depressão;</li>\n",
    "    <li> 2. Relevantes. Tweets que possuem relevância na análise de indicação de depressão;</li>\n",
    "    <li> 3. Possuem interesse no assunto. Tweets que não demonstram doença mental, mas indicam um interresse no tema e na prevenção de suicídio;</li>\n",
    "</ul>\n",
    "<p>\n",
    "    Desse modo, com tal classificação, pode-se desenvolver um marketing específico para os públicos 2 e 3; para os relevantes, pode-se oferecer auxílio e suporte psicológico; para aqueles que possuem interesse no tema \"depressão\", pode-se direcionar materiais que ensinem a como lidar com pessoas com depressão.\n",
    "</p>"
   ]
  },
  {
   "cell_type": "markdown",
   "metadata": {},
   "source": [
    "## 2. Preparando o ambiente no jupyter:"
   ]
  },
  {
   "cell_type": "code",
   "execution_count": 2,
   "metadata": {},
   "outputs": [
    {
     "name": "stdout",
     "output_type": "stream",
     "text": [
      "Requirement already satisfied: emoji in c:\\users\\user\\anaconda3\\lib\\site-packages (0.5.4)\n",
      "Requirement already satisfied: nltk in c:\\users\\user\\anaconda3\\lib\\site-packages (3.4)\n",
      "Requirement already satisfied: six in c:\\users\\user\\anaconda3\\lib\\site-packages (from nltk) (1.12.0)\n",
      "Requirement already satisfied: singledispatch in c:\\users\\user\\anaconda3\\lib\\site-packages (from nltk) (3.4.0.3)\n"
     ]
    },
    {
     "name": "stderr",
     "output_type": "stream",
     "text": [
      "[nltk_data] Downloading package rslp to\n",
      "[nltk_data]     C:\\Users\\User\\AppData\\Roaming\\nltk_data...\n",
      "[nltk_data]   Package rslp is already up-to-date!\n",
      "[nltk_data] Downloading package stopwords to\n",
      "[nltk_data]     C:\\Users\\User\\AppData\\Roaming\\nltk_data...\n",
      "[nltk_data]   Package stopwords is already up-to-date!\n",
      "[nltk_data] Downloading package punkt to\n",
      "[nltk_data]     C:\\Users\\User\\AppData\\Roaming\\nltk_data...\n",
      "[nltk_data]   Package punkt is already up-to-date!\n"
     ]
    }
   ],
   "source": [
    "!pip install emoji\n",
    "!pip install nltk\n",
    "import tweepy\n",
    "import math\n",
    "import os.path\n",
    "import pandas as pd\n",
    "import json\n",
    "from random import shuffle\n",
    "from IPython.display import clear_output\n",
    "from time import sleep\n",
    "import script\n",
    "from emoji import UNICODE_EMOJI\n",
    "import emoji\n",
    "import re \n",
    "import functools\n",
    "import operator\n",
    "import nltk \n",
    "from nltk.stem import RSLPStemmer\n",
    "nltk.download('rslp')\n",
    "nltk.download('stopwords')\n",
    "nltk.download('punkt');"
   ]
  },
  {
   "cell_type": "markdown",
   "metadata": {},
   "source": [
    "## 3. Autenticando no  Twitter"
   ]
  },
  {
   "cell_type": "code",
   "execution_count": 3,
   "metadata": {},
   "outputs": [],
   "source": [
    "#Conta: ***@MarcosV96118169***\n",
    "\n",
    "#Dados de autenticação do twitter:\n",
    "\n",
    "#Coloque aqui o identificador da conta no twitter: @MarcosV96118169\n",
    "\n",
    "#leitura do arquivo no formato JSON\n",
    "with open('auth.pass') as fp:    \n",
    "    data = json.load(fp)\n",
    "\n",
    "#Configurando a biblioteca. Não modificar\n",
    "auth = tweepy.OAuthHandler(data['consumer_key'], data['consumer_secret'])\n",
    "auth.set_access_token(data['access_token'], data['access_token_secret'])"
   ]
  },
  {
   "cell_type": "markdown",
   "metadata": {},
   "source": [
    "## 4. Escolha de um produto"
   ]
  },
  {
   "cell_type": "markdown",
   "metadata": {},
   "source": [
    "<ul>\n",
    "Produto escolhido: <b>Depressão</b>\n",
    "\n",
    "Quantidade mínima de mensagens capturadas: <b>750</b>\n",
    "\n",
    "Quantidade mínima de mensagens para a base de treinamento: <b>300</b>\n",
    "\n",
    "Filtro de língua: <b>pt</b>\n",
    "</ul>"
   ]
  },
  {
   "cell_type": "markdown",
   "metadata": {},
   "source": [
    "## 5. Classificando as mensagens na coragem"
   ]
  },
  {
   "cell_type": "markdown",
   "metadata": {},
   "source": [
    "Esta etapa foi manual e foi feita diretamente no Excel."
   ]
  },
  {
   "cell_type": "markdown",
   "metadata": {},
   "source": [
    "#### Lendo arquivos xlsx:"
   ]
  },
  {
   "cell_type": "code",
   "execution_count": 4,
   "metadata": {},
   "outputs": [],
   "source": [
    "planilha_treinamento = pd.read_excel('depressao.xlsx', \"Treinamento\")\n",
    "planilha_teste = pd.read_excel('depressao.xlsx', \"Teste\")\n",
    "pd.set_option('display.max_colwidth', -1)"
   ]
  },
  {
   "cell_type": "markdown",
   "metadata": {},
   "source": [
    "## 6. Montando o Classificador Naive-Bayes"
   ]
  },
  {
   "cell_type": "markdown",
   "metadata": {},
   "source": [
    "<p>Primeiramente, iremos trabalhar com o <i>dataframe</i> treinamento, criando três banco de dados:</p>\n",
    "<ul>\n",
    "    <li>Grupo 1 - Irrelevantes/Neutros: group_1</li>\n",
    "    <li>Grupo 2 - Relevantes: group_2</li>\n",
    "    <li>Grupo 3 - Interesse no Assunto: group_3</li>\n",
    "</ul>"
   ]
  },
  {
   "cell_type": "code",
   "execution_count": 5,
   "metadata": {},
   "outputs": [],
   "source": [
    "group_1 = planilha_treinamento[planilha_treinamento[\"Relevância\"] == 1]\n",
    "group_2 = planilha_treinamento[planilha_treinamento[\"Relevância\"] == 2]\n",
    "group_3 = planilha_treinamento[planilha_treinamento[\"Relevância\"] == 3]"
   ]
  },
  {
   "cell_type": "markdown",
   "metadata": {},
   "source": [
    "## 7. Limpeza e Tratamento dos Dados"
   ]
  },
  {
   "cell_type": "markdown",
   "metadata": {},
   "source": [
    "### 7.1 Função Remove:\n",
    "<p>Essa função serve para retirarmos do nosso <i>DataFrame</i> qualquer string com as iniciais <b>http</b> e <b>@.</b></p>"
   ]
  },
  {
   "cell_type": "code",
   "execution_count": 6,
   "metadata": {},
   "outputs": [],
   "source": [
    "def Remove(dataframe):\n",
    "    data_aux = dataframe\n",
    "    lista_tweets = list(dataframe.loc[:,\"Tweet Text\"].values)\n",
    "    lista_reserva = []\n",
    "    for i in range(len(lista_tweets)):\n",
    "        lista_tweets[i] = lista_tweets[i].split()\n",
    "        for t in range(len(lista_tweets[i])):\n",
    "            if \"http\" in lista_tweets[i][t]:\n",
    "                lista_tweets[i][t] = \"http\"\n",
    "        while lista_tweets[i].count(\"http\") != 0:\n",
    "            lista_tweets[i].remove(\"http\")\n",
    "        lista_tweets[i] = ' '.join(lista_tweets[i])\n",
    "    data_aux.loc[:,\"Tweet Text\"] = lista_tweets\n",
    "    return data_aux"
   ]
  },
  {
   "cell_type": "markdown",
   "metadata": {},
   "source": [
    "### 7.2 Função SpaceCleaning:\n",
    "<p>Essa função serve para quebrarmos nosso texto por palavras e emojis, criando desse modo um array com todas as palavras e mojis contidas dentro do texto. Além disso, retiramos do nosso array algumas pontuações desnecessárias para a análise.</p>"
   ]
  },
  {
   "cell_type": "code",
   "execution_count": 7,
   "metadata": {},
   "outputs": [],
   "source": [
    "def SpaceCleaning(text):\n",
    "    punctuation = '[!\\-.:?;,''\"@/]' \n",
    "    pattern = re.compile(punctuation)\n",
    "    text_subbed = re.sub(pattern, ' ', text)\n",
    "    split_emoji = emoji.get_emoji_regexp().split(text_subbed)\n",
    "    split_whitespace = [substr.split() for substr in split_emoji]\n",
    "    split = functools.reduce(operator.concat,split_whitespace)\n",
    "    return split"
   ]
  },
  {
   "cell_type": "markdown",
   "metadata": {},
   "source": [
    "### 7.3 Função TratamentodoGrupo:\n",
    "<p>Essa função serve para tratar a base de dados do grupo 1, 2 e 3.</p>"
   ]
  },
  {
   "cell_type": "code",
   "execution_count": 8,
   "metadata": {},
   "outputs": [],
   "source": [
    "def TratamentodoGrupo(grupo):\n",
    "    total = []\n",
    "    for tweet in grupo[\"Tweet Text\"]:\n",
    "        tweet_splited = SpaceCleaning(tweet)\n",
    "        total.append(tweet_splited)\n",
    "    return total"
   ]
  },
  {
   "cell_type": "markdown",
   "metadata": {},
   "source": [
    "### 7.4 Função Stemming:\n",
    "<p>Essa função serve para diminuirmos a palavra até a sua raiz, pois assim, conseguimos tratar as palavras originais e suas respectivas derivações de uma mesma maneira.</p>"
   ]
  },
  {
   "cell_type": "code",
   "execution_count": 9,
   "metadata": {},
   "outputs": [],
   "source": [
    "def Stemming(sentence):\n",
    "    stemmer = RSLPStemmer()\n",
    "    phrase = []\n",
    "    for word in sentence:\n",
    "        phrase.append(stemmer.stem(word.lower()))\n",
    "    return phrase"
   ]
  },
  {
   "cell_type": "markdown",
   "metadata": {},
   "source": [
    "### 7.5 Função RemoveStopWords:\n",
    "<p>Essa função serve para retirarmos dentro do nosso array algumas palavras que não são interessantes para contabilizarmos uma pontuação na hora de classificar o nosso texto, então mantemos somente as palavras principais.</p>"
   ]
  },
  {
   "cell_type": "code",
   "execution_count": 10,
   "metadata": {},
   "outputs": [],
   "source": [
    "def RemoveStopWords(sentence):\n",
    "    stopwords = nltk.corpus.stopwords.words('portuguese')\n",
    "    phrase = []\n",
    "    for word in sentence:\n",
    "        if word not in stopwords:\n",
    "            phrase.append(word)\n",
    "    return phrase"
   ]
  },
  {
   "cell_type": "code",
   "execution_count": 34,
   "metadata": {},
   "outputs": [],
   "source": [
    "stopwords = nltk.corpus.stopwords.words('portuguese')"
   ]
  },
  {
   "cell_type": "markdown",
   "metadata": {},
   "source": [
    "### 7.6 Tratando os Dados da Base de Treinamento:"
   ]
  },
  {
   "cell_type": "code",
   "execution_count": 38,
   "metadata": {},
   "outputs": [],
   "source": [
    "#Tratando com a função: Removehttp\n",
    "a0 = Remove(group_1)\n",
    "b0 = Remove(group_2)\n",
    "c0 = Remove(group_3)\n",
    "\n",
    "#Tratando com a função: TratamentoGrupo\n",
    "a1 = TratamentodoGrupo(a0)\n",
    "b1 = TratamentodoGrupo(a0)\n",
    "c1 = TratamentodoGrupo(a0)\n",
    "\n",
    "#Tratando com a função: Stemming\n",
    "i = 0\n",
    "a2 = len(a1)*[0]\n",
    "while i < len(a1):\n",
    "    a2[i] = Stemming(a1[i])\n",
    "    i+=1\n",
    "    \n",
    "h = 0\n",
    "b2 = len(b1)*[0]\n",
    "while h < len(b1):\n",
    "    b2[h] = Stemming(b1[h])\n",
    "    h+=1\n",
    "\n",
    "j = 0\n",
    "c2 = len(c1)*[0]\n",
    "while j < len(c1):\n",
    "    c2[j] = Stemming(c1[j])\n",
    "    j+=1\n",
    "\n",
    "#Tratando com a função: RemoveStopWords\n",
    "q = 0\n",
    "a3 = len(a2)*[0]\n",
    "while q < len(a2):\n",
    "    a3[q] = RemoveStopWords(a2[q])\n",
    "    q+=1\n",
    "    \n",
    "w = 0\n",
    "b3 = len(b2)*[0]\n",
    "while w < len(b2):\n",
    "    b3[w] = RemoveStopWords(b2[w])\n",
    "    w+=1\n",
    "\n",
    "l = 0\n",
    "c3 = len(c2)*[0]\n",
    "while l < len(c2):\n",
    "    c3[l] = RemoveStopWords(c2[l])\n",
    "    l+=1\n",
    "\n",
    "groups_tweet = [a3,b3,c3];"
   ]
  },
  {
   "cell_type": "markdown",
   "metadata": {},
   "source": [
    "## 8. Naive Bayes e Laplace Smoothing"
   ]
  },
  {
   "cell_type": "markdown",
   "metadata": {},
   "source": [
    "### 8.1 Função lista_sem_repetição:\n",
    "<p> A função abaixo cria uma lista com todas as palavras existentes num grupo sem repetição, adicionando elas na lista total_words. No fim, temos o número de palavras sem repetição, a qual é importante para cálculos futuros envolvendo a expressão de Laplace.\n",
    "</p>"
   ]
  },
  {
   "cell_type": "code",
   "execution_count": 13,
   "metadata": {},
   "outputs": [],
   "source": [
    "def lista_sem_repeticao(LISTA,lista):\n",
    "    resposta = LISTA\n",
    "    for tweet in lista:\n",
    "        for palavra in tweet:\n",
    "            if palavra not in resposta:\n",
    "                resposta.append(palavra)\n",
    "    return resposta"
   ]
  },
  {
   "cell_type": "code",
   "execution_count": 14,
   "metadata": {},
   "outputs": [],
   "source": [
    "total_words = []\n",
    "lista_sem_repeticao(total_words,groups_tweet[0])\n",
    "lista_sem_repeticao(total_words,groups_tweet[1])\n",
    "lista_sem_repeticao(total_words,groups_tweet[2])\n",
    "N =len(total_words)"
   ]
  },
  {
   "cell_type": "markdown",
   "metadata": {},
   "source": [
    "### 8.2 Função laplace:\n",
    "<p> Abaixo, tem-se a função proposta por Laplace, a qual realiza um smoothing nos dados. Ela recebe três parâmetros: \n",
    "</p>\n",
    "<ul>\n",
    "    <li>Número de vezes que a palavra aparece no grupo;</li>\n",
    "    <li>Número de elementos contido no grupo (1, 2 ou 3);</li>\n",
    "    <li>Número de elementos sem repetição em todas os grupos</li>    \n",
    "</ul>"
   ]
  },
  {
   "cell_type": "code",
   "execution_count": 15,
   "metadata": {},
   "outputs": [],
   "source": [
    "def laplace(num_vezes_no_grupo, num_elementos_do_grupo, num_elementos_sem_repeticao):\n",
    "    probabilidade = (num_vezes_no_grupo + 1 ) / ( num_elementos_do_grupo + num_elementos_sem_repeticao)\n",
    "    return probabilidade"
   ]
  },
  {
   "cell_type": "markdown",
   "metadata": {},
   "source": [
    "### 8.3 Função numero_de_vezes:\n",
    "<p> A função \"número de vezes\" fornece a quantidade de vezes que a palavra aparece no grupo. Essa função é utilizada juntamente com Laplace. \n",
    "</p>"
   ]
  },
  {
   "cell_type": "code",
   "execution_count": 16,
   "metadata": {},
   "outputs": [],
   "source": [
    "def numero_de_vezes(palavra_analisada,grupo):\n",
    "    n = 0\n",
    "    for tweet in grupo:\n",
    "        for palavra in tweet:\n",
    "            if palavra ==  palavra_analisada:\n",
    "                n +=1\n",
    "    return n"
   ]
  },
  {
   "cell_type": "code",
   "execution_count": 17,
   "metadata": {},
   "outputs": [],
   "source": [
    "resultados = []\n",
    "for group in groups_tweet:\n",
    "    dictionary= {}\n",
    "    for tweet in group:\n",
    "        for word in tweet:\n",
    "            probabilidade = laplace(numero_de_vezes(word,group),len(group),N)\n",
    "            dictionary[word] = probabilidade\n",
    "    resultado = pd.Series(dictionary)\n",
    "    resultados.append(resultado)"
   ]
  },
  {
   "cell_type": "markdown",
   "metadata": {},
   "source": [
    "### 8.4 Função conta_palavras:\n",
    "<p> A função palavras vê quantas existem num grupo, o qual é composto por um série de tweets.\n",
    "</p>"
   ]
  },
  {
   "cell_type": "code",
   "execution_count": 18,
   "metadata": {},
   "outputs": [],
   "source": [
    "def conta_palavras(grupo):\n",
    "    n = 0\n",
    "    for tweet in grupo:\n",
    "        n += len(tweet)\n",
    "    return n"
   ]
  },
  {
   "cell_type": "code",
   "execution_count": 19,
   "metadata": {},
   "outputs": [],
   "source": [
    "N_1 = conta_palavras(groups_tweet[0])\n",
    "N_2 = conta_palavras(groups_tweet[1])\n",
    "N_3 = conta_palavras(groups_tweet[2])"
   ]
  },
  {
   "cell_type": "markdown",
   "metadata": {},
   "source": [
    "## 9. Verificando a performance na Planilha Testes\n",
    "<p>\n",
    "Testando classificador com a base de Testes.\n",
    "</p>"
   ]
  },
  {
   "cell_type": "code",
   "execution_count": 20,
   "metadata": {},
   "outputs": [],
   "source": [
    "teste = planilha_teste[\"Tweet Text\"]"
   ]
  },
  {
   "cell_type": "markdown",
   "metadata": {},
   "source": [
    "### 9.1 Função limpeza_tweet:\n",
    "<p> A função limpa cada twetet.\n",
    "</p>"
   ]
  },
  {
   "cell_type": "code",
   "execution_count": 21,
   "metadata": {},
   "outputs": [],
   "source": [
    "def limpeza_tweet(tweet):\n",
    "    tweet_limpo = SpaceCleaning(str(tweet))\n",
    "    return tweet_limpo"
   ]
  },
  {
   "cell_type": "code",
   "execution_count": 22,
   "metadata": {},
   "outputs": [],
   "source": [
    "teste_tweet = []\n",
    "for tweet in teste:\n",
    "    teste_tweet.append(limpeza_tweet(tweet))"
   ]
  },
  {
   "cell_type": "code",
   "execution_count": 23,
   "metadata": {},
   "outputs": [],
   "source": [
    "serie_teste = pd.Series(teste_tweet)"
   ]
  },
  {
   "cell_type": "markdown",
   "metadata": {},
   "source": [
    "### 9.2 Função analisa_frase:\n",
    "<p> Como os resultados estão muito pequenos, usou-se a função do logarítmo neperiano, ln(x), para os valores ficarem com números mais adequados para o Python.\n",
    "</p>"
   ]
  },
  {
   "cell_type": "code",
   "execution_count": 24,
   "metadata": {},
   "outputs": [],
   "source": [
    "def analisa_frase(frase):\n",
    "    condicional_grupo1 = 1\n",
    "    condicional_grupo2 = 1\n",
    "    condicional_grupo3 = 1\n",
    "    lista = [condicional_grupo1, condicional_grupo2,condicional_grupo3]\n",
    "    \n",
    "    for palavra in frase:\n",
    "        if (palavra not in resultados[0].index):\n",
    "            condicional_grupo1 *= laplace(0,N_1,N)\n",
    "        else: \n",
    "            condicional_grupo1 *= resultados[0][palavra]\n",
    "            \n",
    "    for palavra in frase:\n",
    "        if (palavra not in resultados[1].index):\n",
    "            condicional_grupo2 *= laplace(0,N_1,N) \n",
    "        else:\n",
    "            condicional_grupo2 *= resultados[1][palavra]\n",
    "            \n",
    "    for palavra in frase:\n",
    "        if (palavra not in resultados[2].index):\n",
    "            condicional_grupo3 *= laplace(0,N_1,N) \n",
    "        else:\n",
    "            condicional_grupo3 *= resultados[2][palavra]\n",
    "            \n",
    "    return [condicional_grupo1,condicional_grupo2,condicional_grupo3]"
   ]
  },
  {
   "cell_type": "markdown",
   "metadata": {},
   "source": [
    "### 9.3 Função identifica_valor_maximo:"
   ]
  },
  {
   "cell_type": "code",
   "execution_count": 25,
   "metadata": {},
   "outputs": [],
   "source": [
    "def identifica_valor_maximo(lista_de_resultados):\n",
    "    if lista_de_resultados[0] == max(lista_de_resultados):\n",
    "        return 1\n",
    "    elif lista_de_resultados[1] == max(lista_de_resultados):\n",
    "        return 2\n",
    "    else:\n",
    "        return 3"
   ]
  },
  {
   "cell_type": "markdown",
   "metadata": {},
   "source": [
    "### 9.4 Função resultado:"
   ]
  },
  {
   "cell_type": "code",
   "execution_count": 26,
   "metadata": {},
   "outputs": [],
   "source": [
    "def resultado1(n):\n",
    "    return identifica_valor_maximo(analisa_frase(limpeza_tweet(teste[n])))\n",
    "\n",
    "def resultado2(database_coluna, n):\n",
    "    return identifica_valor_maximo(analisa_frase(limpeza_tweet(database_coluna[n])))\n"
   ]
  },
  {
   "cell_type": "code",
   "execution_count": 27,
   "metadata": {},
   "outputs": [],
   "source": [
    "estimativa = []\n",
    "for k in range(0,len(teste)):\n",
    "    estimativa.append(resultado1(k))\n",
    "\n",
    "planilha_teste[\"Relevância_Estimada\"] = estimativa\n",
    "\n",
    "Acertos = 0\n",
    "for n in planilha_teste.index:\n",
    "    if planilha_teste[\"Relevância_Prevista\"][n] == planilha_teste[\"Relevância_Estimada\"][n]:\n",
    "        Acertos += 1"
   ]
  },
  {
   "cell_type": "code",
   "execution_count": 28,
   "metadata": {},
   "outputs": [
    {
     "data": {
      "text/plain": [
       "1    0.540000\n",
       "3    0.236667\n",
       "2    0.223333\n",
       "Name: Relevância_Prevista, dtype: float64"
      ]
     },
     "execution_count": 28,
     "metadata": {},
     "output_type": "execute_result"
    }
   ],
   "source": [
    "planilha_teste[\"Relevância_Prevista\"].value_counts(True)"
   ]
  },
  {
   "cell_type": "code",
   "execution_count": 29,
   "metadata": {},
   "outputs": [
    {
     "data": {
      "text/plain": [
       "1.0    0.492205\n",
       "2.0    0.285078\n",
       "3.0    0.222717\n",
       "Name: Relevância, dtype: float64"
      ]
     },
     "execution_count": 29,
     "metadata": {},
     "output_type": "execute_result"
    }
   ],
   "source": [
    "planilha_treinamento[\"Relevância\"].value_counts(True)"
   ]
  },
  {
   "cell_type": "code",
   "execution_count": 30,
   "metadata": {},
   "outputs": [
    {
     "data": {
      "text/plain": [
       "1    1.0\n",
       "Name: Relevância_Estimada, dtype: float64"
      ]
     },
     "execution_count": 30,
     "metadata": {},
     "output_type": "execute_result"
    }
   ],
   "source": [
    "planilha_teste[\"Relevância_Estimada\"].value_counts(True)"
   ]
  },
  {
   "cell_type": "code",
   "execution_count": 31,
   "metadata": {},
   "outputs": [
    {
     "data": {
      "text/plain": [
       "0.54"
      ]
     },
     "execution_count": 31,
     "metadata": {},
     "output_type": "execute_result"
    }
   ],
   "source": [
    "Acertos/len(planilha_teste)"
   ]
  },
  {
   "cell_type": "code",
   "execution_count": 32,
   "metadata": {},
   "outputs": [],
   "source": [
    "def return_tweet(quantidade, autorizacao):\n",
    "    \"\"\"return_tweet(autorizacao, quantidade)\"\"\"\n",
    "    api = tweepy.API(autorizacao)\n",
    "    i = 0\n",
    "    __lista__ = []\n",
    "    anterior = {'User Name': 'foo',\n",
    "                'Tweet Created At': 'foo','Tweet Text': 'foo','Relevância': 'foo',\n",
    "                'User Location': 'foo','Phone Type': 'foo',\n",
    "                'Favorite Count': 'foo','Retweets':'foo'}\n",
    "    while i < quantidade:\n",
    "        for msg in tweepy.Cursor(api.search, q=\"{0} -filter:retweets\".format(\"depressao\"), lang='pt', tweet_mode=\"extended\").items():\n",
    "            new_msg = {'Tweet Text': msg.full_text.lower()}\n",
    "            i += 1\n",
    "            if  new_msg[\"Tweet Text\"] not in __lista__:\n",
    "                __lista__.append(new_msg)\n",
    "                if resultado2(list(new_msg[\"Tweet Text\"]),0) == 1:\n",
    "                    __resultado__ = \"Irrelevante\"\n",
    "                elif resultado2(list(new_msg[\"Tweet Text\"]),0) == 2:\n",
    "                    __resultado__ = \"Preocupante\"\n",
    "                elif resultado2(list(new_msg[\"Tweet Text\"]),0) == 3:\n",
    "                    __resultado__ = \"Demonstra interesse pelo tema\"\n",
    "                print(\"[{0}]\\nClassificação:\\t{1}\\nTexto:\\t{2}\".format(i,__resultado__, new_msg[\"Tweet Text\"]))\n",
    "            print(\"\\t -=-=-=-=-= aguardando 4.5 segundos =-=-=-=-=-\\n\\n\")\n",
    "            sleep(4.5)\n",
    "            if i >= quantidade:\n",
    "                break\n",
    "        print(\"[Fim do Programa]\")"
   ]
  },
  {
   "cell_type": "code",
   "execution_count": 39,
   "metadata": {},
   "outputs": [
    {
     "name": "stdout",
     "output_type": "stream",
     "text": [
      "[1]\n",
      "Classificação:\tIrrelevante\n",
      "Texto:\teu era tão segura de mim mesma que parece que sou outra pessoa depois q me afundei nessa merda dessa depressão\n",
      "\t -=-=-=-=-= aguardando 4.5 segundos =-=-=-=-=-\n",
      "\n",
      "\n",
      "[2]\n",
      "Classificação:\tIrrelevante\n",
      "Texto:\tapenas um nerdcast com a agatha e a portuguesa curaria minha depressão\n",
      "\t -=-=-=-=-= aguardando 4.5 segundos =-=-=-=-=-\n",
      "\n",
      "\n",
      "[3]\n",
      "Classificação:\tIrrelevante\n",
      "Texto:\tdepressão tá me dando uma surra hoje, não sei o que fiz pra merecer se tomei meus remédios direitinho :c\n",
      "\t -=-=-=-=-= aguardando 4.5 segundos =-=-=-=-=-\n",
      "\n",
      "\n",
      "[4]\n",
      "Classificação:\tIrrelevante\n",
      "Texto:\tuma vez achei q tava com depressao, mas era só tpm msm https://t.co/yiqqksjuj1\n",
      "\t -=-=-=-=-= aguardando 4.5 segundos =-=-=-=-=-\n",
      "\n",
      "\n",
      "[5]\n",
      "Classificação:\tIrrelevante\n",
      "Texto:\tengraçado que as pessoas me olham sorrindo e não imaginam, que eu posso estar em depressão\n",
      "\t -=-=-=-=-= aguardando 4.5 segundos =-=-=-=-=-\n",
      "\n",
      "\n",
      "[6]\n",
      "Classificação:\tIrrelevante\n",
      "Texto:\tna moral depressão só aparece pra gente perder tempo\n",
      "\t -=-=-=-=-= aguardando 4.5 segundos =-=-=-=-=-\n",
      "\n",
      "\n",
      "[7]\n",
      "Classificação:\tIrrelevante\n",
      "Texto:\t@patgameiro_ o discurso dele não era sobre depressão. eu assisti os stories todos no dia que ele postou (foi bem antes de setembro, inclusive). o tema não foi em momento algum depressão. inclusive ele ajuda diversas pessoas a sair da depressão. conheço algumas que melhoraram o acompanhando.\n",
      "\t -=-=-=-=-= aguardando 4.5 segundos =-=-=-=-=-\n",
      "\n",
      "\n",
      "[8]\n",
      "Classificação:\tIrrelevante\n",
      "Texto:\t@creepylittle_ herpes, aids, sífilis, avc, perna quebrada, depressão, ataque do coração, vício em crack, a porra toda kskskskssk\n",
      "\t -=-=-=-=-= aguardando 4.5 segundos =-=-=-=-=-\n",
      "\n",
      "\n",
      "[9]\n",
      "Classificação:\tIrrelevante\n",
      "Texto:\thoje refleti sobre os 3 anos da minha vida que sofri as piores crises de depressão, ansiedade e pânico\n",
      "de quantas oportunidades eu perdi, mas foi um mal que veio para o bem, mas hj posso esbanjar minha boa saúde mental e progresso\n",
      "\t -=-=-=-=-= aguardando 4.5 segundos =-=-=-=-=-\n",
      "\n",
      "\n",
      "[10]\n",
      "Classificação:\tIrrelevante\n",
      "Texto:\tdepressão dinheiro droga e foda\n",
      "\t -=-=-=-=-= aguardando 4.5 segundos =-=-=-=-=-\n",
      "\n",
      "\n",
      "[11]\n",
      "Classificação:\tIrrelevante\n",
      "Texto:\teu n sei se isso é depressão pós show real, mas sei la eu to me sentindo estranha depois do show, eu sinto que eu to a um ponto de chorar, to me sentindo excluída de novo sla grrr eu n sei o que esta acontecendo\n",
      "\t -=-=-=-=-= aguardando 4.5 segundos =-=-=-=-=-\n",
      "\n",
      "\n",
      "[12]\n",
      "Classificação:\tIrrelevante\n",
      "Texto:\t@depretas oxi, sou capricorniana e só consigo piorar a depressão e ganhar peso. meu ascendente deve ser mto ruim\n",
      "\t -=-=-=-=-= aguardando 4.5 segundos =-=-=-=-=-\n",
      "\n",
      "\n",
      "[13]\n",
      "Classificação:\tIrrelevante\n",
      "Texto:\t@f1eoque_liga quando eu vejo a foto de vcs dois, eu vejo o sorriso dela e me lembro de como ela era feliz antes da depressão se manifestar, e de como ela era linda e não dá pra acreditar q ela se foi, e q agora oq resta é sdd e lembranças de uma menina incrivel❤😔\n",
      "\t -=-=-=-=-= aguardando 4.5 segundos =-=-=-=-=-\n",
      "\n",
      "\n",
      "[14]\n",
      "Classificação:\tIrrelevante\n",
      "Texto:\t@flaviooliveiros vixe, vc concorda até no discurso dele sobre depressão?\n",
      "\t -=-=-=-=-= aguardando 4.5 segundos =-=-=-=-=-\n",
      "\n",
      "\n",
      "[15]\n",
      "Classificação:\tIrrelevante\n",
      "Texto:\to governo lançando campanha contra depressão nos jovens sendo que os jovens não tem um dia de paz no atual governo 👍 https://t.co/nna7a8ozx0\n",
      "\t -=-=-=-=-= aguardando 4.5 segundos =-=-=-=-=-\n",
      "\n",
      "\n",
      "[16]\n",
      "Classificação:\tIrrelevante\n",
      "Texto:\t@brunaalvarenga0 hallo the unroll you asked for: thread by @pablovillaca: \"nos últimos dois dias, a depressão, esta velha inimiga fiel, tem me atormentado com uma força mais condizente com a de u […]\" https://t.co/vfd8xxyxkz\n",
      "enjoy :) 🤖\n",
      "\t -=-=-=-=-= aguardando 4.5 segundos =-=-=-=-=-\n",
      "\n",
      "\n",
      "[17]\n",
      "Classificação:\tIrrelevante\n",
      "Texto:\tque depressão ouvir esse álbum viado\n",
      "\t -=-=-=-=-= aguardando 4.5 segundos =-=-=-=-=-\n",
      "\n",
      "\n",
      "[18]\n",
      "Classificação:\tIrrelevante\n",
      "Texto:\teu me pego diversas vezes não sendo anti racista e fazendo o mesmo que gente que nunca teve depressão quando tenta ajudar quem tem. isso é horrível\n",
      "\t -=-=-=-=-= aguardando 4.5 segundos =-=-=-=-=-\n",
      "\n",
      "\n",
      "[19]\n",
      "Classificação:\tIrrelevante\n",
      "Texto:\tqueria o diva depressão na fazenda\n",
      "\t -=-=-=-=-= aguardando 4.5 segundos =-=-=-=-=-\n",
      "\n",
      "\n",
      "[20]\n",
      "Classificação:\tIrrelevante\n",
      "Texto:\teu tô observando algumas pessoas romantizando depressão e ansiedade, como se fosse a coisa mais bacana e descolada... poxa, tenho péssimas notícias em!\n",
      "\t -=-=-=-=-= aguardando 4.5 segundos =-=-=-=-=-\n",
      "\n",
      "\n",
      "[21]\n",
      "Classificação:\tIrrelevante\n",
      "Texto:\tvocê que paga de entendida a depressão,que quando um amigo se mata,fica aí se lamentando pelos cantos.. para,pq enquanto tem gente gritando,você tá rindo com uns ou outros da “palhaçada” do amiguinho. se poupe\n",
      "\t -=-=-=-=-= aguardando 4.5 segundos =-=-=-=-=-\n",
      "\n",
      "\n",
      "[22]\n",
      "Classificação:\tIrrelevante\n",
      "Texto:\tminha mãe me contou que meu tio estava preocupadi que minha prima estava com depressão (ela tem 11 anos)\n",
      "eu vi uns shorts dela sobre suicídio..  eu entendi q as redes sociais estavam afetando mt ela, eu, quem nem sou próxima notei... cont.\n",
      "\t -=-=-=-=-= aguardando 4.5 segundos =-=-=-=-=-\n",
      "\n",
      "\n",
      "[23]\n",
      "Classificação:\tIrrelevante\n",
      "Texto:\t@tantotupiassu @beatzri e menos estigmas.\n",
      "\n",
      "na geração passada de minha família há td sorte de doenças mentais (bipolaridade, esquizofrenia, alzeheimer, parkinson, depressão), mas nada se falava: era tudo ocultado por vergonha. hoje, incrivelmte, parecemos mais saudáveis pq falamos e tentamos melhorar.\n",
      "\t -=-=-=-=-= aguardando 4.5 segundos =-=-=-=-=-\n",
      "\n",
      "\n",
      "[24]\n",
      "Classificação:\tIrrelevante\n",
      "Texto:\trecentemente descobriram que ela tá com depressão e anda tomando remédio e fazendo terapia\n",
      "\t -=-=-=-=-= aguardando 4.5 segundos =-=-=-=-=-\n",
      "\n",
      "\n",
      "[25]\n",
      "Classificação:\tIrrelevante\n",
      "Texto:\t-você já teve depressão? \n",
      "-sim \n",
      "-e já teve que ouvir alguém falando que era só drama?\n",
      "-não \n",
      "-e já teve depressão???\n",
      "\t -=-=-=-=-= aguardando 4.5 segundos =-=-=-=-=-\n",
      "\n",
      "\n",
      "[26]\n",
      "Classificação:\tIrrelevante\n",
      "Texto:\t@bxlweldss a página é a etim da depressão\n",
      "\t -=-=-=-=-= aguardando 4.5 segundos =-=-=-=-=-\n",
      "\n",
      "\n"
     ]
    },
    {
     "ename": "KeyboardInterrupt",
     "evalue": "",
     "output_type": "error",
     "traceback": [
      "\u001b[1;31m---------------------------------------------------------------------------\u001b[0m",
      "\u001b[1;31mKeyboardInterrupt\u001b[0m                         Traceback (most recent call last)",
      "\u001b[1;32m<ipython-input-39-aec95e59c046>\u001b[0m in \u001b[0;36m<module>\u001b[1;34m\u001b[0m\n\u001b[1;32m----> 1\u001b[1;33m \u001b[0mreturn_tweet\u001b[0m\u001b[1;33m(\u001b[0m\u001b[1;36m50\u001b[0m\u001b[1;33m,\u001b[0m\u001b[0mauth\u001b[0m\u001b[1;33m)\u001b[0m \u001b[1;31m# return_tweet(quantidade, autenticação)\u001b[0m\u001b[1;33m\u001b[0m\u001b[1;33m\u001b[0m\u001b[0m\n\u001b[0m",
      "\u001b[1;32m<ipython-input-32-8336f1b68dc1>\u001b[0m in \u001b[0;36mreturn_tweet\u001b[1;34m(quantidade, autorizacao)\u001b[0m\n\u001b[0;32m     22\u001b[0m                 \u001b[0mprint\u001b[0m\u001b[1;33m(\u001b[0m\u001b[1;34m\"[{0}]\\nClassificação:\\t{1}\\nTexto:\\t{2}\"\u001b[0m\u001b[1;33m.\u001b[0m\u001b[0mformat\u001b[0m\u001b[1;33m(\u001b[0m\u001b[0mi\u001b[0m\u001b[1;33m,\u001b[0m\u001b[0m__resultado__\u001b[0m\u001b[1;33m,\u001b[0m \u001b[0mnew_msg\u001b[0m\u001b[1;33m[\u001b[0m\u001b[1;34m\"Tweet Text\"\u001b[0m\u001b[1;33m]\u001b[0m\u001b[1;33m)\u001b[0m\u001b[1;33m)\u001b[0m\u001b[1;33m\u001b[0m\u001b[1;33m\u001b[0m\u001b[0m\n\u001b[0;32m     23\u001b[0m             \u001b[0mprint\u001b[0m\u001b[1;33m(\u001b[0m\u001b[1;34m\"\\t -=-=-=-=-= aguardando 4.5 segundos =-=-=-=-=-\\n\\n\"\u001b[0m\u001b[1;33m)\u001b[0m\u001b[1;33m\u001b[0m\u001b[1;33m\u001b[0m\u001b[0m\n\u001b[1;32m---> 24\u001b[1;33m             \u001b[0msleep\u001b[0m\u001b[1;33m(\u001b[0m\u001b[1;36m4.5\u001b[0m\u001b[1;33m)\u001b[0m\u001b[1;33m\u001b[0m\u001b[1;33m\u001b[0m\u001b[0m\n\u001b[0m\u001b[0;32m     25\u001b[0m             \u001b[1;32mif\u001b[0m \u001b[0mi\u001b[0m \u001b[1;33m>=\u001b[0m \u001b[0mquantidade\u001b[0m\u001b[1;33m:\u001b[0m\u001b[1;33m\u001b[0m\u001b[1;33m\u001b[0m\u001b[0m\n\u001b[0;32m     26\u001b[0m                 \u001b[1;32mbreak\u001b[0m\u001b[1;33m\u001b[0m\u001b[1;33m\u001b[0m\u001b[0m\n",
      "\u001b[1;31mKeyboardInterrupt\u001b[0m: "
     ]
    }
   ],
   "source": [
    "return_tweet(50,auth) # return_tweet(quantidade, autenticação)"
   ]
  },
  {
   "cell_type": "markdown",
   "metadata": {},
   "source": [
    "## 10. Conclusão"
   ]
  },
  {
   "cell_type": "markdown",
   "metadata": {},
   "source": [
    "<p>Diante do que foi observado, pode-se verificar que a base de dados forneceu um acerto em torno de 54%. Ou seja, mesmo que o resultado não seja tão expressivo, o verificador pode ser útil na identificação de pessoas que possuem indicativo de depressão. Nesse contexto, pode-se pensar em melhorias na base de dados, afim de otimizar o acerto. Um fator que foi utilizado para melhorar o tratamentos dos tweets foi o stemming, que transforma palavras de mesmo radical, bem como a exclusão de preposições e conectivos, que não auxiliam no julgamento do tweet. Análogo a essa melhoria, pode-se pensar em outras maneiras de tratar as palavras, como substituir palavras que são sinônimos.</p>"
   ]
  },
  {
   "cell_type": "markdown",
   "metadata": {},
   "source": [
    "## 11. Referências"
   ]
  },
  {
   "cell_type": "markdown",
   "metadata": {},
   "source": [
    "<li>[Naive Bayes and Text Classification](https://arxiv.org/pdf/1410.5329.pdf)</li>\n",
    "\n",
    "<li>[A practical explanation of a Naive Bayes Classifier](https://monkeylearn.com/blog/practical-explanation-naive-bayes-classifier/)</li>"
   ]
  }
 ],
 "metadata": {
  "kernelspec": {
   "display_name": "Python 3",
   "language": "python",
   "name": "python3"
  },
  "language_info": {
   "codemirror_mode": {
    "name": "ipython",
    "version": 3
   },
   "file_extension": ".py",
   "mimetype": "text/x-python",
   "name": "python",
   "nbconvert_exporter": "python",
   "pygments_lexer": "ipython3",
   "version": "3.7.1"
  }
 },
 "nbformat": 4,
 "nbformat_minor": 4
}
