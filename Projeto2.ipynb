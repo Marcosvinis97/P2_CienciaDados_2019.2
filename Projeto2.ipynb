{
 "cells": [
  {
   "cell_type": "markdown",
   "metadata": {},
   "source": [
    "# Projeto 2 - Ciência dos Dados"
   ]
  },
  {
   "cell_type": "markdown",
   "metadata": {},
   "source": [
    "Nome: Cicero Tiago Carneiro Valentim\n",
    "\n",
    "Nome: Luiz Felipe Lazzaron\n",
    "\n",
    "Nome: Marcos Vinícius da Silva"
   ]
  },
  {
   "cell_type": "markdown",
   "metadata": {},
   "source": [
    "Serão permitidos grupos de três pessoas, mas com uma rubrica mais exigente. Grupos deste tamanho precisarão fazer um questionário de avaliação de trabalho em equipe"
   ]
  },
  {
   "cell_type": "markdown",
   "metadata": {},
   "source": [
    "# Introdução\n",
    "\n",
    "No presente trabalho, visa-se selecionar tweets relevantes para a classificação de postagens que possuem sinais de depressão por parte de seus autores. Nesse contexto, os integrantes dividiram os tweets em três categorias:\n",
    "\n",
    "1. Irrelavantes ou Neutros. Tweets que não indicam quaisquer indício de depressão;\n",
    "2. Relevantes. Tweets que possuem relevância na análise de indicação de depressão;\n",
    "3. Possuem interesse no assunto. Tweets que não demonstram doença mental, mas indicam um interresse no tema e na prevenção de suicídio.\n",
    "\n",
    "Desse modo, com tal classificação, pode-se desenvolver um marketing específico para os públicos 2 e 3; para os relevantes, pode-se oferecer auxílio e suporte psicológico; para aqueles que possuem interesse no tema \"depressão\", pode-se direcionar materiais que ensinem a como lidar com pessoas com depressão."
   ]
  },
  {
   "cell_type": "markdown",
   "metadata": {},
   "source": [
    "___\n",
    "# Classificador automático de sentimento\n"
   ]
  },
  {
   "cell_type": "markdown",
   "metadata": {},
   "source": [
    "## Preparando o ambiente no jupyter:"
   ]
  },
  {
   "cell_type": "code",
   "execution_count": 6,
   "metadata": {
    "jupyter": {
     "outputs_hidden": true
    }
   },
   "outputs": [],
   "source": [
    "import tweepy\n",
    "import math\n",
    "import os.path\n",
    "import pandas as pd\n",
    "import json\n",
    "from random import shuffle"
   ]
  },
  {
   "cell_type": "markdown",
   "metadata": {},
   "source": [
    "___\n",
    "## Autenticando no  Twitter\n",
    "\n",
    "* Conta: ***@MarcosV96118169***"
   ]
  },
  {
   "cell_type": "code",
   "execution_count": 7,
   "metadata": {
    "jupyter": {
     "outputs_hidden": true
    }
   },
   "outputs": [],
   "source": [
    "#Dados de autenticação do twitter:\n",
    "\n",
    "#Coloque aqui o identificador da conta no twitter: @MarcosV96118169\n",
    "\n",
    "#leitura do arquivo no formato JSON\n",
    "with open('auth.pass') as fp:    \n",
    "    data = json.load(fp)\n",
    "\n",
    "#Configurando a biblioteca. Não modificar\n",
    "auth = tweepy.OAuthHandler(data['consumer_key'], data['consumer_secret'])\n",
    "auth.set_access_token(data['access_token'], data['access_token_secret'])"
   ]
  },
  {
   "cell_type": "markdown",
   "metadata": {},
   "source": [
    "___\n",
    "## Etapas do projeto:"
   ]
  },
  {
   "cell_type": "markdown",
   "metadata": {},
   "source": [
    "### Escolha de um produto e coleta das mensagens\n"
   ]
  },
  {
   "cell_type": "code",
   "execution_count": 8,
   "metadata": {
    "jupyter": {
     "outputs_hidden": true
    }
   },
   "outputs": [],
   "source": [
    "#Produto escolhido:\n",
    "produto = 'Depressão'\n",
    "\n",
    "#Quantidade mínima de mensagens capturadas:\n",
    "n = 500\n",
    "#Quantidade mínima de mensagens para a base de treinamento:\n",
    "t = 300\n",
    "\n",
    "#Filtro de língua, escolha uma na tabela ISO 639-1.\n",
    "lang = 'pt'"
   ]
  },
  {
   "cell_type": "markdown",
   "metadata": {},
   "source": [
    "Capturando os dados do twitter:"
   ]
  },
  {
   "cell_type": "code",
   "execution_count": 9,
   "metadata": {
    "jupyter": {
     "outputs_hidden": true
    },
    "scrolled": true
   },
   "outputs": [],
   "source": [
    "# Cria um objeto para a captura\n",
    "# api = tweepy.API(auth)\n",
    "\n",
    "#Inicia a captura, para mais detalhes: ver a documentação do tweepy\n",
    "# i = 1\n",
    "# for msg in tweepy.Cursor(api.search, q=produto, lang=lang, tweet_mode=\"extended\").items():\n",
    "#     new_msg = { 'User Name': msg.user.name,\n",
    "#                 'Tweet Created At': msg.created_at,\n",
    "#                 'Tweet Text': msg.full_text.lower(),\n",
    "#                 'User Location': msg.user.location,\n",
    "#                 'Phone Type': msg.source,\n",
    "#                 'Favorite Count': msg.favorite_count,\n",
    "#                 'Retweets':msg.retweet_count\n",
    "#                 }\n",
    "#     if i > n:\n",
    "#         break\n",
    "\n",
    "#Embaralhando as mensagens para reduzir um possível viés\n",
    "# shuffle(msgs)"
   ]
  },
  {
   "cell_type": "code",
   "execution_count": 10,
   "metadata": {},
   "outputs": [],
   "source": [
    "#Criando um Dataframe com a Base de Dados\n",
    "# pd.set_option('display.max_colwidth', -1)\n",
    "# pd.DataFrame(msgs)"
   ]
  },
  {
   "cell_type": "markdown",
   "metadata": {},
   "source": [
    "Salvando os dados em uma planilha Excel:"
   ]
  },
  {
   "cell_type": "code",
   "execution_count": 11,
   "metadata": {
    "jupyter": {
     "outputs_hidden": true
    }
   },
   "outputs": [],
   "source": [
    "#Verifica se o arquivo não existe para não substituir um conjunto pronto\n",
    "# if not os.path.isfile('./{0}.xlsx'.format(produto)):\n",
    "    \n",
    "    #Abre o arquivo para escrita\n",
    "#     writer = pd.ExcelWriter('{0}.xlsx'.format(produto))\n",
    "\n",
    "    #divide o conjunto de mensagens em duas planilhas\n",
    "#     dft = pd.DataFrame({'Treinamento' : pd.Series(msgs[:t])})\n",
    "#     dft.to_excel(excel_writer = writer, sheet_name = 'Treinamento', index = False)\n",
    "\n",
    "#     dfc = pd.DataFrame({'Teste' : pd.Series(msgs[t:])})\n",
    "#     dfc.to_excel(excel_writer = writer, sheet_name = 'Teste', index = False)\n",
    "\n",
    "    #fecha o arquivo\n",
    "#     writer.save()"
   ]
  },
  {
   "cell_type": "markdown",
   "metadata": {},
   "source": [
    "___\n",
    "### Classificando as mensagens na coragem\n",
    "\n",
    "Esta etapa é manual. Faça a mesma pelo Excel."
   ]
  },
  {
   "cell_type": "code",
   "execution_count": 12,
   "metadata": {},
   "outputs": [],
   "source": [
    "planilha_treinamento = pd.read_excel('depressao.xlsx', \"Treinamento\")\n",
    "planilha_teste = pd.read_excel('depressao.xlsx', \"Teste\")\n",
    "pd.set_option('display.max_colwidth', -1)"
   ]
  },
  {
   "cell_type": "code",
   "execution_count": 13,
   "metadata": {
    "scrolled": true
   },
   "outputs": [
    {
     "data": {
      "text/html": [
       "<div>\n",
       "<style scoped>\n",
       "    .dataframe tbody tr th:only-of-type {\n",
       "        vertical-align: middle;\n",
       "    }\n",
       "\n",
       "    .dataframe tbody tr th {\n",
       "        vertical-align: top;\n",
       "    }\n",
       "\n",
       "    .dataframe thead th {\n",
       "        text-align: right;\n",
       "    }\n",
       "</style>\n",
       "<table border=\"1\" class=\"dataframe\">\n",
       "  <thead>\n",
       "    <tr style=\"text-align: right;\">\n",
       "      <th></th>\n",
       "      <th>Favorite Count</th>\n",
       "      <th>Phone Type</th>\n",
       "      <th>Retweets</th>\n",
       "      <th>Tweet Created At</th>\n",
       "      <th>Tweet Text</th>\n",
       "      <th>Relevância</th>\n",
       "      <th>User Location</th>\n",
       "      <th>User Name</th>\n",
       "    </tr>\n",
       "  </thead>\n",
       "  <tbody>\n",
       "    <tr>\n",
       "      <th>0</th>\n",
       "      <td>1</td>\n",
       "      <td>Twitter for iPhone</td>\n",
       "      <td>0</td>\n",
       "      <td>2019-09-10 22:11:57</td>\n",
       "      <td>uma das partes mais chatas da depressão é a impressão errada que vc deixa pra pessoas com as quais vc realmente se importa pq vc não consegue de fato ser vc mesmo</td>\n",
       "      <td>2.0</td>\n",
       "      <td>Lille, France</td>\n",
       "      <td>alívio cômico</td>\n",
       "    </tr>\n",
       "    <tr>\n",
       "      <th>1</th>\n",
       "      <td>0</td>\n",
       "      <td>Twitter for Android</td>\n",
       "      <td>0</td>\n",
       "      <td>2019-09-10 21:08:53</td>\n",
       "      <td>falei pra minha mãe sobre ter ansiedade e ela \"n precisa ter ansiedade\"\\n\\ndps eu disse q quando trabalhar irei na psicóloga e ela \"vc ta com depressão?\"\\n\\nfoda viu kkk</td>\n",
       "      <td>1.0</td>\n",
       "      <td>26•07•18 | ▪jaguar</td>\n",
       "      <td>paola 🌈</td>\n",
       "    </tr>\n",
       "    <tr>\n",
       "      <th>2</th>\n",
       "      <td>0</td>\n",
       "      <td>Twitter for Android</td>\n",
       "      <td>0</td>\n",
       "      <td>2019-09-10 21:04:31</td>\n",
       "      <td>e ainda vrm a depressao https://t.co/3qpgzs4ebu</td>\n",
       "      <td>1.0</td>\n",
       "      <td>São Paulo, Brasil</td>\n",
       "      <td>Gracy 🙊🤞⚡</td>\n",
       "    </tr>\n",
       "    <tr>\n",
       "      <th>3</th>\n",
       "      <td>0</td>\n",
       "      <td>Twitter for Android</td>\n",
       "      <td>0</td>\n",
       "      <td>2019-09-10 21:32:22</td>\n",
       "      <td>porra pq sempre quando eu falo que tenho depressão o povo não acredita</td>\n",
       "      <td>2.0</td>\n",
       "      <td>Rio de Janeiro, Brasil</td>\n",
       "      <td>Davilla</td>\n",
       "    </tr>\n",
       "    <tr>\n",
       "      <th>4</th>\n",
       "      <td>2</td>\n",
       "      <td>Twitter Web App</td>\n",
       "      <td>0</td>\n",
       "      <td>2019-09-10 21:33:20</td>\n",
       "      <td>desculpa ter desmarcado nossa saída eu realmente queria sair c vc mas a depressão puxou meu pé no último momento e eu fiquei insegura c a sensação de que algo ia dar errado</td>\n",
       "      <td>2.0</td>\n",
       "      <td>NaN</td>\n",
       "      <td>Sapatrem</td>\n",
       "    </tr>\n",
       "  </tbody>\n",
       "</table>\n",
       "</div>"
      ],
      "text/plain": [
       "   Favorite Count           Phone Type  Retweets    Tweet Created At  \\\n",
       "0  1               Twitter for iPhone   0        2019-09-10 22:11:57   \n",
       "1  0               Twitter for Android  0        2019-09-10 21:08:53   \n",
       "2  0               Twitter for Android  0        2019-09-10 21:04:31   \n",
       "3  0               Twitter for Android  0        2019-09-10 21:32:22   \n",
       "4  2               Twitter Web App      0        2019-09-10 21:33:20   \n",
       "\n",
       "                                                                                                                                                                     Tweet Text  \\\n",
       "0  uma das partes mais chatas da depressão é a impressão errada que vc deixa pra pessoas com as quais vc realmente se importa pq vc não consegue de fato ser vc mesmo             \n",
       "1  falei pra minha mãe sobre ter ansiedade e ela \"n precisa ter ansiedade\"\\n\\ndps eu disse q quando trabalhar irei na psicóloga e ela \"vc ta com depressão?\"\\n\\nfoda viu kkk      \n",
       "2  e ainda vrm a depressao https://t.co/3qpgzs4ebu                                                                                                                                \n",
       "3  porra pq sempre quando eu falo que tenho depressão o povo não acredita                                                                                                         \n",
       "4  desculpa ter desmarcado nossa saída eu realmente queria sair c vc mas a depressão puxou meu pé no último momento e eu fiquei insegura c a sensação de que algo ia dar errado   \n",
       "\n",
       "   Relevância           User Location      User Name  \n",
       "0  2.0         Lille, France           alívio cômico  \n",
       "1  1.0         26•07•18 | ▪jaguar      paola 🌈        \n",
       "2  1.0         São Paulo, Brasil       Gracy 🙊🤞⚡      \n",
       "3  2.0         Rio de Janeiro, Brasil  Davilla        \n",
       "4  2.0         NaN                     Sapatrem       "
      ]
     },
     "execution_count": 13,
     "metadata": {},
     "output_type": "execute_result"
    }
   ],
   "source": [
    "planilha_treinamento.head()"
   ]
  },
  {
   "cell_type": "code",
   "execution_count": 14,
   "metadata": {},
   "outputs": [
    {
     "data": {
      "text/html": [
       "<div>\n",
       "<style scoped>\n",
       "    .dataframe tbody tr th:only-of-type {\n",
       "        vertical-align: middle;\n",
       "    }\n",
       "\n",
       "    .dataframe tbody tr th {\n",
       "        vertical-align: top;\n",
       "    }\n",
       "\n",
       "    .dataframe thead th {\n",
       "        text-align: right;\n",
       "    }\n",
       "</style>\n",
       "<table border=\"1\" class=\"dataframe\">\n",
       "  <thead>\n",
       "    <tr style=\"text-align: right;\">\n",
       "      <th></th>\n",
       "      <th>Favorite Count</th>\n",
       "      <th>Phone Type</th>\n",
       "      <th>Retweets</th>\n",
       "      <th>Tweet Created At</th>\n",
       "      <th>Tweet Text</th>\n",
       "      <th>Relevância</th>\n",
       "      <th>User Location</th>\n",
       "      <th>User Name</th>\n",
       "    </tr>\n",
       "  </thead>\n",
       "  <tbody>\n",
       "    <tr>\n",
       "      <th>0</th>\n",
       "      <td>0</td>\n",
       "      <td>Facebook</td>\n",
       "      <td>0</td>\n",
       "      <td>2019-09-10 21:05:19</td>\n",
       "      <td>já passou da hora de legalizar! criança sofrendo com epilepsia, milhares sofrendo com alzheimer, parkinson, depressão e ansiedade, dores crônicas,  e uma planta que resolve esses problemas sendo proibida para um governo corrupto lucrar com o tráfico... https://t.co/460cco225l</td>\n",
       "      <td>1</td>\n",
       "      <td>Brasil</td>\n",
       "      <td>GRAZI 🍀</td>\n",
       "    </tr>\n",
       "    <tr>\n",
       "      <th>1</th>\n",
       "      <td>0</td>\n",
       "      <td>Twitter for iPhone</td>\n",
       "      <td>0</td>\n",
       "      <td>2019-09-10 22:18:12</td>\n",
       "      <td>hoje eu só queria que a depressão não estivesse do meu lado 😢</td>\n",
       "      <td>2</td>\n",
       "      <td>Nao te interessa</td>\n",
       "      <td>Napaula</td>\n",
       "    </tr>\n",
       "    <tr>\n",
       "      <th>2</th>\n",
       "      <td>6</td>\n",
       "      <td>Twitter for iPhone</td>\n",
       "      <td>0</td>\n",
       "      <td>2019-09-10 21:23:39</td>\n",
       "      <td>vcs que zoam coleguinha que tem depressão dizendo que é frescura são um bando de desalmado filha da puta, falam umas merdas dessas e depois fica postando coisa de setembro amarelo</td>\n",
       "      <td>1</td>\n",
       "      <td>NaN</td>\n",
       "      <td>najulia</td>\n",
       "    </tr>\n",
       "    <tr>\n",
       "      <th>3</th>\n",
       "      <td>0</td>\n",
       "      <td>Twitter for Android</td>\n",
       "      <td>0</td>\n",
       "      <td>2019-09-10 21:20:38</td>\n",
       "      <td>hoje teve palestra no trabalho sobre depressão por causa do setembro amarelo</td>\n",
       "      <td>3</td>\n",
       "      <td>ㅤfanfan ♡</td>\n",
       "      <td>ؘ</td>\n",
       "    </tr>\n",
       "    <tr>\n",
       "      <th>4</th>\n",
       "      <td>0</td>\n",
       "      <td>Twitter Web App</td>\n",
       "      <td>0</td>\n",
       "      <td>2019-09-10 21:21:20</td>\n",
       "      <td>depressão pós perder garrafinha</td>\n",
       "      <td>1</td>\n",
       "      <td>NaN</td>\n",
       "      <td>❀ carla ❀</td>\n",
       "    </tr>\n",
       "  </tbody>\n",
       "</table>\n",
       "</div>"
      ],
      "text/plain": [
       "   Favorite Count           Phone Type  Retweets    Tweet Created At  \\\n",
       "0  0               Facebook             0        2019-09-10 21:05:19   \n",
       "1  0               Twitter for iPhone   0        2019-09-10 22:18:12   \n",
       "2  6               Twitter for iPhone   0        2019-09-10 21:23:39   \n",
       "3  0               Twitter for Android  0        2019-09-10 21:20:38   \n",
       "4  0               Twitter Web App      0        2019-09-10 21:21:20   \n",
       "\n",
       "                                                                                                                                                                                                                                                                             Tweet Text  \\\n",
       "0  já passou da hora de legalizar! criança sofrendo com epilepsia, milhares sofrendo com alzheimer, parkinson, depressão e ansiedade, dores crônicas,  e uma planta que resolve esses problemas sendo proibida para um governo corrupto lucrar com o tráfico... https://t.co/460cco225l   \n",
       "1  hoje eu só queria que a depressão não estivesse do meu lado 😢                                                                                                                                                                                                                          \n",
       "2  vcs que zoam coleguinha que tem depressão dizendo que é frescura são um bando de desalmado filha da puta, falam umas merdas dessas e depois fica postando coisa de setembro amarelo                                                                                                    \n",
       "3  hoje teve palestra no trabalho sobre depressão por causa do setembro amarelo                                                                                                                                                                                                           \n",
       "4  depressão pós perder garrafinha                                                                                                                                                                                                                                                        \n",
       "\n",
       "   Relevância     User Location  User Name  \n",
       "0  1           Brasil            GRAZI 🍀    \n",
       "1  2           Nao te interessa  Napaula    \n",
       "2  1           NaN               najulia    \n",
       "3  3           ㅤfanfan ♡         ؘ          \n",
       "4  1           NaN               ❀ carla ❀  "
      ]
     },
     "execution_count": 14,
     "metadata": {},
     "output_type": "execute_result"
    }
   ],
   "source": [
    "planilha_teste.head()"
   ]
  },
  {
   "cell_type": "markdown",
   "metadata": {},
   "source": [
    "___\n",
    "# Montando o Classificador Naive-Bayes\n"
   ]
  },
  {
   "cell_type": "markdown",
   "metadata": {},
   "source": [
    "Primeiramente, iremos trabalhar com o dataframe treinamento, criando três banco de dados:\n",
    "    \n",
    "- **Grupo 1 - Irrelevantes/Neutros**: *group_1*\n",
    "- **Grupo 2 - Relevantes**: *group_2*\n",
    "- **Grupo 3 - Interesse no Assunto**: *group_3*\n"
   ]
  },
  {
   "cell_type": "code",
   "execution_count": 15,
   "metadata": {},
   "outputs": [],
   "source": [
    "group_1 = planilha_treinamento[planilha_treinamento[\"Relevância\"] == 1]"
   ]
  },
  {
   "cell_type": "code",
   "execution_count": 16,
   "metadata": {},
   "outputs": [],
   "source": [
    "group_2 = planilha_treinamento[planilha_treinamento[\"Relevância\"] == 2]"
   ]
  },
  {
   "cell_type": "code",
   "execution_count": 17,
   "metadata": {},
   "outputs": [],
   "source": [
    "group_3 = planilha_treinamento[planilha_treinamento[\"Relevância\"] == 3]"
   ]
  },
  {
   "cell_type": "markdown",
   "metadata": {},
   "source": [
    "## Identificação de Emojis\n",
    "\n",
    "A identificação dos Emojis é uma parte importante no código, pois eles podem ser traduzidos para sentimento. Desse modo, considerou-se os seguintes emojis para a classificação nos grupos\n",
    "\n",
    "- Irrelevantes: 😂\n",
    "\n",
    "- Relevantes: 😰,😢,😔,😬,😭,😥,😖\n",
    "\n",
    "- Interesse no Assunto: 🎗,❤\n",
    "\n"
   ]
  },
  {
   "cell_type": "code",
   "execution_count": 18,
   "metadata": {},
   "outputs": [
    {
     "name": "stdout",
     "output_type": "stream",
     "text": [
      "Requirement already satisfied: emoji in c:\\users\\user\\anaconda3\\lib\\site-packages (0.5.4)\n"
     ]
    }
   ],
   "source": [
    "#Bibliotecas para a Identificação de Emojis\n",
    "!pip install emoji\n",
    "from emoji import UNICODE_EMOJI"
   ]
  },
  {
   "cell_type": "code",
   "execution_count": 19,
   "metadata": {},
   "outputs": [],
   "source": [
    "emojis_group_1 = [\"😂\"]\n",
    "emojis_group_2 = ['😰','😢','😔','😬','😭','😥','😖']\n",
    "emojis_group_3 = ['🎗','❤']"
   ]
  },
  {
   "cell_type": "code",
   "execution_count": 21,
   "metadata": {},
   "outputs": [],
   "source": [
    "def exist_emoji(text):\n",
    "    test = False\n",
    "    tipo = 0\n",
    "    for string in text:\n",
    "        if string in UNICODE_EMOJI:\n",
    "            test = True\n",
    "            if string in emojis_group_1: # emojis_group_3\n",
    "                tipo = 1 # tipo = 3\n",
    "            elif string in emojis_group_2:\n",
    "                tipo = 2\n",
    "            elif string in emojis_group_3: # else:\n",
    "                tipo = 3 # tipo = 1\n",
    "    return test,tipo"
   ]
  },
  {
   "cell_type": "code",
   "execution_count": 40,
   "metadata": {},
   "outputs": [
    {
     "name": "stdout",
     "output_type": "stream",
     "text": [
      "(False, 0)\n",
      "(True, 2)\n"
     ]
    }
   ],
   "source": [
    "#Exemplo\n",
    "print(exist_emoji(\"hoje eu só queria que a depressão não estivesse do meu lado\"))\n",
    "print(exist_emoji(\"hoje eu só queria que a depressão não estivesse do meu lado 😔\"))"
   ]
  },
  {
   "cell_type": "markdown",
   "metadata": {},
   "source": [
    "## Função de Limpeza dos Acentos "
   ]
  },
  {
   "cell_type": "code",
   "execution_count": 34,
   "metadata": {},
   "outputs": [],
   "source": [
    "import re \n",
    "\n",
    "def cleanup(text):\n",
    "    \"\"\"\n",
    "        Função de limpeza muito simples que troca alguns sinais básicos por espaços\n",
    "    \"\"\"\n",
    "    punctuation = '[!\\-.:?;]' # Note que os sinais [] são delimitadores de um conjunto.\n",
    "    pattern = re.compile(punctuation)\n",
    "    text_subbed = re.sub(pattern, ' ', text)\n",
    "    return text_subbed    "
   ]
  },
  {
   "cell_type": "markdown",
   "metadata": {},
   "source": [
    "## Grupo 1: Irrelevante/Neutro"
   ]
  },
  {
   "cell_type": "code",
   "execution_count": 82,
   "metadata": {
    "scrolled": true
   },
   "outputs": [
    {
     "name": "stdout",
     "output_type": "stream",
     "text": [
      "0\n",
      "e                  0.028509\n",
      "depressão          0.027778\n",
      "que                0.024854\n",
      "de                 0.024123\n",
      "é                  0.018275\n",
      "a                  0.016813\n",
      "o                  0.014620\n",
      "pra                0.012427\n",
      "em                 0.012427\n",
      "com                0.010234\n",
      "só                 0.009503\n",
      "se                 0.009503\n",
      "eu                 0.009503\n",
      "do                 0.008772\n",
      "sobre              0.008772\n",
      "setembro           0.008772\n",
      "um                 0.008041\n",
      "não                0.008041\n",
      "q                  0.008041\n",
      "uma                0.007310\n",
      "tem                0.006579\n",
      "da                 0.006579\n",
      "minha              0.005848\n",
      "no                 0.005848\n",
      "por                0.005848\n",
      "para               0.005848\n",
      "na                 0.005117\n",
      "quem               0.005117\n",
      "quando             0.005117\n",
      "falar              0.004386\n",
      "                     ...   \n",
      "quanto             0.000731\n",
      "sai                0.000731\n",
      "@eiotariano        0.000731\n",
      "cvs                0.000731\n",
      "sofre.             0.000731\n",
      "tanta              0.000731\n",
      "poderia            0.000731\n",
      "itaboraí-rj        0.000731\n",
      "frescura           0.000731\n",
      "matar\"             0.000731\n",
      "curar              0.000731\n",
      "aparece            0.000731\n",
      "escutando          0.000731\n",
      "filipa.....isso    0.000731\n",
      "pedido             0.000731\n",
      "tomava             0.000731\n",
      "acontece           0.000731\n",
      "anos               0.000731\n",
      "acorda             0.000731\n",
      "desse              0.000731\n",
      "depressão.hoje     0.000731\n",
      "esta               0.000731\n",
      "448                0.000731\n",
      "sabe               0.000731\n",
      "engraçado          0.000731\n",
      "🎗precisando        0.000731\n",
      "filho              0.000731\n",
      "sozinho!           0.000731\n",
      "pensanossa         0.000731\n",
      "                   0.000731\n",
      "Length: 748, dtype: float64\n"
     ]
    }
   ],
   "source": [
    "tweet_group_1 = group_1['Tweet Text'] \n",
    "tweet_group_1 = str(tweet_group_1)\n",
    "tweet_group_1 = tweet_group_1.split()\n",
    "\n",
    "for i in range(len(tweet_group_1)):\n",
    "    tweet_group_1[i] = tweet_group_1[i].replace('\\\\n','')\n",
    "    if 'https' in tweet_group_1[i]:\n",
    "        tweet_group_1[i] = 'http'\n",
    "for i in range(tweet_group_1.count('http')):\n",
    "    tweet_group_1.remove('http')                            # remove links iniciados com 'http'\n",
    "\n",
    "tweet_group_1 = pd.Series(tweet_group_1)\n",
    "tabela_tweet_group_1_relativa = tweet_group_1.value_counts(normalize = True)\n",
    "print(tabela_tweet_group_1_relativa)"
   ]
  },
  {
   "cell_type": "code",
   "execution_count": 58,
   "metadata": {
    "scrolled": true
   },
   "outputs": [
    {
     "data": {
      "text/plain": [
       "que                55\n",
       "e                  51\n",
       "de                 45\n",
       "a                  42\n",
       "eu                 42\n",
       "depressão          39\n",
       "não                26\n",
       "é                  18\n",
       "pra                18\n",
       "um                 18\n",
       "minha              18\n",
       "uma                16\n",
       "se                 16\n",
       "o                  16\n",
       "me                 15\n",
       "com                15\n",
       "mas                12\n",
       "já                 11\n",
       "as                 11\n",
       "vc                 11\n",
       "da                 10\n",
       "no                 10\n",
       "por                10\n",
       "em                 10\n",
       "mais               10\n",
       "tenho              9 \n",
       "como               9 \n",
       "do                 8 \n",
       "depressão,         8 \n",
       "q                  8 \n",
       "                  .. \n",
       "inferno            1 \n",
       "garganta           1 \n",
       "tava               1 \n",
       "bateu              1 \n",
       "46                 1 \n",
       "chapa              1 \n",
       "para               1 \n",
       "solução            1 \n",
       "depressao....💭💔    1 \n",
       "passando           1 \n",
       "tanta              1 \n",
       "culpa              1 \n",
       "comigo,            1 \n",
       "amiga              1 \n",
       "daí                1 \n",
       "tomei              1 \n",
       "mesma,             1 \n",
       "421                1 \n",
       "assediada          1 \n",
       "coisas             1 \n",
       "ruim               1 \n",
       "ideia              1 \n",
       "395                1 \n",
       "dtype:             1 \n",
       "\\neu               1 \n",
       "paralisia          1 \n",
       "cara               1 \n",
       "concelho           1 \n",
       "guardar            1 \n",
       "366                1 \n",
       "Length: 777, dtype: int64"
      ]
     },
     "execution_count": 58,
     "metadata": {},
     "output_type": "execute_result"
    }
   ],
   "source": [
    "tweet_group_2 = group_2['Tweet Text']\n",
    "\n",
    "tweet_group_2 = str(tweet_group_2)\n",
    "tweet_group_2 = pd.Series(tweet_group_2.split())\n",
    "tabela_tweet_group_2_relativa = tweet_group_2.value_counts(normalize = False)\n",
    "tabela_tweet_group_2_relativa"
   ]
  },
  {
   "cell_type": "markdown",
   "metadata": {},
   "source": [
    "___\n",
    "### Verificando a performance\n",
    "\n",
    "Agora você deve testar o seu classificador com a base de Testes."
   ]
  },
  {
   "cell_type": "code",
   "execution_count": null,
   "metadata": {},
   "outputs": [],
   "source": []
  },
  {
   "cell_type": "code",
   "execution_count": null,
   "metadata": {},
   "outputs": [],
   "source": []
  },
  {
   "cell_type": "code",
   "execution_count": null,
   "metadata": {},
   "outputs": [],
   "source": []
  },
  {
   "cell_type": "markdown",
   "metadata": {},
   "source": [
    "___\n",
    "### Concluindo"
   ]
  },
  {
   "cell_type": "code",
   "execution_count": null,
   "metadata": {},
   "outputs": [],
   "source": []
  },
  {
   "cell_type": "code",
   "execution_count": null,
   "metadata": {},
   "outputs": [],
   "source": []
  },
  {
   "cell_type": "markdown",
   "metadata": {},
   "source": [
    "## Aperfeiçoamento:\n",
    "\n",
    "Os trabalhos vão evoluir em conceito dependendo da quantidade de itens avançados:\n",
    "\n",
    "* Limpar: \\n, :, \", ', (, ), etc SEM remover emojis\n",
    "* Corrigir separação de espaços entre palavras e emojis ou emojis e emojis\n",
    "* Propor outras limpezas e transformações que não afetem a qualidade da informação ou classificação\n",
    "* Criar categorias intermediárias de relevância baseadas na probabilidade: ex.: muito relevante, relevante, neutro, irrelevante, muito irrelevante (3 categorias: C, mais categorias conta para B)\n",
    "* Explicar por que não posso usar o próprio classificador para gerar mais amostras de treinamento\n",
    "* Propor diferentes cenários para Naïve Bayes fora do contexto do projeto\n",
    "* Sugerir e explicar melhorias reais com indicações concretas de como implementar (indicar como fazer e indicar material de pesquisa)\n",
    "* Montar um dashboard que periodicamente realiza análise de sentimento e visualiza estes dados"
   ]
  },
  {
   "cell_type": "markdown",
   "metadata": {},
   "source": [
    "# Referências"
   ]
  },
  {
   "cell_type": "markdown",
   "metadata": {},
   "source": [
    "[Naive Bayes and Text Classification](https://arxiv.org/pdf/1410.5329.pdf)  **Mais completo**\n",
    "\n",
    "[A practical explanation of a Naive Bayes Classifier](https://monkeylearn.com/blog/practical-explanation-naive-bayes-classifier/) **Mais simples**"
   ]
  },
  {
   "cell_type": "code",
   "execution_count": null,
   "metadata": {},
   "outputs": [],
   "source": []
  }
 ],
 "metadata": {
  "kernelspec": {
   "display_name": "Python 3",
   "language": "python",
   "name": "python3"
  },
  "language_info": {
   "codemirror_mode": {
    "name": "ipython",
    "version": 3
   },
   "file_extension": ".py",
   "mimetype": "text/x-python",
   "name": "python",
   "nbconvert_exporter": "python",
   "pygments_lexer": "ipython3",
   "version": "3.7.1"
  }
 },
 "nbformat": 4,
 "nbformat_minor": 4
}
