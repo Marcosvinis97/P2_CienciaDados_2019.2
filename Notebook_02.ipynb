{
 "cells": [
  {
   "cell_type": "markdown",
   "metadata": {},
   "source": [
    "#### Importanto NLTK e RSLP:"
   ]
  },
  {
   "cell_type": "code",
   "execution_count": 140,
   "metadata": {},
   "outputs": [
    {
     "name": "stdout",
     "output_type": "stream",
     "text": [
      "Requirement already satisfied: emoji in c:\\users\\user\\anaconda3\\lib\\site-packages (0.5.4)\n",
      "Requirement already satisfied: nltk in c:\\users\\user\\anaconda3\\lib\\site-packages (3.4)\n",
      "Requirement already satisfied: six in c:\\users\\user\\anaconda3\\lib\\site-packages (from nltk) (1.12.0)\n",
      "Requirement already satisfied: singledispatch in c:\\users\\user\\anaconda3\\lib\\site-packages (from nltk) (3.4.0.3)\n"
     ]
    }
   ],
   "source": [
    "!pip install emoji\n",
    "!pip install nltk\n",
    "import nltk \n",
    "from nltk.stem import RSLPStemmer\n",
    "from emoji import UNICODE_EMOJI\n",
    "import emoji\n",
    "import re \n",
    "import functools\n",
    "import operator\n",
    "import tweepy\n",
    "import math\n",
    "import os.path\n",
    "import pandas as pd\n",
    "import json\n",
    "from random import shuffle\n",
    "#nltk.download('rslp')\n",
    "#nltk.download('stopwords')\n",
    "#nltk.download('punkt')"
   ]
  },
  {
   "cell_type": "markdown",
   "metadata": {},
   "source": [
    "### Criando funções necessárias para análise:"
   ]
  },
  {
   "cell_type": "markdown",
   "metadata": {},
   "source": [
    "<h4>Função Tokenize:</h4><p>Essa função serve para quebrarmos nosso texto por palavras, criando desse modo um array com todas as palavras contidas dentro do texto.</p>"
   ]
  },
  {
   "cell_type": "code",
   "execution_count": 141,
   "metadata": {},
   "outputs": [],
   "source": [
    "def Tokenize(sentence):\n",
    "    sentence = sentence.lower()\n",
    "    sentence = nltk.word_tokenize(sentence)\n",
    "    return sentence"
   ]
  },
  {
   "cell_type": "code",
   "execution_count": 142,
   "metadata": {},
   "outputs": [
    {
     "name": "stdout",
     "output_type": "stream",
     "text": [
      "['se', 'ele', 'falhou', 'meu', 'amigo', ',', 'o', 'problema', 'é', 'dele', '!', 'estou', 'viajando', 'nesse', 'comentário', '.']\n"
     ]
    }
   ],
   "source": [
    "frase_teste = \"Se ele falhou meu amigo, o problema é dele! Estou viajando nesse comentário.\"\n",
    "frase_teste = Tokenize(frase_teste)\n",
    "print(frase_teste)\n"
   ]
  },
  {
   "cell_type": "markdown",
   "metadata": {},
   "source": [
    "<h4>Função Stemming:</h4><p>Essa função serve para diminuirmos a palavra até a sua raiz, pois assim, conseguimos tratar as palavras originais e suas respectivas derivações de uma mesma maneira.</p>"
   ]
  },
  {
   "cell_type": "code",
   "execution_count": 143,
   "metadata": {},
   "outputs": [],
   "source": [
    "def Stemming(sentence):\n",
    "    stemmer = RSLPStemmer()\n",
    "    phrase = []\n",
    "    for word in sentence:\n",
    "        phrase.append(stemmer.stem(word.lower()))\n",
    "    return phrase"
   ]
  },
  {
   "cell_type": "code",
   "execution_count": 144,
   "metadata": {},
   "outputs": [
    {
     "name": "stdout",
     "output_type": "stream",
     "text": [
      "['se', 'ele', 'falh', 'meu', 'amig', ',', 'o', 'problem', 'é', 'del', '!', 'est', 'viaj', 'ness', 'coment', '.']\n"
     ]
    }
   ],
   "source": [
    "frase_teste = Stemming(frase_teste)\n",
    "print(frase_teste)"
   ]
  },
  {
   "cell_type": "markdown",
   "metadata": {},
   "source": [
    "<h4>RemoveStopWords:</h4><p>Essa função serve para retirarmos dentro do nosso array algumas palavras que não são interessantes para contabilizarmos uma pontuação na hora de classificar o nosso texto, então mantemos somente as palavras principais.</p>"
   ]
  },
  {
   "cell_type": "code",
   "execution_count": 145,
   "metadata": {},
   "outputs": [],
   "source": [
    "def RemoveStopWords(sentence):\n",
    "    stopwords = nltk.corpus.stopwords.words('portuguese')\n",
    "    phrase = []\n",
    "    for word in sentence:\n",
    "        if word not in stopwords:\n",
    "            phrase.append(word)\n",
    "    return phrase"
   ]
  },
  {
   "cell_type": "code",
   "execution_count": 146,
   "metadata": {},
   "outputs": [
    {
     "name": "stdout",
     "output_type": "stream",
     "text": [
      "['falh', 'amig', ',', 'problem', 'del', '!', 'est', 'viaj', 'ness', 'coment', '.']\n"
     ]
    }
   ],
   "source": [
    "frase_teste = RemoveStopWords(frase_teste)\n",
    "print(frase_teste)"
   ]
  },
  {
   "cell_type": "markdown",
   "metadata": {},
   "source": [
    "Palavras consideradas como stopwords:"
   ]
  },
  {
   "cell_type": "code",
   "execution_count": 147,
   "metadata": {},
   "outputs": [],
   "source": [
    "stopwords = nltk.corpus.stopwords.words('portuguese')\n",
    "#print(stopwords)"
   ]
  },
  {
   "cell_type": "code",
   "execution_count": null,
   "metadata": {},
   "outputs": [],
   "source": [
    "def space_cleaning(text):\n",
    "    punctuation = '[!\\-.:?;,''\"@/]' \n",
    "    pattern = re.compile(punctuation)\n",
    "    text_subbed = re.sub(pattern, ' ', text)\n",
    "    split_emoji = emoji.get_emoji_regexp().split(text_subbed)\n",
    "    split_whitespace = [substr.split() for substr in split_emoji]\n",
    "    split = functools.reduce(operator.concat,split_whitespace)\n",
    "    return split"
   ]
  },
  {
   "cell_type": "code",
   "execution_count": 3,
   "metadata": {},
   "outputs": [
    {
     "ename": "SyntaxError",
     "evalue": "invalid syntax (<ipython-input-3-e503c18acb99>, line 1)",
     "output_type": "error",
     "traceback": [
      "\u001b[1;36m  File \u001b[1;32m\"<ipython-input-3-e503c18acb99>\"\u001b[1;36m, line \u001b[1;32m1\u001b[0m\n\u001b[1;33m    punctuation = \"[!\\-.:?;,''\"@/]\"\u001b[0m\n\u001b[1;37m                                ^\u001b[0m\n\u001b[1;31mSyntaxError\u001b[0m\u001b[1;31m:\u001b[0m invalid syntax\n"
     ]
    }
   ],
   "source": [
    "punctuation = \"[!\\-.:?;,''\"@/]\"\n",
    "print(punctuation)"
   ]
  },
  {
   "cell_type": "code",
   "execution_count": null,
   "metadata": {},
   "outputs": [],
   "source": []
  },
  {
   "cell_type": "code",
   "execution_count": null,
   "metadata": {},
   "outputs": [],
   "source": []
  },
  {
   "cell_type": "code",
   "execution_count": null,
   "metadata": {},
   "outputs": [],
   "source": []
  },
  {
   "cell_type": "code",
   "execution_count": null,
   "metadata": {},
   "outputs": [],
   "source": []
  },
  {
   "cell_type": "code",
   "execution_count": null,
   "metadata": {},
   "outputs": [],
   "source": []
  },
  {
   "cell_type": "code",
   "execution_count": null,
   "metadata": {},
   "outputs": [],
   "source": []
  },
  {
   "cell_type": "code",
   "execution_count": null,
   "metadata": {},
   "outputs": [],
   "source": []
  },
  {
   "cell_type": "code",
   "execution_count": 150,
   "metadata": {},
   "outputs": [],
   "source": [
    "def Train():\n",
    "    training_data = []\n",
    "    training_data.append({\"classe\":\"amor\", \"frase\":\"Eu te amo\"})\n",
    "    training_data.append({\"classe\":\"amor\", \"frase\":\"Você é o amor da minha vida\"})\n",
    "    training_data.append({\"classe\":\"medo\", \"frase\":\"estou com medo\"})\n",
    "    training_data.append({\"classe\":\"medo\", \"frase\":\"tenho medo de fantasma\"})\n",
    "    print(\"%s frases incluidas\" % len(training_data))\n",
    "    return training_data"
   ]
  },
  {
   "cell_type": "code",
   "execution_count": 151,
   "metadata": {},
   "outputs": [
    {
     "name": "stdout",
     "output_type": "stream",
     "text": [
      "4 frases incluidas\n"
     ]
    }
   ],
   "source": [
    "Dados = Train()"
   ]
  },
  {
   "cell_type": "code",
   "execution_count": 152,
   "metadata": {},
   "outputs": [],
   "source": [
    "def Learning(training_data):\n",
    "    corpus_words = {}\n",
    "    for data in training_data:\n",
    "        frase = data['frase']\n",
    "        frase = Tokenize(frase)\n",
    "        frase = Stemming(frase)\n",
    "        frase = RemoveStopWords(frase)\n",
    "        class_name = data['classe']\n",
    "        if class_name not in list(corpus_words.keys()):\n",
    "            corpus_words[class_name] = {}\n",
    "        for word in frase:\n",
    "            if word not in list(corpus_words[class_name].keys()):\n",
    "                corpus_words[class_name][word] = 1\n",
    "            else:\n",
    "                corpus_words[class_name][word] += 1\n",
    "    return corpus_words"
   ]
  },
  {
   "cell_type": "code",
   "execution_count": 153,
   "metadata": {},
   "outputs": [],
   "source": [
    "def Learning(training_data):\n",
    "    corpus_words = {}\n",
    "    for data in training_data:\n",
    "        frase = data['frase']\n",
    "        frase = Tokenize(frase)\n",
    "        frase = Stemming(frase)\n",
    "        frase = RemoveStopWords(frase)\n",
    "        class_name = data['classe']\n",
    "        if class_name not in list(corpus_words.keys()):\n",
    "            corpus_words[class_name] = {}\n",
    "        for word in frase:\n",
    "            if word not in list(corpus_words[class_name].keys()):\n",
    "                corpus_words[class_name][word] = 1\n",
    "            else:\n",
    "                corpus_words[class_name][word] += 1\n",
    "    return corpus_words"
   ]
  },
  {
   "cell_type": "code",
   "execution_count": 156,
   "metadata": {},
   "outputs": [
    {
     "name": "stdout",
     "output_type": "stream",
     "text": [
      "{'amor': {'amo': 1, 'voc': 1, 'am': 1, 'minh': 1, 'vid': 1}, 'medo': {'est': 1, 'med': 2, 'tenh': 1, 'fantasm': 1}}\n"
     ]
    }
   ],
   "source": [
    "dados = Learning(Dados)\n",
    "print(dados)"
   ]
  },
  {
   "cell_type": "code",
   "execution_count": 162,
   "metadata": {},
   "outputs": [],
   "source": [
    "def calculate_class_score(sentence,class_name):\n",
    "    score = 0 \n",
    "    sentence = Tokenize(sentence)\n",
    "    sentence = Stemming(sentence)\n",
    "    for word in sentence:\n",
    "        if word in dados[class_name]:\n",
    "            score += dados[class_name][word]\n",
    "    return score"
   ]
  },
  {
   "cell_type": "code",
   "execution_count": 163,
   "metadata": {},
   "outputs": [
    {
     "name": "stdout",
     "output_type": "stream",
     "text": [
      "3\n"
     ]
    }
   ],
   "source": [
    "score = calculate_class_score(\"Tenho medo de baratas\", \"medo\")\n",
    "print(str(score))"
   ]
  },
  {
   "cell_type": "code",
   "execution_count": 164,
   "metadata": {},
   "outputs": [],
   "source": [
    "def calculate_score(sentence):\n",
    "    high_score = 0\n",
    "    classname = 'default'\n",
    "    for classe in dados.keys():\n",
    "        pontos = 0\n",
    "        pontos = calculate_class_score(sentence,classe)\n",
    "        if pontos > high_score:\n",
    "            high_score = pontos\n",
    "            classname = classe\n",
    "    return classname,high_score"
   ]
  },
  {
   "cell_type": "code",
   "execution_count": 166,
   "metadata": {},
   "outputs": [
    {
     "name": "stdout",
     "output_type": "stream",
     "text": [
      "('amor', 1)\n"
     ]
    }
   ],
   "source": [
    "print(calculate_score(\"Eu amo aquela casa\"))"
   ]
  },
  {
   "cell_type": "markdown",
   "metadata": {},
   "source": [
    "*Train.py"
   ]
  },
  {
   "cell_type": "code",
   "execution_count": 167,
   "metadata": {},
   "outputs": [],
   "source": [
    "import nltk \n",
    "import re\n",
    "import yaml\n",
    "from nltk.stem import RSLPStemmer\n",
    "\n",
    "stemmer = RSLPStemmer()\n",
    "expression = '[!-@[-`{-¿ÆÐÑ×ØÝ-ßä-æëðñö-øý-ÿ]'\n",
    "\n",
    "#Carrega o Corpus Words\n",
    "def LoadMemory():\n",
    "    fileW = open(\"words.nlp\", 'r')\n",
    "    words = fileW.read()\n",
    "    fileW.close()\n",
    "    words = yaml.load(words)\n",
    "    return words\n",
    "\n",
    "#Carrega as frases que foram treinadas\n",
    "def LoadExamples():\n",
    "    fileE = open(\"examples.nlp\", 'r')\n",
    "    examples = fileE.read()\n",
    "    fileE.close()\n",
    "    return examples\n",
    "\n",
    "#Salva a corpus words\n",
    "def SaveMemory(w):\n",
    "    fileW = open(\"words.nlp\", 'w')\n",
    "    fileW.write(str(w))\n",
    "    fileW.close()\n",
    "\n",
    "#Salva as novas frases treinadas\n",
    "def SaveExample(example):\n",
    "    fileE = open(\"examples.nlp\", 'a')\n",
    "    fileE.write(example + \"\\n\")\n",
    "    fileE.close()\n",
    "\n",
    "#Massa de dados para exemplo\n",
    "def Examples():\n",
    "    training_data = []\n",
    "    training_data.append({\"class\":\"saudade\", \"sentence\":\"sinto sua falta\"})\n",
    "    training_data.append({\"class\":\"saudade\", \"sentence\":\"estou com saudades\"})\n",
    "\n",
    "    training_data.append({\"class\":\"fome\", \"sentence\":\"estou com fome\"})\n",
    "    training_data.append({\"class\":\"fome\", \"sentence\":\"to faminto\"})\n",
    "\n",
    "    training_data.append({\"class\":\"medo\", \"sentence\":\"to com medo\"})\n",
    "    training_data.append({\"class\":\"medo\", \"sentence\":\"tomei um susto\"})\n",
    "\n",
    "    Learning(training_data)\n",
    "\n",
    "#Função responsavel por treinar a frase\n",
    "def Learning(training_data):\n",
    "    corpus_words = LoadMemory()\n",
    "\n",
    "    for data in training_data:\n",
    "        examples = LoadExamples()\n",
    "        sentence = data['sentence']\n",
    "        sentence = re.sub(expression, '', sentence)\n",
    "        sentence = stemmer.stem(sentence.lower())\n",
    "\n",
    "\n",
    "        if sentence in examples:\n",
    "            continue\n",
    "        \n",
    "        SaveExample(sentence)\n",
    "        sentence = nltk.word_tokenize(sentence)\n",
    "        class_name = data['class']\n",
    "        if class_name not in list(corpus_words.keys()):\n",
    "            corpus_words[class_name] = {}\n",
    "        for word in sentence:\n",
    "            if word not in list(corpus_words[class_name].keys()):\n",
    "                corpus_words[class_name][word] = 1\n",
    "            else:\n",
    "                corpus_words[class_name][word] += 1\n",
    "\n",
    "    \n",
    "    SaveMemory(corpus_words)\n",
    "\n",
    "\n"
   ]
  },
  {
   "cell_type": "markdown",
   "metadata": {},
   "source": [
    "*Classification.py"
   ]
  },
  {
   "cell_type": "code",
   "execution_count": 169,
   "metadata": {},
   "outputs": [
    {
     "ename": "FileNotFoundError",
     "evalue": "[Errno 2] No such file or directory: ''",
     "output_type": "error",
     "traceback": [
      "\u001b[1;31m---------------------------------------------------------------------------\u001b[0m",
      "\u001b[1;31mFileNotFoundError\u001b[0m                         Traceback (most recent call last)",
      "\u001b[1;32m<ipython-input-169-a5756a478a40>\u001b[0m in \u001b[0;36m<module>\u001b[1;34m\u001b[0m\n\u001b[0;32m     38\u001b[0m     \u001b[1;32mreturn\u001b[0m \u001b[0mhigh_class\u001b[0m\u001b[1;33m\u001b[0m\u001b[1;33m\u001b[0m\u001b[0m\n\u001b[0;32m     39\u001b[0m \u001b[1;33m\u001b[0m\u001b[0m\n\u001b[1;32m---> 40\u001b[1;33m \u001b[0mmemory\u001b[0m \u001b[1;33m=\u001b[0m \u001b[0mLoadMemory\u001b[0m\u001b[1;33m(\u001b[0m\u001b[1;33m)\u001b[0m\u001b[1;33m\u001b[0m\u001b[1;33m\u001b[0m\u001b[0m\n\u001b[0m\u001b[0;32m     41\u001b[0m \u001b[0mcorpus_words\u001b[0m \u001b[1;33m=\u001b[0m \u001b[0mmemory\u001b[0m\u001b[1;33m\u001b[0m\u001b[1;33m\u001b[0m\u001b[0m\n",
      "\u001b[1;32m<ipython-input-169-a5756a478a40>\u001b[0m in \u001b[0;36mLoadMemory\u001b[1;34m()\u001b[0m\n\u001b[0;32m     10\u001b[0m \u001b[1;31m#Carrega o Corpus Words\u001b[0m\u001b[1;33m\u001b[0m\u001b[1;33m\u001b[0m\u001b[1;33m\u001b[0m\u001b[0m\n\u001b[0;32m     11\u001b[0m \u001b[1;32mdef\u001b[0m \u001b[0mLoadMemory\u001b[0m\u001b[1;33m(\u001b[0m\u001b[1;33m)\u001b[0m\u001b[1;33m:\u001b[0m\u001b[1;33m\u001b[0m\u001b[1;33m\u001b[0m\u001b[0m\n\u001b[1;32m---> 12\u001b[1;33m     \u001b[0mfileW\u001b[0m \u001b[1;33m=\u001b[0m \u001b[0mopen\u001b[0m\u001b[1;33m(\u001b[0m\u001b[1;34m\"\"\u001b[0m\u001b[1;33m,\u001b[0m \u001b[1;34m'r'\u001b[0m\u001b[1;33m)\u001b[0m\u001b[1;33m\u001b[0m\u001b[1;33m\u001b[0m\u001b[0m\n\u001b[0m\u001b[0;32m     13\u001b[0m     \u001b[0mwords\u001b[0m \u001b[1;33m=\u001b[0m \u001b[0mfileW\u001b[0m\u001b[1;33m.\u001b[0m\u001b[0mread\u001b[0m\u001b[1;33m(\u001b[0m\u001b[1;33m)\u001b[0m\u001b[1;33m\u001b[0m\u001b[1;33m\u001b[0m\u001b[0m\n\u001b[0;32m     14\u001b[0m     \u001b[0mwords\u001b[0m \u001b[1;33m=\u001b[0m \u001b[0myaml\u001b[0m\u001b[1;33m.\u001b[0m\u001b[0mload\u001b[0m\u001b[1;33m(\u001b[0m\u001b[0mwords\u001b[0m\u001b[1;33m)\u001b[0m\u001b[1;33m\u001b[0m\u001b[1;33m\u001b[0m\u001b[0m\n",
      "\u001b[1;31mFileNotFoundError\u001b[0m: [Errno 2] No such file or directory: ''"
     ]
    }
   ],
   "source": [
    "import nltk \n",
    "import re\n",
    "import yaml\n",
    "from nltk.stem import RSLPStemmer\n",
    "\n",
    "expression = '[!-@[-`{-¿ÆÐÑ×ØÝ-ßä-æëðñö-øý-ÿ]'\n",
    "stemmer = RSLPStemmer()\n",
    "\n",
    "\n",
    "#Carrega o Corpus Words\n",
    "def LoadMemory():\n",
    "    fileW = open(\"words.nlp\", 'r')\n",
    "    words = fileW.read()\n",
    "    words = yaml.load(words)\n",
    "    return words\n",
    "\n",
    "#Função responsavel por calcular a pontuação por classe\n",
    "def calculate_class_score(sentence,class_name):\n",
    "    score = 0\n",
    "    sentence = re.sub(expression, '', sentence)\n",
    "    sentence = nltk.word_tokenize(sentence)\n",
    "    for word in sentence:\n",
    "        if stemmer.stem(word.lower()) in corpus_words[class_name]:\n",
    "            score += corpus_words[class_name][stemmer.stem(word.lower())]\n",
    "    return score\n",
    "\n",
    "#Função responsavel por classificar a frase\n",
    "def classifique(sentence):\n",
    "    high_class = None\n",
    "    high_score = 0\n",
    "    for c in list(corpus_words.keys()):\n",
    "        score = calculate_class_score(sentence, c)\n",
    "        if score > high_score:\n",
    "            high_class = c\n",
    "            high_score = score\n",
    "\n",
    "    print(str(high_class))\n",
    "    return high_class\n",
    "\n",
    "memory = LoadMemory()\n",
    "corpus_words = memory"
   ]
  },
  {
   "cell_type": "code",
   "execution_count": null,
   "metadata": {},
   "outputs": [],
   "source": []
  },
  {
   "cell_type": "code",
   "execution_count": null,
   "metadata": {},
   "outputs": [],
   "source": []
  },
  {
   "cell_type": "code",
   "execution_count": null,
   "metadata": {},
   "outputs": [],
   "source": []
  },
  {
   "cell_type": "code",
   "execution_count": null,
   "metadata": {},
   "outputs": [],
   "source": []
  },
  {
   "cell_type": "code",
   "execution_count": null,
   "metadata": {},
   "outputs": [],
   "source": []
  },
  {
   "cell_type": "code",
   "execution_count": null,
   "metadata": {},
   "outputs": [],
   "source": []
  }
 ],
 "metadata": {
  "kernelspec": {
   "display_name": "Python 3",
   "language": "python",
   "name": "python3"
  },
  "language_info": {
   "codemirror_mode": {
    "name": "ipython",
    "version": 3
   },
   "file_extension": ".py",
   "mimetype": "text/x-python",
   "name": "python",
   "nbconvert_exporter": "python",
   "pygments_lexer": "ipython3",
   "version": "3.7.1"
  }
 },
 "nbformat": 4,
 "nbformat_minor": 2
}
