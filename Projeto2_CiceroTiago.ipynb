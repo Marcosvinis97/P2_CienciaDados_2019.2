{
 "cells": [
  {
   "cell_type": "markdown",
   "metadata": {},
   "source": [
    "# Projeto 2 - Ciência dos Dados"
   ]
  },
  {
   "cell_type": "markdown",
   "metadata": {},
   "source": [
    "Nome: Cicero Tiago Carneiro Valentim\n",
    "\n",
    "Nome: Luiz Felipe Lazzaron\n",
    "\n",
    "Nome: Marcos Vinícius da Silva"
   ]
  },
  {
   "cell_type": "markdown",
   "metadata": {},
   "source": [
    "Serão permitidos grupos de três pessoas, mas com uma rubrica mais exigente. Grupos deste tamanho precisarão fazer um questionário de avaliação de trabalho em equipe"
   ]
  },
  {
   "cell_type": "markdown",
   "metadata": {},
   "source": [
    "___\n",
    "# Classificador automático de sentimento\n"
   ]
  },
  {
   "cell_type": "markdown",
   "metadata": {},
   "source": [
    "## Preparando o ambiente no jupyter:"
   ]
  },
  {
   "cell_type": "code",
   "execution_count": 1,
   "metadata": {
    "jupyter": {
     "outputs_hidden": true
    }
   },
   "outputs": [],
   "source": [
    "import tweepy\n",
    "import math\n",
    "import os.path\n",
    "import pandas as pd\n",
    "import json\n",
    "from random import shuffle"
   ]
  },
  {
   "cell_type": "markdown",
   "metadata": {},
   "source": [
    "___\n",
    "## Autenticando no  Twitter\n",
    "\n",
    "* Conta: ***@CiceroTiagoCar3***"
   ]
  },
  {
   "cell_type": "code",
   "execution_count": 65,
   "metadata": {
    "jupyter": {
     "outputs_hidden": true
    }
   },
   "outputs": [],
   "source": [
    "# @CiceroTiagoCar3\n",
    "\n",
    "#leitura do arquivo no formato JSON\n",
    "with open('auth.pass') as fp:    \n",
    "    data = json.load(fp)\n",
    "\n",
    "#Configurando a biblioteca. Não modificar\n",
    "auth = tweepy.OAuthHandler(data['consumer_key'], data['consumer_secret'])\n",
    "auth.set_access_token(data['access_token'], data['access_token_secret'])"
   ]
  },
  {
   "cell_type": "markdown",
   "metadata": {},
   "source": [
    "___\n",
    "## Etapas do projeto:"
   ]
  },
  {
   "cell_type": "markdown",
   "metadata": {},
   "source": [
    "### Escolha de um produto e coleta das mensagens\n"
   ]
  },
  {
   "cell_type": "code",
   "execution_count": 118,
   "metadata": {
    "jupyter": {
     "outputs_hidden": true
    }
   },
   "outputs": [],
   "source": [
    "#Produto escolhido:\n",
    "produto = 'depressao'\n",
    "\n",
    "#Quantidade mínima de mensagens capturadas:\n",
    "n = 500\n",
    "#Quantidade mínima de mensagens para a base de treinamento:\n",
    "t = 300\n",
    "\n",
    "#Filtro de língua, escolha uma na tabela ISO 639-1.\n",
    "lang = 'pt'"
   ]
  },
  {
   "cell_type": "markdown",
   "metadata": {},
   "source": [
    "Capturando os dados do twitter:"
   ]
  },
  {
   "cell_type": "code",
   "execution_count": 119,
   "metadata": {},
   "outputs": [],
   "source": [
    "msgs = []"
   ]
  },
  {
   "cell_type": "code",
   "execution_count": 120,
   "metadata": {
    "jupyter": {
     "outputs_hidden": true
    }
   },
   "outputs": [],
   "source": [
    "#Cria um objeto para a captura\n",
    "api = tweepy.API(auth)\n",
    "\n",
    "#Inicia a captura, para mais detalhes: ver a documentação do tweepy\n",
    "i = 1\n",
    "for msg in tweepy.Cursor(api.search, q=produto, lang=lang, tweet_mode=\"extended\").items():    \n",
    "    new_msg = msg.full_text.lower()\n",
    "    if new_msg not in msgs:\n",
    "        msgs.append(new_msg)\n",
    "        i += 1\n",
    "    if i > n:\n",
    "        break\n",
    "\n",
    "#Embaralhando as mensagens para reduzir um possível viés\n",
    "shuffle(msgs)"
   ]
  },
  {
   "cell_type": "code",
   "execution_count": 123,
   "metadata": {},
   "outputs": [
    {
     "data": {
      "text/plain": [
       "0      se você tiver oportunidade \\nna moral\\nna moral mesmo\\n\\nvai em um psicólogo\\n\\nfaça análise ou terapia\\nenfim\\no que encaixar melhor\\nmas só vai\\n\\nnão é só em momentos de angústia ou depressão, mas para se conhecer e viver melhor\\nsério                                                                  \n",
       "1      rt @nahcardoso: reagi ao que os lindos do diva depressão falaram do apê 202!!!! já já no canal!!!!! fique ligadinho!!!!\\nhttps://t.co/x9wg2v…                                                                                                                                                                   \n",
       "2      tô com depressão kk hm                                                                                                                                                                                                                                                                                          \n",
       "3      só se forem vcs pq eu entro em depressão e ando sp de fato treino e cabelo apanhado https://t.co/4zjpe0rruy                                                                                                                                                                                                     \n",
       "4      o franco é o meu cara favorito pra ler sobre depressão e suicídio. quero um dia conseguir encarar a perda de alguém tão próximo com tanta racionalidade. https://t.co/7ohenqp7t7 https://t.co/i21bnqqhco                                                                                                        \n",
       "5      @daphnebindert é um drama adolescente que aborda váários temas importantes \\ndepressão, drogas, traumas, internet, identidade... por aí vai \\n\\na zendaya faz a personagem principal                                                                                                                            \n",
       "6      e quase todos também relataram casos de depressão e de abusos sofridos em família, além de abandono parental                                                                                                                                                                                                    \n",
       "7      \"não tô nem aí se você tem depressão, eu vou falar mesmo\"\\n\\neu não sei nem o que dizer eu só tô chorando pra caralho e quero sumir                                                                                                                                                                             \n",
       "8      rt @crfferreiraa: só porque alguém com depressão pode andar feliz e controlado não significa que não sofra em silêncio https://t.co/kxnlm8r…                                                                                                                                                                    \n",
       "9      depressão não é brincadeira 💭                                                                                                                                                                                                                                                                                   \n",
       "10     @ser_sereia amiga mas qq tem a ver café \\nrapé é uma medicina indígena que é usada no tratamento da depressao amiga eu to consagrando todos os dias é pq vc falou q tá recorrendo a tudo e é a coisa que mais me ajudou na vida com minhas crises principalmente a questão suicida                              \n",
       "11     rt @mathcds: “o cara mais feliz do rolê pode ter depressão” essa frase é mt pesada, porém mt real                                                                                                                                                                                                               \n",
       "12     acabei de ver elena, que estreou a pouco na netflix, uma das coisas mais sensíveis que eu já vi na vida. é pesado demais, mas é real e palpável pra quem tem depressão ou tem familiares e amigos que sofrem dessa doença maldita. essencial.  brigada petra.                                                   \n",
       "13     rt @nocturne_0309: 🎗️\"então eu acho que não apenas para nós, mas para outras celebridades, se eles falam abertamente sobre isso - se eles f…                                                                                                                                                                    \n",
       "14     rt @juninvaininar: depressão é um bgl sério...                                                                                                                                                                                                                                                                  \n",
       "15     sério gente ajudar dando um conselho q for já ta ótimo, qm te a mente suicida tá pouco se fudendo nora campanha, vcs passam o ano todo desprezando falando q depressão anciedade pânico ,são falta de deus frescura ,ae chega setembro amarelo fingem q se importam dscp o desabafo                             \n",
       "16     @lima7nn depressão pre escola                                                                                                                                                                                                                                                                                   \n",
       "17     já passei por uma depressão, abortei, tive uma relação tóxica onde chegamos a tocar de forma agressive e passei por isso all alone, fiquei c marcas disso td mas hj consigo dizer que estou bem                                                                                                                 \n",
       "18     conta do spotify acabou é agora que a depressão vai começar                                                                                                                                                                                                                                                     \n",
       "19     rt @noroi_kun: @franco71687841 @yoonarrt @messiascunha4 @defantimurilo pobre rapaz acha depressão é frescura e vence com força de vontade.…                                                                                                                                                                     \n",
       "20     espiritualidade quase ninguém da atençao nesse assunto e é o mais sério que existe! tudo esta relacionado a esse tema, como a depressão, drogas, brigas familiares, vida financeira etc.. realmente é um tema que deveria ser estudado e divulgado                                                              \n",
       "21     nmrl vei, vcs zombam do coleguinha que “tem depressão”, não oferecem ajuda, só tiram sarro e humilha... \\nem setembro vcs dizem que podem contar cm vcs, muita hipocrisia. 😓                                                                                                                                    \n",
       "22     rt @_limabeatriz: cuidem dos amigos de vocês, dê o apoio que for necessário, conversem, sorriso no rosto não é sinônimo de felicidade. depr…                                                                                                                                                                    \n",
       "23     engordar 6 kg virou motivo de desdenho para algumas pessoas, e é tão cômico, logo no mês em postam não façam bullying, cuidado com depressão!                                                                                                                                                                   \n",
       "24     oi gente só p avisar p vcs que ninguém pega depressão ok obrigada pela atenção                                                                                                                                                                                                                                  \n",
       "25     rt @yonat_2: aula de química hoje foi sobre o \"setembro amarelo\"(no qual todos lembram que o suicídio/depressão existem) fez todos sentarem…                                                                                                                                                                    \n",
       "26     rt @vitoriasfd17: eu acho que a parte mais fodida da depressão é quando tu não sente absolutamente nada. você só tá deitada no seu quarto,…                                                                                                                                                                     \n",
       "27     durmi 10 min e sonhei que eu tava com depressão                                                                                                                                                                                                                                                                 \n",
       "28     @jademonho não aguento mais ter depressão                                                                                                                                                                                                                                                                       \n",
       "29     #setembroamarelo 💛\\n\\ndia 17/09 a partir das 19h30, além do debate sobre depressão, iremos assistir ao primeiro episódio desta série, aqui no canto. inscreva-se e convite seus amigos e familiares para participarem:… https://t.co/kihtbvdtzq                                                                 \n",
       "                                                                                                                            ...                                                                                                                                                                                        \n",
       "470    pare de fingir que se importa com o setembro amarelo. porque as pessoas em sua volta sofrem de depressão e você chama de drama!                                                                                                                                                                                 \n",
       "471    rt @joaovtrs_: o mlk falando sobre sair da depressão, estimulando pessoas dizendo que ainda tem uma solução, tentando de alguma forma incen…                                                                                                                                                                    \n",
       "472    tema delicado e necessário: prevenção do suicídio. hoje, a data é lembrada mundialmente para combater doenças como a depressão, que podem levar uma pessoa a dar fim a própria vida. apoie ou procure ajuda quando precisar. a vida é o nosso bem mais valioso. https://t.co/3wuejejwgw                         \n",
       "473    @dieissyka e hoje eu reaproximei uma! venci meu dia, venci a depressão, venci a automutilação emocional, não estou bem, mas é uma vitória mas minhas batalhas internas                                                                                                                                          \n",
       "474    rt @tavora_andre: o q vc sente importa! do q vc tem medo importa! o q vc sonha importa! pq vc e a sua vida importam muito!! por favor, ajud…                                                                                                                                                                    \n",
       "475    rt @terabyteshop: #depressão não é um game\\nexistem várias pessoas que estão escondendo essa tristeza atrás de uma tela de monitor.\\nessa fas…                                                                                                                                                                  \n",
       "476    uma das coisas bizarras que a depressão me deu foi o completo esquecimento de anos da minha vida. não sei quantos anos fiquei no ensino médio, nem quantos morei numa casa ou outra. tive uma época de isolamento total que também não sei se foram meses ou dias. isso é meio foda.                            \n",
       "477    fico indignada como algumas pessoas mais velhas acham que depressão é frescura, que aluno que tem dificuldade é burro, que suicídio tudo bem, não pode é matar os outros. \\n\\nme corrói a vontade de sair gritando                                                                                              \n",
       "478    pra dizer q to com depressão e não quero assumir                                                                                                                                                                                                                                                                \n",
       "479    rt @spaceshipmarais: depressão é uma doença. no entanto, “diagnosticarem-se” com tal só porque têm ocasionalmente os sintomas dela (tristez…                                                                                                                                                                    \n",
       "480    rt @toni_roberto: você, adolescente, que está em depressão, ideação suicida  ou enfrentando qualquer vulnerabilidade e assistiu ao vídeo do…                                                                                                                                                                    \n",
       "481    @padremanzotti o senhor me ajuda pela cura do pânico e depressão. amém                                                                                                                                                                                                                                          \n",
       "482    rt @lekkomr: nem consegui dormir essa noite de tanta preocupação.\\n\\nque dó daquele procurador de mg que está com depressão por ganhar apenas…                                                                                                                                                                  \n",
       "483    rt @cristianokrdz: dia 1 de setembro vários posts de prevenção ao suicídio e ajuda psicológica \\npassou do dia 2, esqueceram os amigos com d…                                                                                                                                                                   \n",
       "484    rt @matheeus2k: a depressão está em quem mais sorri, apoie seus amigos.                                                                                                                                                                                                                                         \n",
       "485    rt @mmastrangee: hoje é o dia mundial de prevenção do suicídio. lembre-se de prestar atenção nas pessoas ao seu redor e demonstrar a import…                                                                                                                                                                    \n",
       "486    ei, você aí que tá postando de setembro amarelo mas ignorando o coleguinha com ansiedade/síndrome do pânico/depressão...\\n\\num segredinho:\\n\\nessas doenças não existem só esse mês e muito menos devem ser usadas pra bombar views/likes, viu ?                                                                \n",
       "487    dpd = depressao pós disney ☹️🥺😔😭😢 já estou sentindo os sintomas!                                                                                                                                                                                                                                                \n",
       "488    você nem liga pro quê o outros falam né? kkkkk — se eu me importasse com isso acho que eu ja estaria em depressão kkkk nego quer me julgar sendo pior q eu, ai é fd https://t.co/z8gnpfaitn                                                                                                                     \n",
       "489    hoje foi o auge\\nprofessor de física começou a dar palestra e associou depressão com um cara que tinha vício de bater e batia 8 vezes por dia :)                                                                                                                                                                \n",
       "490    https://t.co/dga7wfksye via @portalr7. amigo, com a sua permissão vou dar meu pitaco, porque só servidores da globo é esse auê na mídia quando substituídos? nós mortais, trabalhadores comuns, não sabemos o dia de amanhã, se tá empregado ou não, nem por isso vivemos em depressão.                         \n",
       "491    lidar com depressão e ansiedade diariamente é desgastante demais, por que td dia tu tem que lutar pra conseguir passar o dia td sendo uma pessoa normal, qnd na vdd o que tu mais quer é sumir...                                                                                                               \n",
       "492    rt @pemarcelorossi: amados hoje terça-feira ⭐️semana de cura e libertação da depressão⭐️ espero vocês às 8h 🙏🏻no colo de jesus e maria🙏🏻 pe…                                                                                                                                                                    \n",
       "493    rt @amarinabarbieri: sabe, gente, depressão não é só abrir inbox pra conversar que resolve. é uma doença. é sério. precisa de tratamento pr…                                                                                                                                                                    \n",
       "494    rt @kenduckfangirl: tas bue bonito pareces eu quando tou na depressao https://t.co/f9f0xytwxw                                                                                                                                                                                                                   \n",
       "495    o cara me faz um post falando que depressão se resolve na igreja, que não adianta nada se não for pra igreja https://t.co/vipygt7ctc                                                                                                                                                                            \n",
       "496    rt @nottodaybozo: - bipolaridade não é engraçado;\\n- ter várias personalidades não é piada;\\n- \"autista\" não é xingamento;\\n- depressão não é…                                                                                                                                                                  \n",
       "497    rt @natty_sousa: se vc tá passando por um momento difícil, mergulhado na depressão, pensando em suicídio e outras coisas ruins. escuta essa…                                                                                                                                                                    \n",
       "498    passei da fase que minha ansiedade não me deixa fazer as coisas. eu só faço e espero a depressão vir julgar e fazer tudo o que eu fiz parecer lixo.                                                                                                                                                             \n",
       "499    jamais diga a alguém que está com depressão ou ideação suicida que é falta de deus, pois você está prejudicando duplamente a saúde mental dela ao fazê-la se sentir ainda pior que os demais e acreditando que a fé dela e crença não são suficientes!\\nvocê não conhece a dor do outro. https://t.co/6snscjaudp\n",
       "Length: 500, dtype: object"
      ]
     },
     "execution_count": 123,
     "metadata": {},
     "output_type": "execute_result"
    }
   ],
   "source": [
    "pd.set_option('display.max_colwidth', -1)\n",
    "pd.Series(msgs)"
   ]
  },
  {
   "cell_type": "markdown",
   "metadata": {},
   "source": [
    "Salvando os dados em uma planilha Excel:"
   ]
  },
  {
   "cell_type": "code",
   "execution_count": 122,
   "metadata": {
    "jupyter": {
     "outputs_hidden": true
    }
   },
   "outputs": [
    {
     "name": "stderr",
     "output_type": "stream",
     "text": [
      "C:\\Users\\User\\Anaconda3\\lib\\site-packages\\xlsxwriter\\worksheet.py:912: UserWarning: Ignoring URL 'https://t.co/dga7wfksye%20via%20@portalr7.%20amigo,%20com%20a%20sua%20permissão%20vou%20dar%20meu%20pitaco,%20porque%20só%20servidores%20da%20globo%20é%20esse%20auê%20na%20mídia%20quando%20substituídos?%20nós%20mortais,%20trabalhadores%20comuns,%20não%20sabemos%20o%20dia%20de%20amanhã,%20se%20tá%20empregado%20ou%20não,%20nem%20por%20isso%20vivemos%20em%20depressão.' with link or location/anchor > 255 characters since it exceeds Excel's limit for URLS\n",
      "  force_unicode(url))\n"
     ]
    }
   ],
   "source": [
    "#Verifica se o arquivo não existe para não substituir um conjunto pronto\n",
    "if not os.path.isfile('./{0}.xlsx'.format(produto)):\n",
    "    \n",
    "    #Abre o arquivo para escrita\n",
    "    writer = pd.ExcelWriter('{0}.xlsx'.format(produto))\n",
    "\n",
    "    #divide o conjunto de mensagens em duas planilhas\n",
    "    dft = pd.DataFrame({'Treinamento' : pd.Series(msgs[:t])})\n",
    "    dft.to_excel(excel_writer = writer, sheet_name = 'Treinamento', index = False)\n",
    "\n",
    "    dfc = pd.DataFrame({'Teste' : pd.Series(msgs[t:])})\n",
    "    dfc.to_excel(excel_writer = writer, sheet_name = 'Teste', index = False)\n",
    "\n",
    "    #fecha o arquivo\n",
    "    writer.save()"
   ]
  },
  {
   "cell_type": "markdown",
   "metadata": {},
   "source": [
    "___\n",
    "### Classificando as mensagens na coragem\n",
    "\n",
    "Esta etapa é manual. Faça a mesma pelo Excel."
   ]
  },
  {
   "cell_type": "code",
   "execution_count": null,
   "metadata": {},
   "outputs": [],
   "source": []
  },
  {
   "cell_type": "code",
   "execution_count": null,
   "metadata": {},
   "outputs": [],
   "source": []
  },
  {
   "cell_type": "code",
   "execution_count": null,
   "metadata": {},
   "outputs": [],
   "source": []
  },
  {
   "cell_type": "markdown",
   "metadata": {},
   "source": [
    "___\n",
    "### Montando o Classificador Naive-Bayes\n",
    "\n",
    "Considerando apenas as mensagens da planilha Treinamento, ensine  seu classificador."
   ]
  },
  {
   "cell_type": "code",
   "execution_count": null,
   "metadata": {},
   "outputs": [],
   "source": []
  },
  {
   "cell_type": "code",
   "execution_count": null,
   "metadata": {},
   "outputs": [],
   "source": []
  },
  {
   "cell_type": "code",
   "execution_count": null,
   "metadata": {},
   "outputs": [],
   "source": []
  },
  {
   "cell_type": "markdown",
   "metadata": {},
   "source": [
    "___\n",
    "### Verificando a performance\n",
    "\n",
    "Agora você deve testar o seu classificador com a base de Testes."
   ]
  },
  {
   "cell_type": "code",
   "execution_count": null,
   "metadata": {},
   "outputs": [],
   "source": []
  },
  {
   "cell_type": "code",
   "execution_count": null,
   "metadata": {},
   "outputs": [],
   "source": []
  },
  {
   "cell_type": "code",
   "execution_count": null,
   "metadata": {},
   "outputs": [],
   "source": []
  },
  {
   "cell_type": "markdown",
   "metadata": {},
   "source": [
    "___\n",
    "### Concluindo"
   ]
  },
  {
   "cell_type": "code",
   "execution_count": null,
   "metadata": {},
   "outputs": [],
   "source": []
  },
  {
   "cell_type": "code",
   "execution_count": null,
   "metadata": {},
   "outputs": [],
   "source": []
  },
  {
   "cell_type": "markdown",
   "metadata": {},
   "source": [
    "## Aperfeiçoamento:\n",
    "\n",
    "Os trabalhos vão evoluir em conceito dependendo da quantidade de itens avançados:\n",
    "\n",
    "* Limpar: \\n, :, \", ', (, ), etc SEM remover emojis\n",
    "* Corrigir separação de espaços entre palavras e emojis ou emojis e emojis\n",
    "* Propor outras limpezas e transformações que não afetem a qualidade da informação ou classificação\n",
    "* Criar categorias intermediárias de relevância baseadas na probabilidade: ex.: muito relevante, relevante, neutro, irrelevante, muito irrelevante (3 categorias: C, mais categorias conta para B)\n",
    "* Explicar por que não posso usar o próprio classificador para gerar mais amostras de treinamento\n",
    "* Propor diferentes cenários para Naïve Bayes fora do contexto do projeto\n",
    "* Sugerir e explicar melhorias reais com indicações concretas de como implementar (indicar como fazer e indicar material de pesquisa)\n",
    "* Montar um dashboard que periodicamente realiza análise de sentimento e visualiza estes dados"
   ]
  },
  {
   "cell_type": "markdown",
   "metadata": {},
   "source": [
    "# Referências"
   ]
  },
  {
   "cell_type": "markdown",
   "metadata": {},
   "source": [
    "[Naive Bayes and Text Classification](https://arxiv.org/pdf/1410.5329.pdf)  **Mais completo**\n",
    "\n",
    "[A practical explanation of a Naive Bayes Classifier](https://monkeylearn.com/blog/practical-explanation-naive-bayes-classifier/) **Mais simples**"
   ]
  },
  {
   "cell_type": "code",
   "execution_count": null,
   "metadata": {},
   "outputs": [],
   "source": []
  }
 ],
 "metadata": {
  "kernelspec": {
   "display_name": "Python 3",
   "language": "python",
   "name": "python3"
  },
  "language_info": {
   "codemirror_mode": {
    "name": "ipython",
    "version": 3
   },
   "file_extension": ".py",
   "mimetype": "text/x-python",
   "name": "python",
   "nbconvert_exporter": "python",
   "pygments_lexer": "ipython3",
   "version": "3.7.1"
  }
 },
 "nbformat": 4,
 "nbformat_minor": 4
}
