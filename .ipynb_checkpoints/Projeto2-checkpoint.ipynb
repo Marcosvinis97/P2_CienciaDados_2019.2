{
 "cells": [
  {
   "cell_type": "markdown",
   "metadata": {},
   "source": [
    "# Projeto 2 - Ciência dos Dados"
   ]
  },
  {
   "cell_type": "markdown",
   "metadata": {},
   "source": [
    "Nome: Cicero Tiago Carneiro Valentim\n",
    "\n",
    "Nome: Luiz Felipe Lazzaron\n",
    "\n",
    "Nome: Marcos Vinícius da Silva"
   ]
  },
  {
   "cell_type": "markdown",
   "metadata": {},
   "source": [
    "# Introdução\n",
    "\n",
    "No presente trabalho, visa-se selecionar tweets relevantes para a classificação de postagens que possuem sinais de depressão por parte de seus autores. Nesse contexto, os integrantes dividiram os tweets em três categorias:\n",
    "\n",
    "1. Irrelavantes ou Neutros. Tweets que não indicam quaisquer indício de depressão;\n",
    "2. Relevantes. Tweets que possuem relevância na análise de indicação de depressão;\n",
    "3. Possuem interesse no assunto. Tweets que não demonstram doença mental, mas indicam um interresse no tema e na prevenção de suicídio.\n",
    "\n",
    "Desse modo, com tal classificação, pode-se desenvolver um marketing específico para os públicos 2 e 3; para os relevantes, pode-se oferecer auxílio e suporte psicológico; para aqueles que possuem interesse no tema \"depressão\", pode-se direcionar materiais que ensinem a como lidar com pessoas com depressão."
   ]
  },
  {
   "cell_type": "markdown",
   "metadata": {},
   "source": [
    "___\n",
    "# Classificador automático de sentimento\n"
   ]
  },
  {
   "cell_type": "markdown",
   "metadata": {},
   "source": [
    "## Preparando o ambiente no jupyter:"
   ]
  },
  {
   "cell_type": "code",
   "execution_count": 64,
   "metadata": {
    "jupyter": {
     "outputs_hidden": true
    }
   },
   "outputs": [],
   "source": [
    "import tweepy\n",
    "import math\n",
    "import os.path\n",
    "import pandas as pd\n",
    "import json\n",
    "from random import shuffle\n",
    "from IPython.display import clear_output\n",
    "from time import sleep"
   ]
  },
  {
   "cell_type": "markdown",
   "metadata": {},
   "source": [
    "___\n",
    "## Autenticando no  Twitter\n",
    "\n",
    "* Conta: ***@MarcosV96118169***"
   ]
  },
  {
   "cell_type": "code",
   "execution_count": 65,
   "metadata": {
    "jupyter": {
     "outputs_hidden": true
    }
   },
   "outputs": [],
   "source": [
    "#Dados de autenticação do twitter:\n",
    "\n",
    "#Coloque aqui o identificador da conta no twitter: @MarcosV96118169\n",
    "\n",
    "#leitura do arquivo no formato JSON\n",
    "with open('auth.pass') as fp:    \n",
    "    data = json.load(fp)\n",
    "\n",
    "#Configurando a biblioteca. Não modificar\n",
    "auth = tweepy.OAuthHandler(data['consumer_key'], data['consumer_secret'])\n",
    "auth.set_access_token(data['access_token'], data['access_token_secret'])"
   ]
  },
  {
   "cell_type": "markdown",
   "metadata": {},
   "source": [
    "___\n",
    "## Etapas do projeto:"
   ]
  },
  {
   "cell_type": "markdown",
   "metadata": {},
   "source": [
    "### Escolha de um produto e coleta das mensagens\n"
   ]
  },
  {
   "cell_type": "code",
   "execution_count": 66,
   "metadata": {
    "jupyter": {
     "outputs_hidden": true
    }
   },
   "outputs": [],
   "source": [
    "#Produto escolhido:\n",
    "produto = 'Depressão'"
   ]
  },
  {
   "cell_type": "markdown",
   "metadata": {},
   "source": [
    "___\n",
    "### Classificando as mensagens na coragem\n",
    "\n",
    "Esta etapa é manual. Faça a mesma pelo Excel."
   ]
  },
  {
   "cell_type": "code",
   "execution_count": 67,
   "metadata": {},
   "outputs": [],
   "source": [
    "planilha_treinamento = pd.read_excel('depressao.xlsx', \"Treinamento\")\n",
    "planilha_teste = pd.read_excel('depressao.xlsx', \"Teste\")\n",
    "pd.set_option('display.max_colwidth', -1)"
   ]
  },
  {
   "cell_type": "markdown",
   "metadata": {},
   "source": [
    "___\n",
    "# Montando o Classificador Naive-Bayes\n"
   ]
  },
  {
   "cell_type": "markdown",
   "metadata": {},
   "source": [
    "Primeiramente, iremos trabalhar com o dataframe treinamento, criando três banco de dados:\n",
    "    \n",
    "- **Grupo 1 - Irrelevantes/Neutros**: *group_1*\n",
    "- **Grupo 2 - Relevantes**: *group_2*\n",
    "- **Grupo 3 - Interesse no Assunto**: *group_3*\n"
   ]
  },
  {
   "cell_type": "code",
   "execution_count": 68,
   "metadata": {},
   "outputs": [],
   "source": [
    "group_1 = planilha_treinamento[planilha_treinamento[\"Relevância\"] == 1]"
   ]
  },
  {
   "cell_type": "code",
   "execution_count": 69,
   "metadata": {},
   "outputs": [],
   "source": [
    "group_2 = planilha_treinamento[planilha_treinamento[\"Relevância\"] == 2]"
   ]
  },
  {
   "cell_type": "code",
   "execution_count": 70,
   "metadata": {},
   "outputs": [],
   "source": [
    "group_3 = planilha_treinamento[planilha_treinamento[\"Relevância\"] == 3]"
   ]
  },
  {
   "cell_type": "code",
   "execution_count": 71,
   "metadata": {},
   "outputs": [],
   "source": [
    "groups = [group_1,group_2,group_3]"
   ]
  },
  {
   "cell_type": "code",
   "execution_count": 72,
   "metadata": {},
   "outputs": [
    {
     "data": {
      "text/plain": [
       "'[\\'falei pra minha mãe sobre ter ansiedade e ela \"n precisa ter ansiedade\"\\\\n\\\\ndps eu disse q quando trabalhar irei na psicóloga e ela \"vc ta com depressão?\"\\\\n\\\\nfoda viu kkk\\', \\'e ainda vrm a depressao https://t.co/3qpgzs4ebu\\', \\'simplismente vejo hoje como a hipocrisia evoluiu, onde em setembro mil e um textos se ploriferam em redes socias, sendo que meses antes julgava como indigentes. depressão n é algo pra se discutir em x dia é toda hora. então para de postar pra aparecer e faça pela sua atitude\\', \\'tv:\"tão fazendo campanha contra suicídio nas escolas já q este mal assim como a depressão atinge muitos adolescentes\"\\\\nanimal: \"dá uma vassoura pra trabalharem q n tem tempo pra pensarem em se matar\"\\', \\'professora falou q sai da minha sala com depressão kkkkkkkkkkkk\\', \\'nessa escola depressao só existe em setembro\\', \\'a atriz e ex-aluna da puc-sp glamour garcia, participou hoje (10/09) do programa \"encontro com fátima bernardes\", onde falou sobre depressão enfrentada por ela. glamour é formada em comunicação das artes do corpo pela puc-sp. confira:\\\\nhttps://t.co/qoivdccdts https://t.co/dmvv9ktje1\\', \\'este vídeo cura a minha depressão hahahahaha😂😂\\\\nhttps://t.co/rztsh4gcsz\\', \\'a escola vai começar e a depressao tbm\\', \\'@pgrilo02 depressao? never! já te disse que tou no auge da minha vida\\', \\'como vai você? setembro amarelo https://t.co/6uodogwvlz via @youtube #suicídio #depressão #cvv\\', \\'objetivo é promover a discussão sobre o suicídio e levantar pautas sobre transtorno de ansiedade e depressão https://t.co/byre2yjvls\\', \\'depressão, vazio de alma!\\\\n#pbjoaoplacona https://t.co/lkgtwbnebq\\', \\'@ofhobi )):ainda sigo firme na depressão pós show\\', \\'falando sobre o meu livro #quandoagentemuda no fórum intersetorial de saúde mental e prevenção do suicídio hj em itaboraí-rj #setembroamarelo #aartedesorrir #suicidio #burnout #depressao https://t.co/zd9vzxn6zd\\', \\'setembro amarelo, você nunca está sozinho! 🎗\\\\nprecisando conversar?1 ligue: 188\\\\n⠀\\\\nlink para maiores informações em https://t.co/oqgfs0rsbn \\\\n⠀\\\\n#setembroamarelo #suicidio #depressao #ansiedade #cvv188 https://t.co/ju1yjaprq5\\', \\'chega setembro é aquele inferno pessoas postando coisas das mais reais às mais absurdas sobre depressão e transtornos psíquicos, pessoas desconhecidas querendo te abraçar, gente usando lacinho amarelo e fingindo que realmente se importa com suicidas e depressivos\\', \\'não usem depressivo para pessoas que não tem depressão só porque parecem desanimadas/tristes https://t.co/2tu2h9urcx\\', \\'@conceloss filipa.....isso e depressao por vires para coimbra??\\', \\'engraçado que no mês amarelo é o único mês que as pessoas dão atenção pra quem sofre de depressão e esquece dos outros meses,pega essa atenção é enfia no cú.\\', \\'começar a me preparar pra depressão pós show, tá feliz drake\\', \\'@hug0y @qfoibruno @gu1n3s a anitta ta cada dia em um país diferente, vive lançando musicas em varias linguas, ta passando por depressão, tem que gravar o programa dela... tu acha que ela vai perder a porra do tempo dela, namorando uma mulher, pra provar pro viadinho do twitter que ela é bi?\\', \\'a depressão não se instala de uma hora para outra...\\\\n➖\\\\ngeralmente o sujeito passou por muitas situações que trouxeram sofrimento e não falou sobre o assunto.\\\\n➖\\\\npode ter tido perdas e não conseguiu elaborar o luto das… https://t.co/wr81ptfzdm\\', \\'muita hipocrisia falar merda de quem tem depressão e postar coisa de setembro amarelo\\', \"\\'quando quiser\\' é só depressão meu povo https://t.co/6nph3udwha\", \\'e hoje que foi um coach lá na escola falar nada mais que o óbvio, e ainda falou que quem tivesse problemas com depressao poderia entrar em contato com elekkkkkk o mico meu pai\\', \\'passei por isso três vezes.... na primeira, eu entrei em depressão porque eu amava demais ele, foi a primeira pessoa que eu entreguei meu coração..ele passava de mãos dadas na minha frente, eu me segurava pra não chorar, quando eu chegava em casa desabava https://t.co/nc0qrcesu5\\', \\'setembro amarelo (1)\\\\n\\\\noh, venha setembro amarelo\\\\nsalvar todos com depressão,\\\\nvenha, fique todo belo,\\\\ne depois suma, como se fosse uma ilusão.\\\\n\\\\nvamos usar a tal cor,\\\\npara pagar de cuidadosos,\\\\n\\\\n#setembroamarelo\\', \\'dia de prevenção ao suicídio: veja 9 sinais para identificar quando alguém está com\\\\xa0depressão https://t.co/tefzdfohtu https://t.co/d5ddtj73wq\\', \\'@hell_lxrd tem algum motivo? sabe, sem querer desmerecer, só que é foda ficar se auto-diagnosticando com depressão logo na era dos \"sadboys\", isso tira todo o crédito de quem realmente sofre. se você não se sente bem (por qualquer motivo), a indicação de qualquer pessoa seria procurar [+]\\', \\'aquela depressão pós término de livro :&lt;\\', \\'que se mata por causa de depressão tá de brincadeira tá querendo se amostra não agente que tem depressão precisamos de ajudar de um abraço esso sim pq se for pra deixar agente pior do que já estamos e melhor ficar na sua quem tem depressão presica de ajudar e eu estou aqui pra\\', \\'#worldsuicidepreventionday \\\\nvocê é maior que toda a ansiedade;\\\\nvocê é maior que toda a depressão;\\\\nvocê é maior que toda a angústia, tristeza e aflição;\\\\nvocê é maior, você é forte, você é capaz!\\\\n\\\\no mundo precisa de ti, viva! lute!\\\\n💛🎗\\', \\'kkk muito bom ver as pessoas postando coisas sobre setembro amarelo, depressão, tudo mais e saber que é só status e que na vdd ngm se importa mesmo, dizem que depressão não é brincadeira mas quando o amg posta algo dizendo que ta triste falam que é frescura\\', \\'selvagens a procura de lei curou minha depressão\\', \\'como prevenir a ansiedade de virar depressão? — procure um especialista, ele pode dar melhores instruções e exercícios. https://t.co/dj7o8ticnh\\', \\'acabei de subir o vídeo 2 lá no youtube samurai vegan. \\\\n\\\\nsobre #depressao #ansiedade #panico #suicidio #setembroamarelo https://t.co/ycqng2pte5\\', \\'queria achar graça no jacobina da depressao mas não tenho 13 anos.\\', \\'\"a dor de ver nossos filhos serem arrancados da gente em nome de uma política de segurança pública que não nos serve. não garantiram a vida dos nossos filhos, não garante as nossas vidas. é uma política de segurança pública pautada pra quem?\",... https://t.co/aisumfejgh\\', \\'@maria61407256 o pior é ouvir que foi motivo da depressão de alguém, mano (?????)\\', \\'@larinhadavan @ste_quila ter dificuldade em realizar ações, ficar mt cansado ao fazer coisas simples e todos os outros sintomas. mas o q acontece é que como vc continua \"produtivo\" e n completamente incapacitado, nem sempre as pessoas percebem/levam a sério por n fazer parte do estereótipo de depressão\\', \\'@sabarrj2 mais vieram me falar aqui que essa garota é cheia de problemas, tem até depressão, ou seja deve ser que seja uma pessoa com auto estima bem baixa e eu não sabia disso.👽\\', \\'depressão unipolar! – complexidade\\\\xa0humana! https://t.co/xzuuhqpxm8 https://t.co/bk0ccswwza\\', \\'@friedhardt @douglashecht douglas direitista de depressão 2.0\\', \\'@xx_lollita em volta de um assassinato e fala sobre vários assuntos importantíssimos pouco retratados em séries adolescentes, fala sobre hiv, depressão, aceitação, homossexualidade, autoritarismo de pais, drogas, manipulação sexual, pobreza, preconceito de classe, religião islâmica, etc.\\', \\'@gakemis a solidão que sempre existiu dentro de nós, mas a solidão do amor ao próximo é a depressão da atualidade.\\', \\'com certeza essa é a pior fase da depressão, nn desejo pra ninguém esse sentimento https://t.co/7ag406wce8\\', \\'- vc é adolescente? \\\\n\\\\n- sim\\\\n\\\\n- já sofreu de alguma crise existencial, depressão ou ansiedade? \\\\n\\\\n- não \\\\n\\\\n- e vc é adolescente?\\', \\'estado da minha \"depressão\":  quero o meu carro.\\', \\'@marc_sfer @espiaespionando não, porque está comprovado que um emprego de 24 mil pratas leva à depressão, remédios e posterior mendicância\\', \\'@barbiiws @supposeeeed eu sentia isso. então no caso eu tinha depressão?\\', \\'ma hj o sol tava numa depressão ne mds\\', \\'tem gente que deve ter entrado em depressão depois desse vídeo hahahahaha\\', \\'mãe que perdeu filho baleado por pm morre após sofrer com depressão por 3 anos e sem ver fim da investigação https://t.co/lerngujqyu\\', \\'@jaodro muuuito bom! tomava ele pra depressão e ansiedade, me ajudou muito\\', \\'eu fiquei triste vendo aquele post da gemma e descobrindo que ela teve depressão. ainda bem que ela melhorou\\', \\'a mina postou uma ft com uma plaquinha na cara escrito “venci a depressao” e um macho foi e comentou “linda” até quando irmãos? até quando?\\', \\'@becabrix @dedefla @sylviolincoln e ainda é atrevido de afirmar que esse \"salarinho\" está causando depressão nele! gente, como assim? depressão é uma doença séria para ser citada assim!\\', \\'@g_marques26 guilherme, só um psicólogo formado vai aguentar a carga de alguém com depressão. não pisa na bola, mano\\', \\'hoje me falaram que estou com depressão só porque não quero namorar\\', \\'as pessoas postam “setembro amarelo” “depressão não é frescura”, mas quando um amigo precisa conversar é o primeiro a deixar na mão, era tão bom que na vida real tivesse menos “lacração”\\', \\'uma graça vc brincando com depressão, viu? kk empatia não tá rolando\\', \\'hj tive q ouvir de pessoas da família, primos na verdade, pouco mais velhos q eu q depressão é falta de deus, mano em pleno setembro amarelo, em meio a tanta informação a pessoa falar uma coisa dessas\\', \\'nmrl\\\\n vcs num tão ligado no setembro amarelo não né? geral chamando o guri de feio e os caralha a quatro\\\\npqp vcs são uns hipócritas do caralho\\\\nqual foi do vacilo de vocês? e a parada da auto estima, depressão...? o mlk ñ fez nada pra vcs\\\\npovo chato da porra,, tomar no cu https://t.co/qezqv0goqh\\', \\'o verão acaba eu entro em depressão leram bem\\', \\'esse álbum \"a tempestade\" foi o último que saiu antes do renato morrer (ou seja, na época ele já sofria da depressão + aids) \\\\ne nessa faixa ele fala da amiga dele que era mãe solteira, e ele (o melhor amigo gay) ajudava ela a cuidar das crianças + \\\\n\\\\nhttps://t.co/y5hrq1nuot\\', \\'@tlarguei @umvicente @ruschelgabi nossa, esze dói no coração, me sinto mal pela depressão profunda dele\\', \\'@joaquinshow não deixe de beber, na pior das hipóteses morremos antes deles, muito provavelmente de cirrose, ou na melhor das hipóteses a gayração atual morre antes da gente por alguma depressão por falta de sol e enxada, ou de aids por quebrar padrões e transar com a seringa usada do amigo\\', \\'@raffreitas2 se depressão fosse falta de deus todo mundo teria\\', \\'o auge de hj foi ouvir que depressão é coisa do diabo\\', \\'hj uma amiga me contou q está com depressao,procurou um psicólogo e está tomando remédio, porem está muito difícil por conta dos efeitos colaterais.conversei muito e me coloquei à disposição sempre q ela precisar. não foi fácil p ela se abrir e sei q muitos não tem essa coragem\\', \\'aula de matemática é uma depressão total\\', \\'@jiajia_95 @dds947 @g1saopaulo mesmo discurso furado de sempre, só sabe repetir o que te falam. perfil de fãboy, de cantores, repetindo discurso, fingindo que está sofrendo ou tem depressão pra chamar atenção, apenas mais um adolescente sem futuro enchendo o saco ksksksks\\', \\'kit jovem brasileiro moderno\\\\n-bissexual \\\\n-a favor do aborto \\\\n-odeia o bolsonaro\\\\n-apoia o pt\\\\n-a favor da maconha\\\\n-toma corote\\\\n-fuma narguile\\\\n-odeia branco\\\\n-joga free fire\\\\n-acha bonito xingar\\\\n-coloca culpa em signo\\\\n-acha lindo quem engravida aos 13\\\\n-força depressão\\\\n-fã de kpop\\', \\'mano tem uns trabalhos de artes sobre depressão la na escola\\\\naí eu fui ler uns né aí tinha um desenho de um menino chorando aí tava escrito xingamentos do lado \\\\n\"filho de saco de esterco\" \"paquita do capeta\" \"saco de bosta\"\\', \\'mãe que perdeu filho baleado por pm morre após sofrer com depressão por 3 anos e sem ver fim da investigação https://t.co/dfaazlhu2k\\', \\'crlh achei mus fcs antigos, bateu depressao\\', \\'@brancomg @revistaistoe minha nossa senhora da bicicletinha, eu também estaria em depressão se tivesse amputado meu nariz desse jeito 😱\\', \\'minha folga indo embora e a depressão voltando meu pai amado  como eu queria trabalhar 1 dia na semana 6 horas por dia com 5 horas de almoço\\', \\'@pqppthamires eu fui. não tenho depressão pq tenho ps4\\', \\'eu amo minha mãe mano ela criticando a forma como abordaram a depressao do thor, pqp o orgulho que eu tenho dessa mulher.\\', \\'depressão pós-bolo de chocolate.\\', \\'depressão pós rolê é real\\', \\'a depressão do famoso te abala, já a do teu amigo é frescura e tu pouco se fode.\\', \\'minha mãe chegou e me viu deitada toda de bruços na sala chorando e perguntou se eu tinha depressão, amadakkkkk\\', \\'o ifma é tão hipócrita que não sei pq ainda insistir nesse bagulho de setembro amarelo sendo que no resto dos anos eles se fodem pra isso\\\\njá vi gente trancar matrícula por depressão/ansiedade (por n terem mais forças pra ir p escola) +++++\\', \\'@camtemporadas @sennacec @karmnesia @patrulheiroze @otempo quem tem depressão e é rico né?\\', \\'mano namoral, eu não aguento mais ler e escutar coisas sobre depressão \\\\nnão sei pq mas sempre q eu leio alguma coisa sobre depressão ou alguém fala de depressão perto de mim eu fico meio mal, isso é horrível \\\\ne pior q é oq tem mais na internet esses dias, tá foda...\\', \\'depressão meu pau na sua mão\\', \\'ah sla mano, hj a professora de mat disse que a nossa geração nao sabe o que quer da vida por isso o índice de depressão e suicidio ta tão em alta   ?????????eu fiquei exatamente assim\\', \\'morrer é o caralho, cola cmg que eu te faço rir e te ajudo nessa depressão aí.......\\', \\'eu amo essa música porque o brandon fez ela pra esposa que estava passando por uma depressão bem severa 🤧🤧🤧\\\\nele ainda botou os filhos pra cantar no final 🤧🤧🤧\\\\neu amo um casal❤️\\', \\'o mlk meio q pede pra ser zuado mano, mas eu acho q nessa idade ai todo mundo ja teve sua fase zuada, ai dps esse lek entra em depressão por causa dessas zuera, sla... https://t.co/ysh8kbfk5p\\', \\'@cristaoterrivel @jornalextra @dracitto sem desmerecer a importância do tratamento e da prevenção, mas tenho sempre muito cuidado com notícias de estatística. esse número significa q menos de 1,5% das mortes anuais são por depressão. o trânsito, por exemplo, mata quase 3x mais.\\', \\'a mais é essa menina postando foto no insta sobre setembro amarelo, e o resto do ano falando que depressao é drama\\', \\'amo os apoios à depressão e ansiedade parabéns mundo ✌🏿🤮\\', \\'trisha paytas a cantar shallow cura a depressão xddd\\', \\'eu como uma pessoa com depressão, ansiedade, bipolaridade etc, quero mais que enfiem o setembro amarelo no cu delas\\\\ntão mesmo achando que ter um mês disso vai diminuir alguma coisa? que postar fotos e vídeos em rede social vai mudar alguma coisa? acorda pra vida ow caralho\\', \\'@liaaa_sousa @marianam141 fds temos que combinar cenas... a dona ana, a bia e eu vamos entrar em depressão\\', \\'essa foi uma conversa real no trem:\\\\n- é aí como que tá sua mãe?\\\\n- po, tá mal! tá em depressão.\\\\n- difícil, né? e seu pai?\\\\n- é a razão da depressão da minha mãe. ele estava traindo minha mãe há 5 anos!\\\\n- caraca! e seu irmão? \\\\n...\\', \\'tava dormindo ouvindo pagode. cheguei no auge da depressão.\\', \\'@carloscezarcjr carlos assim como eu ,penso q outras pessoas tb percebem o q está acontecendo ,tudo nojento .vou para de acompanhar essa imundície q se instaurou no brasil ,esse negócio está me dando até depressão.,estou com vc , parabéns por sua coragem\\', \\'to organizando uma thread sobre hadestown e a relação com o capitalismo e a grande depressão porque eu não tenho nada melhor pra fazer  https://t.co/x4bzwxrpfy\\', \\'nossos futuros psicólogos estão tomando remédios para depressão e ansiedade nesse momento...\\', \\'o álbum cry baby nos apresenta a personagem cry baby e a partir daí temas como exploração sexual, família conturbada, depressão entre outros são apresentados a nós pelo ponto de vista da personagem https://t.co/cjzjzkxkqh\\', \\'as pessoas precisam imediatamente parar de tratarem a depressão, como falta de deus.\\', \\'uma hora eu tô assistindo o se liga nessa história e dps o diva depressão \\\\n\\\\namada?????\\', \\'@multishow @samiraclose tira o david ele e pessimooooooooo coloca a blogueirinha ou os meninos do diva depressao\\', \\'só quem sabe o que realmente é depressão é quem já sentiu na pele. ela machuca e deixa cicatrizes.\\', \\'você não passa de um hipócrita, e é você o motivo de tanta depressão por aí.\\', \\'tem um cara no insta que fica fazendo vídeo sobre “depressao” que se forçar mais caga\\', \\'@lover_of_waifus ouvi dizer que tomar luz do sol ajuda a evitar depressão.\\\\ntalvez devesse cogitar sair do seu bunker...\\', \\'setembro amarelo - pílulas poéticas como antídoto à depressão https://t.co/zakeditbgl https://t.co/dz0zpfu1gh\\', \\'@flaitzma @g1 qualquer um com cérebro pode ser atingido por depressão. considerando a época que estamos achei que isso já estivesse claro...\\', \\'@giuliatavares__ nem td eh depressão giu\\', \\'nao adianta se vestir de amarelo e não respeitar o colega/professor, não adianta se vestir de amarelo e zoar o professor que tem depressão\\', \\'ninguém falou de suicídio e depressão até agr,\\\\npq vcs esperam chegar setembro p começar a dar o discurso de vcs ?\\\\nvão tomar no cu\\', \\'@jaspionopressor @geografiat @jaspionretro @mariahopressora @resistp @nick_williann @luferrer4 @saw4737 @dmariprofessora @am_mp @psico_fm @andreia_silva9 @denise_rm_ @anacgonca @nzmendes1 @janamillk7 @marvel_capita79 @dermatosp @sambolsonaro @psspbru que todos consigam se livrar da depressão desse mal que chega no silêncio e apossa das almas que tenham forças pra buscar ajuda e a cura real!\\\\n\\\\n#setembroamarelo https://t.co/sc8r8apw7i\\', \\'setembro não é o único mês em que as pessoas que sofrem de depressão precisam de ajuda, converse com alguém!!\\', \\'setembro amarelo... o mês em que as pessoas fingem se importar com quem sofre depressão\\', \\'meu professor fazendo palestra sobre depressão falando q tudo isso é falta de deus quase surtei naquela sala\\', \\'engraçado que tem gente que só se preocupa com o suicídio e depressão no setembro amarelo pq no resto do ano é considerado \"drama\"...\\', \\'depressao pós prova d fisiologia\\', \\'o que mudou desde o hiatus do mcfly:\\\\n2013: virei fã de arctic monkeys \\\\n2014: peguei o crush \\\\n2015: dessnvolvi depressão \\\\n2016: mudei de cidade e minha doguinha morreu\\\\n2017: tive um relacionamento abusivo \\\\n2018: tentei suicídio e adotei um gato\\\\n2019: to namorando e na faculdade https://t.co/dfy5zkrrgi\\', \\'vamos falar sobre depressão e suicídio na minha entrevista com o guilherme @eguinorante  quinta-feira, 12/09 às 20:00. ative o sininho e seja o primeiro a assistir. https://t.co/1hz0pb9yj0\\', \\'eu apenas acho que suicídio não deveria ser falado/abordado apenas quando chega o mês de setembro.... \\\\naté pq não é só em setembro que as pessoas que tem depressão  decidem tirar sua própria vida. todos os meses, dias, anos temos que estar atentos ao nosso próximo!\\', \\'eu tava ouvindo funk pesadaum e do nada meto em sertanejo depressão pra equilibrar\\', \\'depressão pôs corte e meu amor falando “ficou ruim mesmo” 😓😂 https://t.co/fof7fvnaqi\\', \\'@_hellbeca a doença bipolar, tradicionalmente designada doença maníaco-depressiva, é uma doença psiquiátrica caracterizada por variações acentuadas do humor, com crises repetidas de depressão e «mania».\\', \\'depressão e ansiedade é uma coisa horrível, parem de diminuir o problema como se fosse algo simples e de fácil controle, ajudem seu amiguinho, cuida de sua namorada que chora sem motivos, ou do seu filho que fica o dia todo deitado e você julga como preg… https://t.co/75p11l2olt\\', \\'af qual seu problema garoto — depressão o nome, relaxa https://t.co/1jke70ua9x\\', \\'eu não posso ver minhas fotos antigas no facebook que já me dá depressão\\', \\'tw: depressão\\\\n\\\\ncoloquem a porra de um aviso de gatilho https://t.co/ksaz1lcz36\\', \\'transtorno bipolar \\\\napesar da depressão ter o maior foco nesse área, a primeira causa do suicídio na verdade é o transtorno bipolar.\\\\né muito confundida com a depressão por ter as fases depressivas e principalmente nessas fases que está o maior risco de suicido.\\', \\'vcs só se lembram de suicido e depressão quando eh setembro amarelo né? hummm tendi\\', \\'[10/9 21:03]: ta com oq\\\\n[10/9 21:03]: comeu o mundo e ta explodindo ne\\\\n[10/9 21:06] ellen👑: to com depressão pós prato\\\\n[10/9 21:07] ellen👑: 😩😩\\', \\'socorro último episódio me matou estou em depressão ! https://t.co/2pdv1s1yuw\\', \\'conclusão do dia : as redes sociais arruinaram e destruíram a sociedade, parace realmente que é melhor viver na ignorância para ter saúde mental, pois ao contrário vc está fadado a depressão .\\', \\'@lemos0304 inspira e expira\\', \\'somos uma sociedade de pessoas com notória infelicidade: solidão, ansiedade, depressão, destruição, dependência; pessoas que ficam felizes quando matam o tempo que foi tão difícil conquistar.“ —  erich fromm\\', \\'ator se afastou de ‘la casa de papel’ e ‘elite’ por causa da depressão https://t.co/jjxll6t7pj\\', \\'resolvi fazer um thread com as principais doenças que causam o suicídio, a depressão é sim muito significativa mas não é a primeira causa! acho válido pra vcs prestarem atenção em outros sintomas além dos já falados e talvez ajudar a salvar uma vida!\\\\n\\\\nsegue a thread\\', \\'@anittxhott mano vocês são mt sem oq fazer a própria anitta disse os méritos da pabllo,a pabllo o mesmo então baixa bola, tudo isso é por like? vai caçar oq fazer, a própria anitta disse que pessoa como você é um gatilho para as pessoas com depressão ou que possa ter uma. ridículo sua atitud\\', \\'que depressão ficar sozinha toda noite, saudades igor ... saudades 🤦🏻\\\\u200d♀️\\', \\'quem acha que depressão e ansiedade é frescura. quem faz bullying com o coleguinha. quem zoa a aparência de uma pessoa e destrói a autoestima dela. quem é um verdadeiro babaca. vão pra puta que pariu, seus lixos! cadê a manopla? aaaaaaaaaa https://t.co/xsfd7k3gsv\\', \\'bem, regresso às aulas...\\\\ndepressão, raparigas armantes com vozes irritantes, matemática, depressão, matemática...e matemática...\\\\nmas pronto como se costumava dizer há 5 horas atrás...\"é lidar irmoum\"🥺🤯 \\\\n@numeiro \\\\n@goncalo_vidigal\\', \\'auge negahs kkkkkkkk mais uma fanfic pra conta nunca teve depressão . https://t.co/skytbkewbn\\', \\'um dos maiores indicativos de que uma pessoa tem depressão é ela ter peixe de estimação\\', \\'mãe que perdeu filho baleado por pm morre após sofrer com depressão por 3 anos e sem ver fim da investigação https://t.co/qws00wtaf0\\', \\'eu apoio mt o setembro amarelo, mas tava reparando aqui q muitas outras pessoas q tmb apoiam a causa agem de dupla personalidade! não sabem se apoiam ou julgam as pessoas, sendo que elas mesmas pregam que depressão pode acontecer com qualquer um\\', \\'@1urk3r1 lá fora essa fase é conhecida como o vale do suicídio, um período em que a pessoa entra em depressão após tomar a redpill. tem esse nome por motivos óbvios acredito eu.\\', \\'@ze_depressao respirar\\', \\'eu acho tão engraçado essas peças fznd post de prevenção ao suicídio, mas n tem um pingo de empatia com a depressão da amiguinha\\', \\'vcs são tão hipócritas que só se \"importam\" com o suicídio é depressão quando chega o mês de setembro, pq no resto do ano vcs tacam o foda-se pra todo mundo e fala que é drama seus pau no cu\\', \\'só eu que fico com depressão pós janta?\\', \\'galera falando coisas totalmente sem sentido pra quem tem depressão ou qualquer outra doença, como se fosse um tombo de bicicleta\\', \\'@ivanasoares111 ivana, ninguém falou que depressão é brincadeira aqui, a minha preocupação é do bem estar dela, a tua é apenas fofoca sobre a vida dos outros, quem postou foi você e eu que quero curtidas? reveja teus conceitos lindinha, isso vai ter ajudar melhorar como pessoa.\\', \\'@flaviaoliva_ estou com 54 anos e li. naquela época, drogas era como se você cruzasse com o demônio. não, ninguém virou viciado, mas o livro dava uma baita depressão.\\', \\'rtt: romário\\\\nfav: luís diaz\\\\nrespirar: zé luís https://t.co/z2djt2udym\\', \\'@flaviogarage a gente vive no eua da grande depressão, quem dera viver no eua dos anos 80!\\', \\'pegar um dia de setembro p fingir espalhar amor e dizer “você não está sozinho” mas no resto do ano zombar do suicído e a depressão, foda viu\\', \\'@torcida_faze @fatherthermite @proccor6 @anisaz41772543 @nvking_ jovem ...sou rainbow6depre vc precisa seguir o liquid depressao e vai saber que o lv é o dono e o seven que sou eu sou dono do r6depre.\\\\nassim como uso tradutor eles tbm podem usar o gogle tradutor tem parceria com tt\\', \\'engordei pq yo c depressão klkkkkkkkkkkk 👍🏼👍🏼👍🏼👍🏼👍🏼 ai serio alguém me mata\\', \\'beleza, os caras se disponibilizaram pra falar sobre isso e é ótimo, mas existem métodos diferentes de ajudar pessoas com depressão que não sejam com gente falando de igreja ou cantando músicas aleatórias\\', \\'a depressão é aquele caso né, tu tá no fundo do poço achando que não tem como ficar pior e ela te mostra que tem como sim\\', \\'não deixe de pedir ajuda! depressão não é frescura! olhe pro seu amigo, pros seus familiares, até mesmo pra você, e não deixe se “afundar” nessa tristeza profunda. você é precioso! você é importante! você é amado! #setembroamarelo https://t.co/s5fstmgmtz\\', \\'@bobasafada ai amg... to só a depressão agora\\', \\'@c0lumb1n3x aí e fodido\\\\nas pessoas não sabem oq é depressão, depressão é um estado tão critico q vc n sente nada, n liga pra nada\\\\ne não quando seu professor te zoa malucokkkkkkse fude\\', \\'depressão é uma doença desgraçada pra caralho...\\', \\'a cada uma nova consulta no oftalmologista uma nova depressão com a frase \"seu grau aumentou\"\\', \\'#anittaentrounogrupo anitta sério mesmo melhor parar por dá pra ver o tamanho da tristeza nos seus olhos e você está rindo sem graça. se forçamos nosso organismo pagamos caro depois. melhor parar porque o vazio sem depressão só jesus poderá preencher.\\', \\'hoje é o dia mundial de prevenção ao suicídio, onde as pessoas fingem se importar com quem sofre de depressão, e o resto do ano dizem que é frescura.\\', \\'você sabia que o instagram tem um local de apoio às vítimas de depressão e ansiedade? o aplicativo desenvolveu uma ferramenta que ao pesquisar e clicar nas hashtags relacionadas aos transtornos, o usuário é direcionado para o centro de valorização da vida. https://t.co/q4cmn8rmcp\\', \\'suicídio nunca é a melhor opção, mas quem não compreende como depressão funciona, não sabe o quanto é difícil desviar desse caminho todos os dias.\\\\npor isso é sempre necessário ter ajuda de um profissional qualificado, se você não tem condições, ligue 188\\', \\'eu fico impressionada com o descaso que a escola faz quando se trata de depressão\\', \\'eu sou louco\\\\nnum mundo onde o preconceito é normal\\\\nnatural\\\\nnão dar abraço ao chegar\\\\nnem ao dar tchau\\\\nvirar as costas à quem tá mal\\\\nver a depressão como problema pessoal\\\\nque nem precisa de hospital\\\\nnamoral\\\\neu sou… https://t.co/gzejotulfh\\', \\'@c0lumb1n3x tambem dizem que tem depressão como \"piada\" e ironizando tlgkkkkkkkk \\\\noutros que acham que tem pq se sentem tristes constantemente (por mais q tenha um motivo)\\', \\'e até fingindo que se importam com depressão e etc.. isso é patético, apenas.\\', \\'praí 90% das pessoas que sofrem de depressão e/ou têm mental breakdowns são boas pessoas...\\\\n\\\\npessoas más não sofrem, pessoas de merda estão sempre bem consigo mesmas e depois vêm estragar o bem estar psicológico dos outros.\\', \\'citei kid cudi e mac miller na redação de hoje sobre depressão 😎😎😎\\', \\'diz que tem depressão mas nunca foi no supermercado de pijama comprar refrigerante aaaah me poupe\\', \\'e dói ver que ainda postam sobre suicídio, depressão, ansiedade e td mais diariamente e n prestam atenção em quem está do lado\\', \\'nas redes sociais: setembro amarelo blablabla ajude alguem hur dur eu tenho empatia por quem tem depressao\\\\n\\\\npessoalmente: eae seu gordo inutil repetente burro sem mae\\', \\'depressão e ansiedade é uma coisa horrível, parem de diminuir o problema como se fosse algo simples e de fácil controle, ajudem seu amiguinho, cuida de sua namorada que chora sem motivos, ou do seu filho que fica o dia todo deitado e você julga como preguiça, espelhe o amor ❤️🎗️ https://t.co/nhnyworqqv\\', \\'@ricamconsult as novas tecnologias deveriam trazer de volta a interação humana de verdade... não essa relação impermeável, geradora de indiferença e depressão.\\', \\'@let_547 o melhor foi que ele disse sobre suicídio e depressão como se fosse só uma questão de falta de religião\\', \\'é impressionante a quantidade de pessoas que aparece na live do alanzoka agradecendo por de alguma forma ajudá-los de problemas com depressão e afins, isso é muito foda\\', \\'responde sem medo \\\\n\\\\n1- sinceridade\\\\n2- f\\\\n3- não \\\\n4- yep\\\\n5- l\\\\n6- sim e sim\\\\n7- n sei\\\\n8- e de eu \\\\n9- r\\\\n10- sim\\\\n11- gosto porém vergonha\\\\n12- depressão\\\\n13- acho que sim\\\\n14- 4 segundos jsuahs\\\\n15- os dois\\\\n16- sim\\\\n17- sim\\\\n18- não\\\\n19- ignorar \\\\n20- claro que sim\\\\n\\\\nfav que eu te mando\\', \\'setembro amarelo e todo mundo postando sobre depressão, pensamentos suicidas etc, querendo ajudar ou mostrando empatia\\', \\'está mãe vive no interior do pará e pede p filho e o sobrinho ambos carentes de ajuda psiquiátrica.\\\\n\\\\no filho tem depressão profunda c/ tendência suicida e o sobrinho foi abandonado nas ruas e tem deficiência intelectual.\\\\n\\\\ncompartilhe até chegar em quem possa ajudar. https://t.co/p7hlqpdu7o\\', \\'se vc conhece alguém que tem depressão, não fique parado, faça algo para ajudar. e se vc sofre com essa doença saiba que não é drama, fraqueza ou frescura. a depressão tem tratamento. procure ajuda de um profissional. sua vida é importante! 💛🎗 #setembroamarelo https://t.co/jxkyiibahd\\', \\'\"so tem depressão quem quer\"\\\\n\\\\nah claro\\\\na pessoa acorda e pensa\\\\nnossa que dia gostoso\\\\npra não conseguir fazer nada\\\\nse sentir um lixo\\\\ne querer morrer\\', \\'quando você percebe que só serve para tampar buraco.@depressão\\', \\'\"não é depressão, é ganância!\"\\\\n     \\\\n                        ta\\', \\'depressão e ansiedade devem ser tratadas por um especialistas. https://t.co/fb3qztsrml\\', \\'nunca aparece tanta gente hipócrita quanto nesse setembro amarelo, depressão só é depressão quando ela mata pq quando alguém da sinal dessa doença ninguém liga, ai só é frescura e tentativa de chama atenção\\', \\'o que me deixa com mais ódio é q meu namorado tá a dias me tratando mal e só vem cvs comigo pra falar sobre minha cachorra... agora vai eu falar sobre depressão com ele kkkkk https://t.co/bttwbrkb4b\\', \\'jane the virgin é uma série ridícula, mas colocar o tema depressão pós parto e ainda um cara dizendo que sofre o mesmo passou do limite.\\', \\'vocês estão sempre falando sobre depressão, mas também nuncam se esquecem de julgar o modo como seu amigo se veste, as coisas que ele gosta.\\', \\'mãe que perdeu filho baleado por pm morre após sofrer com depressão por 3 anos e sem ver fim da investigação https://t.co/jn92mbbr4v\\', \\'coloco minha playlist brasilzão pra treinar só toca mpb da depressão\\\\n\\\\ne logo cedo, só toca baiana system “. tudo errado\\', \\'tenho tanto exercício de física 2 pra fazer que bate até uma depressão só de olhar aquelas listas\\', \\'isso aí \\\\nvamo confiar no julgamento de uma pessoa que obviamente não consegue pensar de forma clara agora pq tem depressão \\\\npalmas, quê gênio \\\\n\\\\njesus \\\\ncansei\\', \\'eu n lembrava que a emily tomava remédio pra depressão\\', \\'setembro amarelo\\\\xa0é um mês de conscientização mundial sobre os casos de suicídio e depressão.\\\\nhoje tivemos essa super conversa com nossas queridas professoras helmar e telma. gislaine saiu do consultório e veio trocar… https://t.co/morpb48lpr\\', \\'@morimurando o mori disse tudo.\\\\ne é aqui que vemoss uma pessoa idiota, que acha que depressão é brincadeira ou modinha. \\\\n\\\\nde verdade eu odeio essas pessoas , e quero distancia.\\', \\'@drfernandoneuro conheço bem a dor de perder alguém para a depressão,por meio de suicídio😢😢💔minha mãe\\', \\'pioor parte da depressão é tipo nao sentir nada e não conseguir falar o q acontece\\', \\'quase q eu entro em depressao escutando fresno no banho\\', \\'a gente fala tanto em setembro amarelo, de oferecer ajuda e suporte, aconselhar à procurar ajuda profissional mas só quem tem algum ente querido que sofre com depressão e afins sabe o quão desgastante isso pode ser. temos que ajudar ao máximo mas cuidado pra não irem junto tb.\\', \\'@_bel28 seja lgbtis no brasil!... resistir o suicídio e uma guerra diária e desumana.  a depressão faz parte do cotidiano... especialmente depois da eleição desse presiditador bolsonaro.\\', \\'o tema da redação foi depressão, ram, fiz de olho fechado\\', \\'@eiotariano e a depressão é quem tá filmando\\', \\'mais uma vez eu provando q esse tipo de pessoa q acha q umas blusas e algumas frases de efeito irão mudar depressão estão erradas https://t.co/5ogttzrw2z\\', \\'💛setembro amarelo💛\\\\nvocês sabiam que hoje é o dia mundial de prevenção ao suicídio?\\\\npois bem, quando alguém te falar sobre ansiedade, depressão ou pânico sempre fiquem atentos... pode ser um pedido de ajuda! \\\\npoucas horas após esta foto, tive um surto psicótico e tentei suicídio https://t.co/u2a4jawu7b\\', \\'hipocrisia dms essa de setembro amarelo, na porra dos outros 11 meses do ano sua coleguinha que tenta demonstra que tem depressão você diz que é drama, tnc vocês mos.\\', \\'@isa_pih isadora essa foto curou minha depressão\\', \\'sera que ir no cinema sozinho pra  ver it é muita depressão? kkkkkk sla, gosto de ver filme cm companhia \\\\nse alguem quiser ir cmg manda um zape zapi\\', \\'se eu parar pra ler os comentários do meu vídeo eu entro em depressão\\', \\'@alefejohnny @pedrolu09094501 @brasil_fortnite top 3 motivos do porque a depressão existe\\', \\'@itallorcarvalho fora essa hipocrisia do crlh, é só lance de \"se preencha em jesus pra curar depressão\", e um falso moralismo q nem msm eles seguem\\']'"
      ]
     },
     "execution_count": 72,
     "metadata": {},
     "output_type": "execute_result"
    }
   ],
   "source": [
    "str(list(groups[0][\"Tweet Text\"].values))"
   ]
  },
  {
   "cell_type": "markdown",
   "metadata": {},
   "source": [
    "# Limpeza e Tratamento dos Dados"
   ]
  },
  {
   "cell_type": "code",
   "execution_count": 73,
   "metadata": {},
   "outputs": [
    {
     "name": "stdout",
     "output_type": "stream",
     "text": [
      "Requirement already satisfied: emoji in c:\\users\\user\\anaconda3\\lib\\site-packages (0.5.4)\n"
     ]
    }
   ],
   "source": [
    "#Bibliotecas para a Identificação de Emojis\n",
    "!pip install emoji\n",
    "from emoji import UNICODE_EMOJI\n",
    "import emoji\n",
    "import re \n",
    "import functools\n",
    "import operator"
   ]
  },
  {
   "cell_type": "markdown",
   "metadata": {},
   "source": [
    "### Função de Limpeza de um Tweet"
   ]
  },
  {
   "cell_type": "code",
   "execution_count": 74,
   "metadata": {},
   "outputs": [],
   "source": [
    "# Recebe um texto normal e devolve uma lista de split\n",
    "def space_cleaning(text):\n",
    "    punctuation = '[!\\-.:?;,''\"@/]' \n",
    "    pattern = re.compile(punctuation)\n",
    "    text_subbed = re.sub(pattern, ' ', text)\n",
    "    split_emoji = emoji.get_emoji_regexp().split(text_subbed)\n",
    "    split_whitespace = [substr.split() for substr in split_emoji]\n",
    "    split = functools.reduce(operator.concat,split_whitespace)\n",
    "    return split"
   ]
  },
  {
   "cell_type": "code",
   "execution_count": 75,
   "metadata": {},
   "outputs": [],
   "source": [
    "#Recebe um lista split e devolve uma lista split sem http ou https\n",
    "def remove_http(lista_de_listas):\n",
    "    lista = lista_de_listas\n",
    "    for i in range(len(lista)):\n",
    "        for j in range(len(lista[i])):\n",
    "            if 'HTTP' in lista[i][j].capitalize():\n",
    "                lista[i][j] = \"http\"\n",
    "    \n",
    "    for i in range(len(lista)):\n",
    "        while lista[i].count(\"http\") != 0:\n",
    "            lista[i].remove(\"http\")\n",
    "    return lista"
   ]
  },
  {
   "cell_type": "markdown",
   "metadata": {},
   "source": [
    "### Tratando os Dados da Base de Treinamento"
   ]
  },
  {
   "cell_type": "code",
   "execution_count": 76,
   "metadata": {},
   "outputs": [],
   "source": [
    "def tratamento_do_grupo(grupo):\n",
    "    total = []\n",
    "    for tweet in grupo[\"Tweet Text\"]:\n",
    "        tweet_splited = space_cleaning(tweet)\n",
    "       # tweet_splited = remove_http(tweet_splited)\n",
    "        total.append(tweet_splited)\n",
    "    return total"
   ]
  },
  {
   "cell_type": "code",
   "execution_count": 77,
   "metadata": {},
   "outputs": [],
   "source": [
    "groups_tweet = [tratamento_do_grupo(groups[0]),tratamento_do_grupo(groups[1]),tratamento_do_grupo(groups[2])]"
   ]
  },
  {
   "cell_type": "markdown",
   "metadata": {},
   "source": [
    "## Naive Bayes e Laplace Smoothing"
   ]
  },
  {
   "cell_type": "code",
   "execution_count": 79,
   "metadata": {},
   "outputs": [],
   "source": [
    "#Número de Elementos De todos os grupos sem repetição\n",
    "total_words = []\n",
    "def lista_sem_repeticao(LISTA,lista):\n",
    "    resposta = LISTA\n",
    "    for tweet in lista:\n",
    "        for palavra in tweet:\n",
    "            if palavra not in resposta:\n",
    "                resposta.append(palavra)\n",
    "    return resposta\n",
    "lista_sem_repeticao(total_words,groups_tweet[0])\n",
    "lista_sem_repeticao(total_words,groups_tweet[1])\n",
    "lista_sem_repeticao(total_words,groups_tweet[2])\n",
    "N =len(total_words)"
   ]
  },
  {
   "cell_type": "code",
   "execution_count": 80,
   "metadata": {},
   "outputs": [
    {
     "data": {
      "text/plain": [
       "2970"
      ]
     },
     "execution_count": 80,
     "metadata": {},
     "output_type": "execute_result"
    }
   ],
   "source": [
    "N"
   ]
  },
  {
   "cell_type": "code",
   "execution_count": 81,
   "metadata": {},
   "outputs": [],
   "source": [
    "# Algoritmo de Laplace\n",
    "def laplace(num_vezes_no_grupo, num_elementos_do_grupo, num_elementos_sem_repeticao):\n",
    "    probabilidade = (num_vezes_no_grupo + 1 ) / ( num_elementos_do_grupo + num_elementos_sem_repeticao)\n",
    "    return probabilidade"
   ]
  },
  {
   "cell_type": "code",
   "execution_count": 82,
   "metadata": {},
   "outputs": [],
   "source": [
    "#Número de vezes que a palavra aparece no grupo\n",
    "def numero_de_vezes(palavra_analisada,grupo):\n",
    "    n = 0\n",
    "    for tweet in grupo:\n",
    "        n += tweet.count(palavra_analisada)\n",
    "#         for palavra in tweet:\n",
    "#             if palavra ==  palavra_analisada:\n",
    "#                 n +=1\n",
    "    return n"
   ]
  },
  {
   "cell_type": "code",
   "execution_count": 83,
   "metadata": {},
   "outputs": [],
   "source": [
    "#Calculando a probabilidade para cada palavra\n",
    "resultados = []\n",
    "for group in groups_tweet:\n",
    "    dictionary= {}\n",
    "    for tweet in group:\n",
    "        for word in tweet:\n",
    "            probabilidade = laplace(numero_de_vezes(word,group),len(group),N)\n",
    "            dictionary[word] = probabilidade\n",
    "    resultado = pd.Series(dictionary)\n",
    "    resultados.append(resultado)"
   ]
  },
  {
   "cell_type": "code",
   "execution_count": 84,
   "metadata": {},
   "outputs": [],
   "source": [
    "#Número de Palavras em Cada uma dos Grupos\n",
    "def conta_palavras(grupo):\n",
    "    n = 0\n",
    "    for tweet in grupo:\n",
    "        n += len(tweet)\n",
    "    return n"
   ]
  },
  {
   "cell_type": "code",
   "execution_count": 85,
   "metadata": {},
   "outputs": [],
   "source": [
    "N_1 = conta_palavras(groups_tweet[0])\n",
    "N_2 = conta_palavras(groups_tweet[1])\n",
    "N_3 = conta_palavras(groups_tweet[2])"
   ]
  },
  {
   "cell_type": "code",
   "execution_count": null,
   "metadata": {},
   "outputs": [],
   "source": []
  },
  {
   "cell_type": "markdown",
   "metadata": {},
   "source": [
    "___\n",
    "## Verificando a performance na Planilha Testes\n",
    "\n",
    "Agora você deve testar o seu classificador com a base de Testes."
   ]
  },
  {
   "cell_type": "code",
   "execution_count": 86,
   "metadata": {},
   "outputs": [],
   "source": [
    "teste = planilha_teste[\"Tweet Text\"]"
   ]
  },
  {
   "cell_type": "code",
   "execution_count": 87,
   "metadata": {},
   "outputs": [],
   "source": [
    "def limpeza_tweet(tweet):\n",
    "    tweet_limpo = space_cleaning(str(tweet))\n",
    "    return tweet_limpo"
   ]
  },
  {
   "cell_type": "code",
   "execution_count": 88,
   "metadata": {},
   "outputs": [],
   "source": [
    "teste_tweet = []\n",
    "for tweet in teste:\n",
    "    teste_tweet.append(limpeza_tweet(tweet))"
   ]
  },
  {
   "cell_type": "code",
   "execution_count": 89,
   "metadata": {},
   "outputs": [],
   "source": [
    "serie_teste = pd.Series(teste_tweet)"
   ]
  },
  {
   "cell_type": "code",
   "execution_count": 90,
   "metadata": {},
   "outputs": [
    {
     "data": {
      "text/plain": [
       "1898"
      ]
     },
     "execution_count": 90,
     "metadata": {},
     "output_type": "execute_result"
    }
   ],
   "source": [
    "len(resultados[0].index)"
   ]
  },
  {
   "cell_type": "markdown",
   "metadata": {},
   "source": [
    "## Função de Análise\n",
    "\n",
    "Como os resultados estão muito pequenos, usou-se a função do logarítmo neperiano, ln(x), para os valores ficarem com números mais adequados para o Python."
   ]
  },
  {
   "cell_type": "code",
   "execution_count": 91,
   "metadata": {},
   "outputs": [],
   "source": [
    "#Função de Análise de Frase\n",
    "def analisa_frase(frase):\n",
    "    condicional_grupo1 = 1\n",
    "    condicional_grupo2 = 1\n",
    "    condicional_grupo3 = 1\n",
    "    lista = [condicional_grupo1, condicional_grupo2,condicional_grupo3]\n",
    "    \n",
    "    for palavra in frase:\n",
    "        if (palavra not in resultados[0].index):\n",
    "            condicional_grupo1 *= laplace(0,N_1,N)\n",
    "        else: \n",
    "            condicional_grupo1 *= resultados[0][palavra]\n",
    "            \n",
    "    for palavra in frase:\n",
    "        if (palavra not in resultados[1].index):\n",
    "            condicional_grupo2 *= laplace(0,N_1,N) \n",
    "        else:\n",
    "            condicional_grupo2 *= resultados[1][palavra]\n",
    "            \n",
    "    for palavra in frase:\n",
    "        if (palavra not in resultados[2].index):\n",
    "            condicional_grupo3 *= laplace(0,N_1,N) \n",
    "        else:\n",
    "            condicional_grupo3 *= resultados[2][palavra]\n",
    "            \n",
    "    return [condicional_grupo1,condicional_grupo2,condicional_grupo3]"
   ]
  },
  {
   "cell_type": "code",
   "execution_count": 92,
   "metadata": {},
   "outputs": [
    {
     "data": {
      "text/plain": [
       "[1.1116983151648638e-60, 4.458025834425154e-61, 1.3518821708300341e-62]"
      ]
     },
     "execution_count": 92,
     "metadata": {},
     "output_type": "execute_result"
    }
   ],
   "source": [
    "analisa_frase(\"Gostei muito de você\")"
   ]
  },
  {
   "cell_type": "code",
   "execution_count": 93,
   "metadata": {},
   "outputs": [],
   "source": [
    "def identifica_valor_maximo(lista_de_resultados):\n",
    "    if lista_de_resultados[0] == max(lista_de_resultados):\n",
    "        return 1\n",
    "    elif lista_de_resultados[1] == max(lista_de_resultados):\n",
    "        return 2\n",
    "    else:\n",
    "        return 3"
   ]
  },
  {
   "cell_type": "code",
   "execution_count": 94,
   "metadata": {},
   "outputs": [],
   "source": [
    "def resultado(n):\n",
    "    return identifica_valor_maximo(analisa_frase(limpeza_tweet(teste[n])))\n",
    "estimativa = []\n",
    "for k in range(0,len(teste)):\n",
    "    estimativa.append(resultado(k))"
   ]
  },
  {
   "cell_type": "code",
   "execution_count": 95,
   "metadata": {},
   "outputs": [],
   "source": [
    "planilha_teste[\"Relevância_Estimada\"] = estimativa"
   ]
  },
  {
   "cell_type": "code",
   "execution_count": 96,
   "metadata": {},
   "outputs": [],
   "source": [
    "Acertos = 0\n",
    "for n in planilha_teste.index:\n",
    "    if planilha_teste[\"Relevância_Prevista\"][n] == planilha_teste[\"Relevância_Estimada\"][n]:\n",
    "        Acertos += 1"
   ]
  },
  {
   "cell_type": "code",
   "execution_count": 97,
   "metadata": {
    "scrolled": true
   },
   "outputs": [
    {
     "data": {
      "text/plain": [
       "1.0    0.492205\n",
       "2.0    0.285078\n",
       "3.0    0.222717\n",
       "Name: Relevância, dtype: float64"
      ]
     },
     "execution_count": 97,
     "metadata": {},
     "output_type": "execute_result"
    }
   ],
   "source": [
    "planilha_treinamento[\"Relevância\"].value_counts(normalize = True)"
   ]
  },
  {
   "cell_type": "code",
   "execution_count": 98,
   "metadata": {},
   "outputs": [
    {
     "data": {
      "text/plain": [
       "1    0.536667\n",
       "3    0.236667\n",
       "2    0.223333\n",
       "0    0.003333\n",
       "Name: Relevância_Prevista, dtype: float64"
      ]
     },
     "execution_count": 98,
     "metadata": {},
     "output_type": "execute_result"
    }
   ],
   "source": [
    "planilha_teste[\"Relevância_Prevista\"].value_counts(normalize = True)"
   ]
  },
  {
   "cell_type": "code",
   "execution_count": 99,
   "metadata": {},
   "outputs": [
    {
     "data": {
      "text/plain": [
       "1    0.93\n",
       "2    0.05\n",
       "3    0.02\n",
       "Name: Relevância_Estimada, dtype: float64"
      ]
     },
     "execution_count": 99,
     "metadata": {},
     "output_type": "execute_result"
    }
   ],
   "source": [
    "planilha_teste[\"Relevância_Estimada\"].value_counts(True)"
   ]
  },
  {
   "cell_type": "code",
   "execution_count": 100,
   "metadata": {},
   "outputs": [
    {
     "data": {
      "text/plain": [
       "0.5466666666666666"
      ]
     },
     "execution_count": 100,
     "metadata": {},
     "output_type": "execute_result"
    }
   ],
   "source": [
    "Acertos/len(planilha_teste)"
   ]
  },
  {
   "cell_type": "markdown",
   "metadata": {},
   "source": [
    "___\n",
    "### Concluindo"
   ]
  },
  {
   "cell_type": "code",
   "execution_count": null,
   "metadata": {},
   "outputs": [],
   "source": [
    "for i in range(10):\n",
    "    clear_output()\n",
    "    print(\"Hello World! {}\".format(i))\n",
    "    time.sleep(1)"
   ]
  },
  {
   "cell_type": "code",
   "execution_count": null,
   "metadata": {},
   "outputs": [],
   "source": []
  },
  {
   "cell_type": "markdown",
   "metadata": {},
   "source": [
    "## Aperfeiçoamento:\n",
    "\n",
    "Os trabalhos vão evoluir em conceito dependendo da quantidade de itens avançados:\n",
    "\n",
    "* Limpar: \\n, :, \", ', (, ), etc SEM remover emojis\n",
    "* Corrigir separação de espaços entre palavras e emojis ou emojis e emojis\n",
    "* Propor outras limpezas e transformações que não afetem a qualidade da informação ou classificação\n",
    "* Criar categorias intermediárias de relevância baseadas na probabilidade: ex.: muito relevante, relevante, neutro, irrelevante, muito irrelevante (3 categorias: C, mais categorias conta para B)\n",
    "* Explicar por que não posso usar o próprio classificador para gerar mais amostras de treinamento\n",
    "* Propor diferentes cenários para Naïve Bayes fora do contexto do projeto\n",
    "* Sugerir e explicar melhorias reais com indicações concretas de como implementar (indicar como fazer e indicar material de pesquisa)\n",
    "* Montar um dashboard que periodicamente realiza análise de sentimento e visualiza estes dados"
   ]
  },
  {
   "cell_type": "markdown",
   "metadata": {},
   "source": [
    "# Referências"
   ]
  },
  {
   "cell_type": "markdown",
   "metadata": {},
   "source": [
    "[Naive Bayes and Text Classification](https://arxiv.org/pdf/1410.5329.pdf)  **Mais completo**\n",
    "\n",
    "[A practical explanation of a Naive Bayes Classifier](https://monkeylearn.com/blog/practical-explanation-naive-bayes-classifier/) **Mais simples**"
   ]
  },
  {
   "cell_type": "code",
   "execution_count": null,
   "metadata": {},
   "outputs": [],
   "source": []
  }
 ],
 "metadata": {
  "kernelspec": {
   "display_name": "Python 3",
   "language": "python",
   "name": "python3"
  },
  "language_info": {
   "codemirror_mode": {
    "name": "ipython",
    "version": 3
   },
   "file_extension": ".py",
   "mimetype": "text/x-python",
   "name": "python",
   "nbconvert_exporter": "python",
   "pygments_lexer": "ipython3",
   "version": "3.7.1"
  }
 },
 "nbformat": 4,
 "nbformat_minor": 4
}
