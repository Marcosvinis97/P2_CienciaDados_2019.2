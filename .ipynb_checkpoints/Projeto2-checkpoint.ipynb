{
 "cells": [
  {
   "cell_type": "markdown",
   "metadata": {},
   "source": [
    "# Projeto 2 - Ciência dos Dados"
   ]
  },
  {
   "cell_type": "markdown",
   "metadata": {},
   "source": [
    "Nome: Cicero Tiago Carneiro Valentim\n",
    "\n",
    "Nome: Luiz Felipe Lazzaron\n",
    "\n",
    "Nome: Marcos Vinícius da Silva"
   ]
  },
  {
   "cell_type": "markdown",
   "metadata": {},
   "source": [
    "Serão permitidos grupos de três pessoas, mas com uma rubrica mais exigente. Grupos deste tamanho precisarão fazer um questionário de avaliação de trabalho em equipe"
   ]
  },
  {
   "cell_type": "markdown",
   "metadata": {},
   "source": [
    "# Introdução\n",
    "\n",
    "No presente trabalho, visa-se selecionar tweets relevantes para a classificação de postagens que possuem sinais de depressão por parte de seus autores. Nesse contexto, os integrantes dividiram os tweets em três categorias:\n",
    "\n",
    "1. Irrelavantes ou Neutros. Tweets que não indicam quaisquer indício de depressão;\n",
    "2. Relevantes. Tweets que possuem relevância na análise de indicação de depressão;\n",
    "3. Possuem interesse no assunto. Tweets que não demonstram doença mental, mas indicam um interre no tema e na prevenção de suicídio.\n",
    "\n",
    "Desse modo, com tal classificação, pode-se desenvolver um marketing específico para os públicos 2 e 3; para os relevantes, pode-se oferecer auxílio e suporte psicológico; para aqueles que possuem interesse no tema \"depressão\", pode-se direcionar materiais que ensinem a como lidar com pessoas com depressão."
   ]
  },
  {
   "cell_type": "markdown",
   "metadata": {},
   "source": [
    "___\n",
    "# Classificador automático de sentimento\n"
   ]
  },
  {
   "cell_type": "markdown",
   "metadata": {},
   "source": [
    "## Preparando o ambiente no jupyter:"
   ]
  },
  {
   "cell_type": "code",
   "execution_count": 5,
   "metadata": {
    "jupyter": {
     "outputs_hidden": true
    }
   },
   "outputs": [],
   "source": [
    "import tweepy\n",
    "import math\n",
    "import os.path\n",
    "import pandas as pd\n",
    "import json\n",
    "from random import shuffle"
   ]
  },
  {
   "cell_type": "markdown",
   "metadata": {},
   "source": [
    "___\n",
    "## Autenticando no  Twitter\n",
    "\n",
    "* Conta: ***@MarcosV96118169***"
   ]
  },
  {
   "cell_type": "code",
   "execution_count": 6,
   "metadata": {
    "jupyter": {
     "outputs_hidden": true
    }
   },
   "outputs": [],
   "source": [
    "#Dados de autenticação do twitter:\n",
    "\n",
    "#Coloque aqui o identificador da conta no twitter: @MarcosV96118169\n",
    "\n",
    "#leitura do arquivo no formato JSON\n",
    "with open('auth.pass') as fp:    \n",
    "    data = json.load(fp)\n",
    "\n",
    "#Configurando a biblioteca. Não modificar\n",
    "auth = tweepy.OAuthHandler(data['consumer_key'], data['consumer_secret'])\n",
    "auth.set_access_token(data['access_token'], data['access_token_secret'])"
   ]
  },
  {
   "cell_type": "markdown",
   "metadata": {},
   "source": [
    "___\n",
    "## Etapas do projeto:"
   ]
  },
  {
   "cell_type": "markdown",
   "metadata": {},
   "source": [
    "### Escolha de um produto e coleta das mensagens\n"
   ]
  },
  {
   "cell_type": "code",
   "execution_count": 12,
   "metadata": {
    "jupyter": {
     "outputs_hidden": true
    }
   },
   "outputs": [],
   "source": [
    "#Produto escolhido:\n",
    "produto = 'Depressão'\n",
    "\n",
    "#Quantidade mínima de mensagens capturadas:\n",
    "n = 500\n",
    "#Quantidade mínima de mensagens para a base de treinamento:\n",
    "t = 300\n",
    "\n",
    "#Filtro de língua, escolha uma na tabela ISO 639-1.\n",
    "lang = 'pt'"
   ]
  },
  {
   "cell_type": "markdown",
   "metadata": {},
   "source": [
    "Capturando os dados do twitter:"
   ]
  },
  {
   "cell_type": "code",
   "execution_count": 3,
   "metadata": {
    "jupyter": {
     "outputs_hidden": true
    },
    "scrolled": true
   },
   "outputs": [],
   "source": [
    "# Cria um objeto para a captura\n",
    "# api = tweepy.API(auth)\n",
    "\n",
    "#Inicia a captura, para mais detalhes: ver a documentação do tweepy\n",
    "# i = 1\n",
    "# for msg in tweepy.Cursor(api.search, q=produto, lang=lang, tweet_mode=\"extended\").items():\n",
    "#     new_msg = { 'User Name': msg.user.name,\n",
    "#                 'Tweet Created At': msg.created_at,\n",
    "#                 'Tweet Text': msg.full_text.lower(),\n",
    "#                 'User Location': msg.user.location,\n",
    "#                 'Phone Type': msg.source,\n",
    "#                 'Favorite Count': msg.favorite_count,\n",
    "#                 'Retweets':msg.retweet_count\n",
    "#                 }\n",
    "#     if i > n:\n",
    "#         break\n",
    "\n",
    "#Embaralhando as mensagens para reduzir um possível viés\n",
    "# shuffle(msgs)"
   ]
  },
  {
   "cell_type": "code",
   "execution_count": 2,
   "metadata": {},
   "outputs": [],
   "source": [
    "#Criando um Dataframe com a Base de Dados\n",
    "# pd.set_option('display.max_colwidth', -1)\n",
    "# pd.DataFrame(msgs)"
   ]
  },
  {
   "cell_type": "markdown",
   "metadata": {},
   "source": [
    "Salvando os dados em uma planilha Excel:"
   ]
  },
  {
   "cell_type": "code",
   "execution_count": 6,
   "metadata": {
    "collapsed": true,
    "jupyter": {
     "outputs_hidden": true
    }
   },
   "outputs": [],
   "source": [
    "#Verifica se o arquivo não existe para não substituir um conjunto pronto\n",
    "# if not os.path.isfile('./{0}.xlsx'.format(produto)):\n",
    "    \n",
    "    #Abre o arquivo para escrita\n",
    "#     writer = pd.ExcelWriter('{0}.xlsx'.format(produto))\n",
    "\n",
    "    #divide o conjunto de mensagens em duas planilhas\n",
    "#     dft = pd.DataFrame({'Treinamento' : pd.Series(msgs[:t])})\n",
    "#     dft.to_excel(excel_writer = writer, sheet_name = 'Treinamento', index = False)\n",
    "\n",
    "#     dfc = pd.DataFrame({'Teste' : pd.Series(msgs[t:])})\n",
    "#     dfc.to_excel(excel_writer = writer, sheet_name = 'Teste', index = False)\n",
    "\n",
    "    #fecha o arquivo\n",
    "#     writer.save()"
   ]
  },
  {
   "cell_type": "markdown",
   "metadata": {},
   "source": [
    "___\n",
    "### Classificando as mensagens na coragem\n",
    "\n",
    "Esta etapa é manual. Faça a mesma pelo Excel."
   ]
  },
  {
   "cell_type": "code",
   "execution_count": 18,
   "metadata": {},
   "outputs": [],
   "source": [
    "planilha_treinamento = pd.read_excel('depressao.xlsx', \"Treinamento\")\n",
    "planilha_teste = pd.read_excel('depressao.xlsx', \"Teste\")\n",
    "pd.set_option('display.max_colwidth', -1)"
   ]
  },
  {
   "cell_type": "code",
   "execution_count": 19,
   "metadata": {
    "scrolled": true
   },
   "outputs": [
    {
     "data": {
      "text/html": [
       "<div>\n",
       "<style scoped>\n",
       "    .dataframe tbody tr th:only-of-type {\n",
       "        vertical-align: middle;\n",
       "    }\n",
       "\n",
       "    .dataframe tbody tr th {\n",
       "        vertical-align: top;\n",
       "    }\n",
       "\n",
       "    .dataframe thead th {\n",
       "        text-align: right;\n",
       "    }\n",
       "</style>\n",
       "<table border=\"1\" class=\"dataframe\">\n",
       "  <thead>\n",
       "    <tr style=\"text-align: right;\">\n",
       "      <th></th>\n",
       "      <th>Favorite Count</th>\n",
       "      <th>Phone Type</th>\n",
       "      <th>Retweets</th>\n",
       "      <th>Tweet Created At</th>\n",
       "      <th>Tweet Text</th>\n",
       "      <th>Relevância</th>\n",
       "      <th>User Location</th>\n",
       "      <th>User Name</th>\n",
       "    </tr>\n",
       "  </thead>\n",
       "  <tbody>\n",
       "    <tr>\n",
       "      <th>0</th>\n",
       "      <td>1</td>\n",
       "      <td>Twitter for iPhone</td>\n",
       "      <td>0</td>\n",
       "      <td>2019-09-10 22:11:57</td>\n",
       "      <td>uma das partes mais chatas da depressão é a impressão errada que vc deixa pra pessoas com as quais vc realmente se importa pq vc não consegue de fato ser vc mesmo</td>\n",
       "      <td>2.0</td>\n",
       "      <td>Lille, France</td>\n",
       "      <td>alívio cômico</td>\n",
       "    </tr>\n",
       "    <tr>\n",
       "      <th>1</th>\n",
       "      <td>0</td>\n",
       "      <td>Twitter for Android</td>\n",
       "      <td>0</td>\n",
       "      <td>2019-09-10 21:08:53</td>\n",
       "      <td>falei pra minha mãe sobre ter ansiedade e ela \"n precisa ter ansiedade\"\\n\\ndps eu disse q quando trabalhar irei na psicóloga e ela \"vc ta com depressão?\"\\n\\nfoda viu kkk</td>\n",
       "      <td>1.0</td>\n",
       "      <td>26•07•18 | ▪jaguar</td>\n",
       "      <td>paola 🌈</td>\n",
       "    </tr>\n",
       "    <tr>\n",
       "      <th>2</th>\n",
       "      <td>0</td>\n",
       "      <td>Twitter for Android</td>\n",
       "      <td>0</td>\n",
       "      <td>2019-09-10 21:04:31</td>\n",
       "      <td>e ainda vrm a depressao https://t.co/3qpgzs4ebu</td>\n",
       "      <td>1.0</td>\n",
       "      <td>São Paulo, Brasil</td>\n",
       "      <td>Gracy 🙊🤞⚡</td>\n",
       "    </tr>\n",
       "    <tr>\n",
       "      <th>3</th>\n",
       "      <td>0</td>\n",
       "      <td>Twitter for Android</td>\n",
       "      <td>0</td>\n",
       "      <td>2019-09-10 21:32:22</td>\n",
       "      <td>porra pq sempre quando eu falo que tenho depressão o povo não acredita</td>\n",
       "      <td>2.0</td>\n",
       "      <td>Rio de Janeiro, Brasil</td>\n",
       "      <td>Davilla</td>\n",
       "    </tr>\n",
       "    <tr>\n",
       "      <th>4</th>\n",
       "      <td>2</td>\n",
       "      <td>Twitter Web App</td>\n",
       "      <td>0</td>\n",
       "      <td>2019-09-10 21:33:20</td>\n",
       "      <td>desculpa ter desmarcado nossa saída eu realmente queria sair c vc mas a depressão puxou meu pé no último momento e eu fiquei insegura c a sensação de que algo ia dar errado</td>\n",
       "      <td>2.0</td>\n",
       "      <td>NaN</td>\n",
       "      <td>Sapatrem</td>\n",
       "    </tr>\n",
       "  </tbody>\n",
       "</table>\n",
       "</div>"
      ],
      "text/plain": [
       "   Favorite Count           Phone Type  Retweets    Tweet Created At  \\\n",
       "0  1               Twitter for iPhone   0        2019-09-10 22:11:57   \n",
       "1  0               Twitter for Android  0        2019-09-10 21:08:53   \n",
       "2  0               Twitter for Android  0        2019-09-10 21:04:31   \n",
       "3  0               Twitter for Android  0        2019-09-10 21:32:22   \n",
       "4  2               Twitter Web App      0        2019-09-10 21:33:20   \n",
       "\n",
       "                                                                                                                                                                     Tweet Text  \\\n",
       "0  uma das partes mais chatas da depressão é a impressão errada que vc deixa pra pessoas com as quais vc realmente se importa pq vc não consegue de fato ser vc mesmo             \n",
       "1  falei pra minha mãe sobre ter ansiedade e ela \"n precisa ter ansiedade\"\\n\\ndps eu disse q quando trabalhar irei na psicóloga e ela \"vc ta com depressão?\"\\n\\nfoda viu kkk      \n",
       "2  e ainda vrm a depressao https://t.co/3qpgzs4ebu                                                                                                                                \n",
       "3  porra pq sempre quando eu falo que tenho depressão o povo não acredita                                                                                                         \n",
       "4  desculpa ter desmarcado nossa saída eu realmente queria sair c vc mas a depressão puxou meu pé no último momento e eu fiquei insegura c a sensação de que algo ia dar errado   \n",
       "\n",
       "   Relevância           User Location      User Name  \n",
       "0  2.0         Lille, France           alívio cômico  \n",
       "1  1.0         26•07•18 | ▪jaguar      paola 🌈        \n",
       "2  1.0         São Paulo, Brasil       Gracy 🙊🤞⚡      \n",
       "3  2.0         Rio de Janeiro, Brasil  Davilla        \n",
       "4  2.0         NaN                     Sapatrem       "
      ]
     },
     "execution_count": 19,
     "metadata": {},
     "output_type": "execute_result"
    }
   ],
   "source": [
    "planilha_treinamento.head()"
   ]
  },
  {
   "cell_type": "code",
   "execution_count": 20,
   "metadata": {},
   "outputs": [
    {
     "data": {
      "text/html": [
       "<div>\n",
       "<style scoped>\n",
       "    .dataframe tbody tr th:only-of-type {\n",
       "        vertical-align: middle;\n",
       "    }\n",
       "\n",
       "    .dataframe tbody tr th {\n",
       "        vertical-align: top;\n",
       "    }\n",
       "\n",
       "    .dataframe thead th {\n",
       "        text-align: right;\n",
       "    }\n",
       "</style>\n",
       "<table border=\"1\" class=\"dataframe\">\n",
       "  <thead>\n",
       "    <tr style=\"text-align: right;\">\n",
       "      <th></th>\n",
       "      <th>Favorite Count</th>\n",
       "      <th>Phone Type</th>\n",
       "      <th>Retweets</th>\n",
       "      <th>Tweet Created At</th>\n",
       "      <th>Tweet Text</th>\n",
       "      <th>Relevância</th>\n",
       "      <th>User Location</th>\n",
       "      <th>User Name</th>\n",
       "    </tr>\n",
       "  </thead>\n",
       "  <tbody>\n",
       "    <tr>\n",
       "      <th>0</th>\n",
       "      <td>0</td>\n",
       "      <td>Facebook</td>\n",
       "      <td>0</td>\n",
       "      <td>2019-09-10 21:05:19</td>\n",
       "      <td>já passou da hora de legalizar! criança sofrendo com epilepsia, milhares sofrendo com alzheimer, parkinson, depressão e ansiedade, dores crônicas,  e uma planta que resolve esses problemas sendo proibida para um governo corrupto lucrar com o tráfico... https://t.co/460cco225l</td>\n",
       "      <td>1</td>\n",
       "      <td>Brasil</td>\n",
       "      <td>GRAZI 🍀</td>\n",
       "    </tr>\n",
       "    <tr>\n",
       "      <th>1</th>\n",
       "      <td>0</td>\n",
       "      <td>Twitter for iPhone</td>\n",
       "      <td>0</td>\n",
       "      <td>2019-09-10 22:18:12</td>\n",
       "      <td>hoje eu só queria que a depressão não estivesse do meu lado 😢</td>\n",
       "      <td>2</td>\n",
       "      <td>Nao te interessa</td>\n",
       "      <td>Napaula</td>\n",
       "    </tr>\n",
       "    <tr>\n",
       "      <th>2</th>\n",
       "      <td>6</td>\n",
       "      <td>Twitter for iPhone</td>\n",
       "      <td>0</td>\n",
       "      <td>2019-09-10 21:23:39</td>\n",
       "      <td>vcs que zoam coleguinha que tem depressão dizendo que é frescura são um bando de desalmado filha da puta, falam umas merdas dessas e depois fica postando coisa de setembro amarelo</td>\n",
       "      <td>1</td>\n",
       "      <td>NaN</td>\n",
       "      <td>najulia</td>\n",
       "    </tr>\n",
       "    <tr>\n",
       "      <th>3</th>\n",
       "      <td>0</td>\n",
       "      <td>Twitter for Android</td>\n",
       "      <td>0</td>\n",
       "      <td>2019-09-10 21:20:38</td>\n",
       "      <td>hoje teve palestra no trabalho sobre depressão por causa do setembro amarelo</td>\n",
       "      <td>3</td>\n",
       "      <td>ㅤfanfan ♡</td>\n",
       "      <td>ؘ</td>\n",
       "    </tr>\n",
       "    <tr>\n",
       "      <th>4</th>\n",
       "      <td>0</td>\n",
       "      <td>Twitter Web App</td>\n",
       "      <td>0</td>\n",
       "      <td>2019-09-10 21:21:20</td>\n",
       "      <td>depressão pós perder garrafinha</td>\n",
       "      <td>1</td>\n",
       "      <td>NaN</td>\n",
       "      <td>❀ carla ❀</td>\n",
       "    </tr>\n",
       "  </tbody>\n",
       "</table>\n",
       "</div>"
      ],
      "text/plain": [
       "   Favorite Count           Phone Type  Retweets    Tweet Created At  \\\n",
       "0  0               Facebook             0        2019-09-10 21:05:19   \n",
       "1  0               Twitter for iPhone   0        2019-09-10 22:18:12   \n",
       "2  6               Twitter for iPhone   0        2019-09-10 21:23:39   \n",
       "3  0               Twitter for Android  0        2019-09-10 21:20:38   \n",
       "4  0               Twitter Web App      0        2019-09-10 21:21:20   \n",
       "\n",
       "                                                                                                                                                                                                                                                                             Tweet Text  \\\n",
       "0  já passou da hora de legalizar! criança sofrendo com epilepsia, milhares sofrendo com alzheimer, parkinson, depressão e ansiedade, dores crônicas,  e uma planta que resolve esses problemas sendo proibida para um governo corrupto lucrar com o tráfico... https://t.co/460cco225l   \n",
       "1  hoje eu só queria que a depressão não estivesse do meu lado 😢                                                                                                                                                                                                                          \n",
       "2  vcs que zoam coleguinha que tem depressão dizendo que é frescura são um bando de desalmado filha da puta, falam umas merdas dessas e depois fica postando coisa de setembro amarelo                                                                                                    \n",
       "3  hoje teve palestra no trabalho sobre depressão por causa do setembro amarelo                                                                                                                                                                                                           \n",
       "4  depressão pós perder garrafinha                                                                                                                                                                                                                                                        \n",
       "\n",
       "   Relevância     User Location  User Name  \n",
       "0  1           Brasil            GRAZI 🍀    \n",
       "1  2           Nao te interessa  Napaula    \n",
       "2  1           NaN               najulia    \n",
       "3  3           ㅤfanfan ♡         ؘ          \n",
       "4  1           NaN               ❀ carla ❀  "
      ]
     },
     "execution_count": 20,
     "metadata": {},
     "output_type": "execute_result"
    }
   ],
   "source": [
    "planilha_teste.head()"
   ]
  },
  {
   "cell_type": "markdown",
   "metadata": {},
   "source": [
    "___\n",
    "### Montando o Classificador Naive-Bayes\n",
    "\n",
    "Considerando apenas as mensagens da planilha Treinamento, ensine  seu classificador."
   ]
  },
  {
   "cell_type": "code",
   "execution_count": null,
   "metadata": {},
   "outputs": [],
   "source": []
  },
  {
   "cell_type": "code",
   "execution_count": null,
   "metadata": {},
   "outputs": [],
   "source": []
  },
  {
   "cell_type": "code",
   "execution_count": null,
   "metadata": {},
   "outputs": [],
   "source": []
  },
  {
   "cell_type": "markdown",
   "metadata": {},
   "source": [
    "___\n",
    "### Verificando a performance\n",
    "\n",
    "Agora você deve testar o seu classificador com a base de Testes."
   ]
  },
  {
   "cell_type": "code",
   "execution_count": null,
   "metadata": {},
   "outputs": [],
   "source": []
  },
  {
   "cell_type": "code",
   "execution_count": null,
   "metadata": {},
   "outputs": [],
   "source": []
  },
  {
   "cell_type": "code",
   "execution_count": null,
   "metadata": {},
   "outputs": [],
   "source": []
  },
  {
   "cell_type": "markdown",
   "metadata": {},
   "source": [
    "___\n",
    "### Concluindo"
   ]
  },
  {
   "cell_type": "code",
   "execution_count": null,
   "metadata": {},
   "outputs": [],
   "source": []
  },
  {
   "cell_type": "code",
   "execution_count": null,
   "metadata": {},
   "outputs": [],
   "source": []
  },
  {
   "cell_type": "markdown",
   "metadata": {},
   "source": [
    "## Aperfeiçoamento:\n",
    "\n",
    "Os trabalhos vão evoluir em conceito dependendo da quantidade de itens avançados:\n",
    "\n",
    "* Limpar: \\n, :, \", ', (, ), etc SEM remover emojis\n",
    "* Corrigir separação de espaços entre palavras e emojis ou emojis e emojis\n",
    "* Propor outras limpezas e transformações que não afetem a qualidade da informação ou classificação\n",
    "* Criar categorias intermediárias de relevância baseadas na probabilidade: ex.: muito relevante, relevante, neutro, irrelevante, muito irrelevante (3 categorias: C, mais categorias conta para B)\n",
    "* Explicar por que não posso usar o próprio classificador para gerar mais amostras de treinamento\n",
    "* Propor diferentes cenários para Naïve Bayes fora do contexto do projeto\n",
    "* Sugerir e explicar melhorias reais com indicações concretas de como implementar (indicar como fazer e indicar material de pesquisa)\n",
    "* Montar um dashboard que periodicamente realiza análise de sentimento e visualiza estes dados"
   ]
  },
  {
   "cell_type": "markdown",
   "metadata": {},
   "source": [
    "# Referências"
   ]
  },
  {
   "cell_type": "markdown",
   "metadata": {},
   "source": [
    "[Naive Bayes and Text Classification](https://arxiv.org/pdf/1410.5329.pdf)  **Mais completo**\n",
    "\n",
    "[A practical explanation of a Naive Bayes Classifier](https://monkeylearn.com/blog/practical-explanation-naive-bayes-classifier/) **Mais simples**"
   ]
  },
  {
   "cell_type": "code",
   "execution_count": null,
   "metadata": {},
   "outputs": [],
   "source": []
  }
 ],
 "metadata": {
  "kernelspec": {
   "display_name": "Python 3",
   "language": "python",
   "name": "python3"
  },
  "language_info": {
   "codemirror_mode": {
    "name": "ipython",
    "version": 3
   },
   "file_extension": ".py",
   "mimetype": "text/x-python",
   "name": "python",
   "nbconvert_exporter": "python",
   "pygments_lexer": "ipython3",
   "version": "3.7.1"
  }
 },
 "nbformat": 4,
 "nbformat_minor": 4
}
