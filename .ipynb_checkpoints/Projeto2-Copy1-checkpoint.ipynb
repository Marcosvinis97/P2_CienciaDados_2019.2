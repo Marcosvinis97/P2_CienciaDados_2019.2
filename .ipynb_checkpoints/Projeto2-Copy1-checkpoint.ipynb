{
 "cells": [
  {
   "cell_type": "markdown",
   "metadata": {},
   "source": [
    "# Projeto 2 - Ciência dos Dados"
   ]
  },
  {
   "cell_type": "markdown",
   "metadata": {},
   "source": [
    "Nome: Cicero Tiago Carneiro Valentim\n",
    "\n",
    "Nome: Luiz Felipe Lazzaron\n",
    "\n",
    "Nome: Marcos Vinícius da Silva"
   ]
  },
  {
   "cell_type": "markdown",
   "metadata": {},
   "source": [
    "# Introdução\n",
    "\n",
    "No presente trabalho, visa-se selecionar tweets relevantes para a classificação de postagens que possuem sinais de depressão por parte de seus autores. Nesse contexto, os integrantes dividiram os tweets em três categorias:\n",
    "\n",
    "1. Irrelavantes ou Neutros. Tweets que não indicam quaisquer indício de depressão;\n",
    "2. Relevantes. Tweets que possuem relevância na análise de indicação de depressão;\n",
    "3. Possuem interesse no assunto. Tweets que não demonstram doença mental, mas indicam um interresse no tema e na prevenção de suicídio.\n",
    "\n",
    "Desse modo, com tal classificação, pode-se desenvolver um marketing específico para os públicos 2 e 3; para os relevantes, pode-se oferecer auxílio e suporte psicológico; para aqueles que possuem interesse no tema \"depressão\", pode-se direcionar materiais que ensinem a como lidar com pessoas com depressão."
   ]
  },
  {
   "cell_type": "markdown",
   "metadata": {},
   "source": [
    "___\n",
    "# Classificador automático de sentimento\n"
   ]
  },
  {
   "cell_type": "markdown",
   "metadata": {},
   "source": [
    "## Preparando o ambiente no jupyter:"
   ]
  },
  {
   "cell_type": "code",
   "execution_count": 1,
   "metadata": {
    "jupyter": {
     "outputs_hidden": true
    }
   },
   "outputs": [],
   "source": [
    "import tweepy\n",
    "import math\n",
    "import os.path\n",
    "import pandas as pd\n",
    "import json\n",
    "from random import shuffle"
   ]
  },
  {
   "cell_type": "markdown",
   "metadata": {},
   "source": [
    "___\n",
    "## Autenticando no  Twitter\n",
    "\n",
    "* Conta: ***@MarcosV96118169***"
   ]
  },
  {
   "cell_type": "code",
   "execution_count": 2,
   "metadata": {
    "jupyter": {
     "outputs_hidden": true
    }
   },
   "outputs": [],
   "source": [
    "#Dados de autenticação do twitter:\n",
    "\n",
    "#Coloque aqui o identificador da conta no twitter: @MarcosV96118169\n",
    "\n",
    "#leitura do arquivo no formato JSON\n",
    "with open('auth.pass') as fp:    \n",
    "    data = json.load(fp)\n",
    "\n",
    "#Configurando a biblioteca. Não modificar\n",
    "auth = tweepy.OAuthHandler(data['consumer_key'], data['consumer_secret'])\n",
    "auth.set_access_token(data['access_token'], data['access_token_secret'])"
   ]
  },
  {
   "cell_type": "markdown",
   "metadata": {},
   "source": [
    "___\n",
    "## Etapas do projeto:"
   ]
  },
  {
   "cell_type": "markdown",
   "metadata": {},
   "source": [
    "### Escolha de um produto e coleta das mensagens\n"
   ]
  },
  {
   "cell_type": "code",
   "execution_count": 3,
   "metadata": {
    "jupyter": {
     "outputs_hidden": true
    }
   },
   "outputs": [],
   "source": [
    "#Produto escolhido:\n",
    "produto = 'Depressão'\n",
    "\n",
    "#Quantidade mínima de mensagens capturadas:\n",
    "n = 500\n",
    "#Quantidade mínima de mensagens para a base de treinamento:\n",
    "t = 300\n",
    "\n",
    "#Filtro de língua, escolha uma na tabela ISO 639-1.\n",
    "lang = 'pt'"
   ]
  },
  {
   "cell_type": "markdown",
   "metadata": {},
   "source": [
    "Capturando os dados do twitter:"
   ]
  },
  {
   "cell_type": "code",
   "execution_count": 4,
   "metadata": {
    "jupyter": {
     "outputs_hidden": true
    },
    "scrolled": true
   },
   "outputs": [],
   "source": [
    "# Cria um objeto para a captura\n",
    "# api = tweepy.API(auth)\n",
    "\n",
    "#Inicia a captura, para mais detalhes: ver a documentação do tweepy\n",
    "# i = 1\n",
    "# for msg in tweepy.Cursor(api.search, q=produto, lang=lang, tweet_mode=\"extended\").items():\n",
    "#     new_msg = { 'User Name': msg.user.name,\n",
    "#                 'Tweet Created At': msg.created_at,\n",
    "#                 'Tweet Text': msg.full_text.lower(),\n",
    "#                 'User Location': msg.user.location,\n",
    "#                 'Phone Type': msg.source,\n",
    "#                 'Favorite Count': msg.favorite_count,\n",
    "#                 'Retweets':msg.retweet_count\n",
    "#                 }\n",
    "#     if i > n:\n",
    "#         break\n",
    "\n",
    "#Embaralhando as mensagens para reduzir um possível viés\n",
    "# shuffle(msgs)"
   ]
  },
  {
   "cell_type": "code",
   "execution_count": 5,
   "metadata": {},
   "outputs": [],
   "source": [
    "#Criando um Dataframe com a Base de Dados\n",
    "# pd.set_option('display.max_colwidth', -1)\n",
    "# pd.DataFrame(msgs)"
   ]
  },
  {
   "cell_type": "markdown",
   "metadata": {},
   "source": [
    "Salvando os dados em uma planilha Excel:"
   ]
  },
  {
   "cell_type": "code",
   "execution_count": 6,
   "metadata": {
    "jupyter": {
     "outputs_hidden": true
    }
   },
   "outputs": [],
   "source": [
    "#Verifica se o arquivo não existe para não substituir um conjunto pronto\n",
    "# if not os.path.isfile('./{0}.xlsx'.format(produto)):\n",
    "    \n",
    "    #Abre o arquivo para escrita\n",
    "#     writer = pd.ExcelWriter('{0}.xlsx'.format(produto))\n",
    "\n",
    "    #divide o conjunto de mensagens em duas planilhas\n",
    "#     dft = pd.DataFrame({'Treinamento' : pd.Series(msgs[:t])})\n",
    "#     dft.to_excel(excel_writer = writer, sheet_name = 'Treinamento', index = False)\n",
    "\n",
    "#     dfc = pd.DataFrame({'Teste' : pd.Series(msgs[t:])})\n",
    "#     dfc.to_excel(excel_writer = writer, sheet_name = 'Teste', index = False)\n",
    "\n",
    "    #fecha o arquivo\n",
    "#     writer.save()"
   ]
  },
  {
   "cell_type": "markdown",
   "metadata": {},
   "source": [
    "___\n",
    "### Classificando as mensagens na coragem\n",
    "\n",
    "Esta etapa é manual. Faça a mesma pelo Excel."
   ]
  },
  {
   "cell_type": "code",
   "execution_count": 7,
   "metadata": {},
   "outputs": [],
   "source": [
    "planilha_treinamento = pd.read_excel('depressao.xlsx', \"Treinamento\")\n",
    "planilha_teste = pd.read_excel('depressao.xlsx', \"Teste\")\n",
    "pd.set_option('display.max_colwidth', -1)"
   ]
  },
  {
   "cell_type": "markdown",
   "metadata": {},
   "source": [
    "___\n",
    "# Montando o Classificador Naive-Bayes\n"
   ]
  },
  {
   "cell_type": "markdown",
   "metadata": {},
   "source": [
    "Primeiramente, iremos trabalhar com o dataframe treinamento, criando três banco de dados:\n",
    "    \n",
    "- **Grupo 1 - Irrelevantes/Neutros**: *group_1*\n",
    "- **Grupo 2 - Relevantes**: *group_2*\n",
    "- **Grupo 3 - Interesse no Assunto**: *group_3*\n"
   ]
  },
  {
   "cell_type": "code",
   "execution_count": 8,
   "metadata": {},
   "outputs": [],
   "source": [
    "group_1 = planilha_treinamento[planilha_treinamento[\"Relevância\"] == 1]"
   ]
  },
  {
   "cell_type": "code",
   "execution_count": 9,
   "metadata": {},
   "outputs": [],
   "source": [
    "group_2 = planilha_treinamento[planilha_treinamento[\"Relevância\"] == 2]"
   ]
  },
  {
   "cell_type": "code",
   "execution_count": 10,
   "metadata": {},
   "outputs": [],
   "source": [
    "group_3 = planilha_treinamento[planilha_treinamento[\"Relevância\"] == 3]"
   ]
  },
  {
   "cell_type": "code",
   "execution_count": 11,
   "metadata": {},
   "outputs": [],
   "source": [
    "groups = [group_1,group_2,group_3]"
   ]
  },
  {
<<<<<<< HEAD
   "cell_type": "code",
   "execution_count": 12,
   "metadata": {},
   "outputs": [
    {
     "data": {
      "text/plain": [
       "'1      falei pra minha mãe sobre ter ansiedade e ela \"n precisa ter ansiedade\"\\\\n\\\\ndps eu disse q quando trabalhar irei na psicóloga e ela \"vc ta com depressão?\"\\\\n\\\\nfoda viu kkk                                                                                                                                        \\n2      e ainda vrm a depressao https://t.co/3qpgzs4ebu                                                                                                                                                                                                                                                                  \\n9      simplismente vejo hoje como a hipocrisia evoluiu, onde em setembro mil e um textos se ploriferam em redes socias, sendo que meses antes julgava como indigentes. depressão n é algo pra se discutir em x dia é toda hora. então para de postar pra aparecer e faça pela sua atitude                              \\n10     tv:\"tão fazendo campanha contra suicídio nas escolas já q este mal assim como a depressão atinge muitos adolescentes\"\\\\nanimal: \"dá uma vassoura pra trabalharem q n tem tempo pra pensarem em se matar\"                                                                                                          \\n11     professora falou q sai da minha sala com depressão kkkkkkkkkkkk                                                                                                                                                                                                                                                  \\n14     nessa escola depressao só existe em setembro                                                                                                                                                                                                                                                                     \\n16     a atriz e ex-aluna da puc-sp glamour garcia, participou hoje (10/09) do programa \"encontro com fátima bernardes\", onde falou sobre depressão enfrentada por ela. glamour é formada em comunicação das artes do corpo pela puc-sp. confira:\\\\nhttps://t.co/qoivdccdts https://t.co/dmvv9ktje1                      \\n18     este vídeo cura a minha depressão hahahahaha😂😂\\\\nhttps://t.co/rztsh4gcsz                                                                                                                                                                                                                                          \\n21     a escola vai começar e a depressao tbm                                                                                                                                                                                                                                                                           \\n23     @pgrilo02 depressao? never! já te disse que tou no auge da minha vida                                                                                                                                                                                                                                            \\n25     como vai você? setembro amarelo https://t.co/6uodogwvlz via @youtube #suicídio #depressão #cvv                                                                                                                                                                                                                   \\n27     objetivo é promover a discussão sobre o suicídio e levantar pautas sobre transtorno de ansiedade e depressão https://t.co/byre2yjvls                                                                                                                                                                             \\n28     depressão, vazio de alma!\\\\n#pbjoaoplacona https://t.co/lkgtwbnebq                                                                                                                                                                                                                                                \\n30     @ofhobi )):ainda sigo firme na depressão pós show                                                                                                                                                                                                                                                                \\n32     falando sobre o meu livro #quandoagentemuda no fórum intersetorial de saúde mental e prevenção do suicídio hj em itaboraí-rj #setembroamarelo #aartedesorrir #suicidio #burnout #depressao https://t.co/zd9vzxn6zd                                                                                               \\n33     setembro amarelo, você nunca está sozinho! 🎗\\\\nprecisando conversar?1 ligue: 188\\\\n⠀\\\\nlink para maiores informações em https://t.co/oqgfs0rsbn \\\\n⠀\\\\n#setembroamarelo #suicidio #depressao #ansiedade #cvv188 https://t.co/ju1yjaprq5                                                                               \\n34     chega setembro é aquele inferno pessoas postando coisas das mais reais às mais absurdas sobre depressão e transtornos psíquicos, pessoas desconhecidas querendo te abraçar, gente usando lacinho amarelo e fingindo que realmente se importa com suicidas e depressivos                                          \\n36     não usem depressivo para pessoas que não tem depressão só porque parecem desanimadas/tristes https://t.co/2tu2h9urcx                                                                                                                                                                                             \\n39     @conceloss filipa.....isso e depressao por vires para coimbra??                                                                                                                                                                                                                                                  \\n40     engraçado que no mês amarelo é o único mês que as pessoas dão atenção pra quem sofre de depressão e esquece dos outros meses,pega essa atenção é enfia no cú.                                                                                                                                                    \\n41     começar a me preparar pra depressão pós show, tá feliz drake                                                                                                                                                                                                                                                     \\n43     @hug0y @qfoibruno @gu1n3s a anitta ta cada dia em um país diferente, vive lançando musicas em varias linguas, ta passando por depressão, tem que gravar o programa dela... tu acha que ela vai perder a porra do tempo dela, namorando uma mulher, pra provar pro viadinho do twitter que ela é bi?              \\n45     a depressão não se instala de uma hora para outra...\\\\n➖\\\\ngeralmente o sujeito passou por muitas situações que trouxeram sofrimento e não falou sobre o assunto.\\\\n➖\\\\npode ter tido perdas e não conseguiu elaborar o luto das… https://t.co/wr81ptfzdm                                                            \\n47     muita hipocrisia falar merda de quem tem depressão e postar coisa de setembro amarelo                                                                                                                                                                                                                            \\n48     \\'quando quiser\\' é só depressão meu povo https://t.co/6nph3udwha                                                                                                                                                                                                                                                  \\n53     e hoje que foi um coach lá na escola falar nada mais que o óbvio, e ainda falou que quem tivesse problemas com depressao poderia entrar em contato com elekkkkkk o mico meu pai                                                                                                                                  \\n54     passei por isso três vezes.... na primeira, eu entrei em depressão porque eu amava demais ele, foi a primeira pessoa que eu entreguei meu coração..ele passava de mãos dadas na minha frente, eu me segurava pra não chorar, quando eu chegava em casa desabava https://t.co/nc0qrcesu5                          \\n59     setembro amarelo (1)\\\\n\\\\noh, venha setembro amarelo\\\\nsalvar todos com depressão,\\\\nvenha, fique todo belo,\\\\ne depois suma, como se fosse uma ilusão.\\\\n\\\\nvamos usar a tal cor,\\\\npara pagar de cuidadosos,\\\\n\\\\n#setembroamarelo                                                                                       \\n61     dia de prevenção ao suicídio: veja 9 sinais para identificar quando alguém está com\\xa0depressão https://t.co/tefzdfohtu https://t.co/d5ddtj73wq                                                                                                                                                                    \\n62     @hell_lxrd tem algum motivo? sabe, sem querer desmerecer, só que é foda ficar se auto-diagnosticando com depressão logo na era dos \"sadboys\", isso tira todo o crédito de quem realmente sofre. se você não se sente bem (por qualquer motivo), a indicação de qualquer pessoa seria procurar [+]                \\n                                                                                                                                                     ...                                                                                                                                                                \\n405    \"so tem depressão quem quer\"\\\\n\\\\nah claro\\\\na pessoa acorda e pensa\\\\nnossa que dia gostoso\\\\npra não conseguir fazer nada\\\\nse sentir um lixo\\\\ne querer morrer                                                                                                                                                       \\n406    quando você percebe que só serve para tampar buraco.@depressão                                                                                                                                                                                                                                                   \\n407    \"não é depressão, é ganância!\"\\\\n     \\\\n                        ta                                                                                                                                                                                                                                                \\n408    depressão e ansiedade devem ser tratadas por um especialistas. https://t.co/fb3qztsrml                                                                                                                                                                                                                           \\n409    nunca aparece tanta gente hipócrita quanto nesse setembro amarelo, depressão só é depressão quando ela mata pq quando alguém da sinal dessa doença ninguém liga, ai só é frescura e tentativa de chama atenção                                                                                                   \\n410    o que me deixa com mais ódio é q meu namorado tá a dias me tratando mal e só vem cvs comigo pra falar sobre minha cachorra... agora vai eu falar sobre depressão com ele kkkkk https://t.co/bttwbrkb4b                                                                                                           \\n411    jane the virgin é uma série ridícula, mas colocar o tema depressão pós parto e ainda um cara dizendo que sofre o mesmo passou do limite.                                                                                                                                                                         \\n413    vocês estão sempre falando sobre depressão, mas também nuncam se esquecem de julgar o modo como seu amigo se veste, as coisas que ele gosta.                                                                                                                                                                     \\n415    mãe que perdeu filho baleado por pm morre após sofrer com depressão por 3 anos e sem ver fim da investigação https://t.co/jn92mbbr4v                                                                                                                                                                             \\n417    coloco minha playlist brasilzão pra treinar só toca mpb da depressão\\\\n\\\\ne logo cedo, só toca baiana system “. tudo errado                                                                                                                                                                                        \\n418    tenho tanto exercício de física 2 pra fazer que bate até uma depressão só de olhar aquelas listas                                                                                                                                                                                                                \\n419    isso aí \\\\nvamo confiar no julgamento de uma pessoa que obviamente não consegue pensar de forma clara agora pq tem depressão \\\\npalmas, quê gênio \\\\n\\\\njesus \\\\ncansei                                                                                                                                               \\n420    eu n lembrava que a emily tomava remédio pra depressão                                                                                                                                                                                                                                                           \\n422    setembro amarelo\\xa0é um mês de conscientização mundial sobre os casos de suicídio e depressão.\\\\nhoje tivemos essa super conversa com nossas queridas professoras helmar e telma. gislaine saiu do consultório e veio trocar… https://t.co/morpb48lpr                                                               \\n423    @morimurando o mori disse tudo.\\\\ne é aqui que vemoss uma pessoa idiota, que acha que depressão é brincadeira ou modinha. \\\\n\\\\nde verdade eu odeio essas pessoas , e quero distancia.                                                                                                                              \\n424    @drfernandoneuro conheço bem a dor de perder alguém para a depressão,por meio de suicídio😢😢💔minha mãe                                                                                                                                                                                                            \\n426    pioor parte da depressão é tipo nao sentir nada e não conseguir falar o q acontece                                                                                                                                                                                                                               \\n429    quase q eu entro em depressao escutando fresno no banho                                                                                                                                                                                                                                                          \\n431    a gente fala tanto em setembro amarelo, de oferecer ajuda e suporte, aconselhar à procurar ajuda profissional mas só quem tem algum ente querido que sofre com depressão e afins sabe o quão desgastante isso pode ser. temos que ajudar ao máximo mas cuidado pra não irem junto tb.                            \\n435    @_bel28 seja lgbtis no brasil!... resistir o suicídio e uma guerra diária e desumana.  a depressão faz parte do cotidiano... especialmente depois da eleição desse presiditador bolsonaro.                                                                                                                       \\n436    o tema da redação foi depressão, ram, fiz de olho fechado                                                                                                                                                                                                                                                        \\n437    @eiotariano e a depressão é quem tá filmando                                                                                                                                                                                                                                                                     \\n439    mais uma vez eu provando q esse tipo de pessoa q acha q umas blusas e algumas frases de efeito irão mudar depressão estão erradas https://t.co/5ogttzrw2z                                                                                                                                                        \\n440    💛setembro amarelo💛\\\\nvocês sabiam que hoje é o dia mundial de prevenção ao suicídio?\\\\npois bem, quando alguém te falar sobre ansiedade, depressão ou pânico sempre fiquem atentos... pode ser um pedido de ajuda! \\\\npoucas horas após esta foto, tive um surto psicótico e tentei suicídio https://t.co/u2a4jawu7b\\n441    hipocrisia dms essa de setembro amarelo, na porra dos outros 11 meses do ano sua coleguinha que tenta demonstra que tem depressão você diz que é drama, tnc vocês mos.                                                                                                                                           \\n443    @isa_pih isadora essa foto curou minha depressão                                                                                                                                                                                                                                                                 \\n446    sera que ir no cinema sozinho pra  ver it é muita depressão? kkkkkk sla, gosto de ver filme cm companhia \\\\nse alguem quiser ir cmg manda um zape zapi                                                                                                                                                            \\n447    se eu parar pra ler os comentários do meu vídeo eu entro em depressão                                                                                                                                                                                                                                            \\n448    @alefejohnny @pedrolu09094501 @brasil_fortnite top 3 motivos do porque a depressão existe                                                                                                                                                                                                                        \\n449    @itallorcarvalho fora essa hipocrisia do crlh, é só lance de \"se preencha em jesus pra curar depressão\", e um falso moralismo q nem msm eles seguem                                                                                                                                                              \\nName: Tweet Text, Length: 221, dtype: object'"
      ]
     },
     "execution_count": 12,
     "metadata": {},
     "output_type": "execute_result"
    }
   ],
   "source": [
    "str(groups[0][\"Tweet Text\"])"
   ]
  },
  {
=======
>>>>>>> 77117aa5bf40c990e04109441d5bd7486a29496d
   "cell_type": "markdown",
   "metadata": {},
   "source": [
    "# Limpeza e Tratamento dos Dados"
   ]
  },
  {
   "cell_type": "code",
<<<<<<< HEAD
   "execution_count": 13,
=======
   "execution_count": 12,
>>>>>>> 77117aa5bf40c990e04109441d5bd7486a29496d
   "metadata": {},
   "outputs": [
    {
     "name": "stdout",
     "output_type": "stream",
     "text": [
<<<<<<< HEAD
      "Requirement already satisfied: emoji in c:\\programdata\\anaconda3\\lib\\site-packages (0.5.4)\n"
=======
      "Collecting emoji\n"
     ]
    },
    {
     "name": "stderr",
     "output_type": "stream",
     "text": [
      "  Retrying (Retry(total=4, connect=None, read=None, redirect=None, status=None)) after connection broken by 'NewConnectionError('<pip._vendor.urllib3.connection.VerifiedHTTPSConnection object at 0x00000271A17F2780>: Failed to establish a new connection: [Errno 11001] getaddrinfo failed')': /simple/emoji/\n",
      "  Retrying (Retry(total=3, connect=None, read=None, redirect=None, status=None)) after connection broken by 'NewConnectionError('<pip._vendor.urllib3.connection.VerifiedHTTPSConnection object at 0x00000271A17F2470>: Failed to establish a new connection: [Errno 11001] getaddrinfo failed')': /simple/emoji/\n",
      "  Retrying (Retry(total=2, connect=None, read=None, redirect=None, status=None)) after connection broken by 'NewConnectionError('<pip._vendor.urllib3.connection.VerifiedHTTPSConnection object at 0x00000271A17F2630>: Failed to establish a new connection: [Errno 11001] getaddrinfo failed')': /simple/emoji/\n",
      "  Retrying (Retry(total=1, connect=None, read=None, redirect=None, status=None)) after connection broken by 'NewConnectionError('<pip._vendor.urllib3.connection.VerifiedHTTPSConnection object at 0x00000271A17F2400>: Failed to establish a new connection: [Errno 11001] getaddrinfo failed')': /simple/emoji/\n",
      "  Retrying (Retry(total=0, connect=None, read=None, redirect=None, status=None)) after connection broken by 'NewConnectionError('<pip._vendor.urllib3.connection.VerifiedHTTPSConnection object at 0x00000271A17F2438>: Failed to establish a new connection: [Errno 11001] getaddrinfo failed')': /simple/emoji/\n",
      "  Could not find a version that satisfies the requirement emoji (from versions: )\n",
      "No matching distribution found for emoji\n"
     ]
    },
    {
     "ename": "ModuleNotFoundError",
     "evalue": "No module named 'emoji'",
     "output_type": "error",
     "traceback": [
      "\u001b[1;31m---------------------------------------------------------------------------\u001b[0m",
      "\u001b[1;31mModuleNotFoundError\u001b[0m                       Traceback (most recent call last)",
      "\u001b[1;32m<ipython-input-12-9919de6d1f7f>\u001b[0m in \u001b[0;36m<module>\u001b[1;34m\u001b[0m\n\u001b[0;32m      1\u001b[0m \u001b[1;31m#Bibliotecas para a Identificação de Emojis\u001b[0m\u001b[1;33m\u001b[0m\u001b[1;33m\u001b[0m\u001b[1;33m\u001b[0m\u001b[0m\n\u001b[0;32m      2\u001b[0m \u001b[0mget_ipython\u001b[0m\u001b[1;33m(\u001b[0m\u001b[1;33m)\u001b[0m\u001b[1;33m.\u001b[0m\u001b[0msystem\u001b[0m\u001b[1;33m(\u001b[0m\u001b[1;34m'pip install emoji'\u001b[0m\u001b[1;33m)\u001b[0m\u001b[1;33m\u001b[0m\u001b[1;33m\u001b[0m\u001b[0m\n\u001b[1;32m----> 3\u001b[1;33m \u001b[1;32mfrom\u001b[0m \u001b[0memoji\u001b[0m \u001b[1;32mimport\u001b[0m \u001b[0mUNICODE_EMOJI\u001b[0m\u001b[1;33m\u001b[0m\u001b[1;33m\u001b[0m\u001b[0m\n\u001b[0m\u001b[0;32m      4\u001b[0m \u001b[1;32mimport\u001b[0m \u001b[0memoji\u001b[0m\u001b[1;33m\u001b[0m\u001b[1;33m\u001b[0m\u001b[0m\n\u001b[0;32m      5\u001b[0m \u001b[1;32mimport\u001b[0m \u001b[0mre\u001b[0m\u001b[1;33m\u001b[0m\u001b[1;33m\u001b[0m\u001b[0m\n",
      "\u001b[1;31mModuleNotFoundError\u001b[0m: No module named 'emoji'"
>>>>>>> 77117aa5bf40c990e04109441d5bd7486a29496d
     ]
    }
   ],
   "source": [
    "#Bibliotecas para a Identificação de Emojis\n",
    "!pip install emoji\n",
    "from emoji import UNICODE_EMOJI\n",
    "import emoji\n",
    "import re \n",
    "import functools\n",
    "import operator"
   ]
  },
  {
<<<<<<< HEAD
   "cell_type": "markdown",
   "metadata": {},
   "source": [
    "### Função de Limpeza de um Tweet"
   ]
  },
  {
   "cell_type": "code",
   "execution_count": 14,
   "metadata": {},
   "outputs": [],
   "source": [
    "# Recebe um texto normal e devolve uma lista de split\n",
=======
   "cell_type": "code",
   "execution_count": null,
   "metadata": {},
   "outputs": [],
   "source": [
>>>>>>> 77117aa5bf40c990e04109441d5bd7486a29496d
    "def space_cleaning(text):\n",
    "    punctuation = '[!\\-.:?;,''\"@/]' \n",
    "    pattern = re.compile(punctuation)\n",
    "    text_subbed = re.sub(pattern, ' ', text)\n",
    "    split_emoji = emoji.get_emoji_regexp().split(text_subbed)\n",
    "    split_whitespace = [substr.split() for substr in split_emoji]\n",
    "    split = functools.reduce(operator.concat,split_whitespace)\n",
    "    return split"
   ]
  },
  {
   "cell_type": "code",
<<<<<<< HEAD
   "execution_count": 15,
   "metadata": {},
   "outputs": [],
   "source": [
    "#Recebe um lista split e devolve uma lista split sem http ou https\n",
    "def remove_http(lista_de_listas):\n",
    "    lista = lista_de_listas\n",
    "    for i in range(len(lista)):\n",
    "        for j in range(len(lista[i])):\n",
    "            if 'HTTP' in lista[i][j].capitalize():\n",
    "                lista[i][j] = \"http\"\n",
    "    \n",
    "    for i in range(len(lista)):\n",
    "        while lista[i].count(\"http\") != 0:\n",
    "            lista[i].remove(\"http\")\n",
    "    return lista"
   ]
  },
  {
   "cell_type": "markdown",
   "metadata": {},
   "source": [
    "### Tratando os Dados da Base de Treinamento"
   ]
  },
  {
   "cell_type": "code",
   "execution_count": 16,
   "metadata": {},
   "outputs": [],
   "source": [
    "# groups_tweet = []\n",
    "# for group in groups:\n",
    "#     tweet_group = group['Tweet Text'] \n",
    "#     tweet_group = str(tweet_group)\n",
    "#     tweet_group = space_cleaning(tweet_group)\n",
    "#     groups_tweet.append(tweet_group)"
   ]
  },
  {
   "cell_type": "code",
   "execution_count": 17,
   "metadata": {},
   "outputs": [],
   "source": [
    "def tratamento_do_grupo(grupo):\n",
    "    total = []\n",
    "    for tweet in grupo[\"Tweet Text\"]:\n",
    "        tweet_splited = space_cleaning(tweet)\n",
    "       # tweet_splited = remove_http(tweet_splited)\n",
    "        total.append(tweet_splited)\n",
    "    return total"
=======
   "execution_count": null,
   "metadata": {},
   "outputs": [],
   "source": [
    "groups_tweet = []\n",
    "for group in groups:\n",
    "    tweet_group = group['Tweet Text'] \n",
    "    tweet_group = str(tweet_group)\n",
    "    tweet_group = space_cleaning(tweet_group)\n",
    "    groups_tweet.append(tweet_group)"
>>>>>>> 77117aa5bf40c990e04109441d5bd7486a29496d
   ]
  },
  {
   "cell_type": "code",
<<<<<<< HEAD
   "execution_count": 18,
   "metadata": {},
   "outputs": [],
   "source": [
    "groups_tweet = [tratamento_do_grupo(groups[0]),tratamento_do_grupo(groups[1]),tratamento_do_grupo(groups[2])]"
   ]
  },
  {
   "cell_type": "code",
   "execution_count": null,
   "metadata": {},
   "outputs": [],
   "source": []
  },
  {
=======
   "execution_count": null,
   "metadata": {},
   "outputs": [],
   "source": [
    "# Removendo os links iniciados com 'http'\n",
    "for tweet_group in groups_tweet:\n",
    "    for i in range(len(tweet_group)):\n",
    "        tweet_group[i] = tweet_group[i].replace('\\\\n','')\n",
    "        if 'https' in tweet_group[i]:\n",
    "            tweet_group[i] = 'http'\n",
    "    for i in range(tweet_group.count('http')):\n",
    "        tweet_group.remove('http')   "
   ]
  },
  {
>>>>>>> 77117aa5bf40c990e04109441d5bd7486a29496d
   "cell_type": "markdown",
   "metadata": {},
   "source": [
    "## Naive Bayes e Laplace Smoothing"
   ]
  },
  {
   "cell_type": "code",
<<<<<<< HEAD
   "execution_count": 19,
=======
   "execution_count": null,
>>>>>>> 77117aa5bf40c990e04109441d5bd7486a29496d
   "metadata": {},
   "outputs": [],
   "source": [
    "#Número de Elementos De todos os grupos sem repetição\n",
    "total_words = []\n",
    "def lista_sem_repeticao(LISTA,lista):\n",
    "    resposta = LISTA\n",
<<<<<<< HEAD
    "    for tweet in lista:\n",
    "        for palavra in tweet:\n",
    "            if palavra not in resposta:\n",
    "                resposta.append(palavra)\n",
=======
    "    for elemento in lista:\n",
    "        if elemento not in resposta:\n",
    "            resposta.append(elemento)\n",
>>>>>>> 77117aa5bf40c990e04109441d5bd7486a29496d
    "    return resposta\n",
    "lista_sem_repeticao(total_words,groups_tweet[0])\n",
    "lista_sem_repeticao(total_words,groups_tweet[1])\n",
    "lista_sem_repeticao(total_words,groups_tweet[2])\n",
    "N =len(total_words)"
   ]
  },
  {
   "cell_type": "code",
   "execution_count": null,
   "metadata": {},
   "outputs": [],
<<<<<<< HEAD
   "source": []
  },
  {
   "cell_type": "code",
   "execution_count": 20,
   "metadata": {},
   "outputs": [
    {
     "data": {
      "text/plain": [
       "2970"
      ]
     },
     "execution_count": 20,
     "metadata": {},
     "output_type": "execute_result"
    }
   ],
   "source": [
    "N"
   ]
  },
  {
   "cell_type": "code",
   "execution_count": 21,
   "metadata": {},
   "outputs": [],
=======
>>>>>>> 77117aa5bf40c990e04109441d5bd7486a29496d
   "source": [
    "# Algoritmo de Laplace\n",
    "def laplace(num_vezes_no_grupo, num_elementos_do_grupo, num_elementos_sem_repeticao):\n",
    "    probabilidade = (num_vezes_no_grupo + 1 ) / ( num_elementos_do_grupo + num_elementos_sem_repeticao)\n",
    "    return probabilidade"
   ]
  },
  {
   "cell_type": "code",
<<<<<<< HEAD
   "execution_count": 22,
=======
   "execution_count": null,
>>>>>>> 77117aa5bf40c990e04109441d5bd7486a29496d
   "metadata": {},
   "outputs": [],
   "source": [
    "#Número de vezes que a palavra aparece no grupo\n",
<<<<<<< HEAD
    "def numero_de_vezes(palavra_analisada,grupo):\n",
    "    n = 0\n",
    "    for tweet in grupo:\n",
    "        for palavra in tweet:\n",
    "            if palavra ==  palavra_analisada:\n",
    "                n +=1\n",
=======
    "def numero_de_vezes(palavra,grupo):\n",
    "    n = 0\n",
    "    for valor in grupo:\n",
    "        if valor ==  palavra:\n",
    "            n +=1\n",
>>>>>>> 77117aa5bf40c990e04109441d5bd7486a29496d
    "    return n"
   ]
  },
  {
   "cell_type": "code",
<<<<<<< HEAD
   "execution_count": 23,
   "metadata": {},
   "outputs": [
    {
     "data": {
      "text/plain": [
       "122"
      ]
     },
     "execution_count": 23,
     "metadata": {},
     "output_type": "execute_result"
    }
   ],
   "source": [
    "numero_de_vezes(\"depressão\",groups_tweet[1])"
   ]
  },
  {
   "cell_type": "code",
   "execution_count": 24,
=======
   "execution_count": null,
>>>>>>> 77117aa5bf40c990e04109441d5bd7486a29496d
   "metadata": {},
   "outputs": [],
   "source": [
    "#Calculando a probabilidade para cada palavra\n",
    "resultados = []\n",
    "for group in groups_tweet:\n",
    "    dictionary= {}\n",
<<<<<<< HEAD
    "    for tweet in group:\n",
    "        for word in tweet:\n",
    "            probabilidade = laplace(numero_de_vezes(word,group),len(group),N)\n",
    "            dictionary[word] = probabilidade\n",
=======
    "    for word in group:\n",
    "        probabilidade = laplace(numero_de_vezes(word,group),len(group),N)\n",
    "        dictionary[word] = probabilidade\n",
>>>>>>> 77117aa5bf40c990e04109441d5bd7486a29496d
    "    resultado = pd.Series(dictionary)\n",
    "    resultados.append(resultado)"
   ]
  },
  {
<<<<<<< HEAD
   "cell_type": "code",
   "execution_count": 25,
   "metadata": {},
   "outputs": [],
   "source": [
    "#Número de Palavras em Cada uma dos Grupos\n",
    "def conta_palavras(grupo):\n",
    "    n = 0\n",
    "    for tweet in grupo:\n",
    "        n += len(tweet)\n",
    "    return n"
   ]
  },
  {
   "cell_type": "code",
   "execution_count": 26,
   "metadata": {},
   "outputs": [],
   "source": [
    "N_1 = conta_palavras(groups_tweet[0])\n",
    "N_2 = conta_palavras(groups_tweet[1])\n",
    "N_3 = conta_palavras(groups_tweet[2])"
   ]
  },
  {
   "cell_type": "code",
   "execution_count": null,
   "metadata": {},
   "outputs": [],
   "source": []
  },
  {
=======
>>>>>>> 77117aa5bf40c990e04109441d5bd7486a29496d
   "cell_type": "markdown",
   "metadata": {},
   "source": [
    "___\n",
    "## Verificando a performance na Planilha Testes\n",
    "\n",
    "Agora você deve testar o seu classificador com a base de Testes."
   ]
  },
  {
   "cell_type": "code",
<<<<<<< HEAD
   "execution_count": 27,
=======
   "execution_count": null,
>>>>>>> 77117aa5bf40c990e04109441d5bd7486a29496d
   "metadata": {},
   "outputs": [],
   "source": [
    "teste = planilha_teste[\"Tweet Text\"]"
   ]
  },
  {
   "cell_type": "code",
<<<<<<< HEAD
   "execution_count": 28,
   "metadata": {},
   "outputs": [],
   "source": [
    "def limpeza_tweet(tweet):\n",
    "    tweet_limpo = space_cleaning(str(tweet))\n",
    "    return tweet_limpo"
   ]
  },
  {
   "cell_type": "code",
   "execution_count": 29,
=======
   "execution_count": null,
>>>>>>> 77117aa5bf40c990e04109441d5bd7486a29496d
   "metadata": {},
   "outputs": [],
   "source": [
    "teste_tweet = []\n",
    "for tweet in teste:\n",
<<<<<<< HEAD
    "    teste_tweet.append(limpeza_tweet(tweet))"
=======
    "    tweet = str(tweet)\n",
    "    tweet = space_cleaning(tweet)\n",
    "    teste_tweet.append(tweet)"
>>>>>>> 77117aa5bf40c990e04109441d5bd7486a29496d
   ]
  },
  {
   "cell_type": "code",
<<<<<<< HEAD
   "execution_count": 30,
   "metadata": {},
   "outputs": [],
   "source": [
    "serie_teste = pd.Series(teste_tweet)"
=======
   "execution_count": null,
   "metadata": {},
   "outputs": [],
   "source": [
    "# Removendo os links iniciados com 'http'\n",
    "for tweet in teste_tweet:\n",
    "    for i in range(len(tweet)):\n",
    "        tweet[i] = tweet[i].replace('\\\\n','')\n",
    "        if 'https' in tweet_group[i]:\n",
    "            tweet[i] = 'http'\n",
    "    for i in range(tweet.count('http')):\n",
    "        tweet.remove('http')   \n",
    "for tweet in teste_tweet:\n",
    "    if tweet == []:\n",
    "        teste_tweet.remove(tweet)"
>>>>>>> 77117aa5bf40c990e04109441d5bd7486a29496d
   ]
  },
  {
   "cell_type": "code",
<<<<<<< HEAD
   "execution_count": 42,
   "metadata": {},
   "outputs": [
    {
     "data": {
      "text/plain": [
       "1898"
      ]
     },
     "execution_count": 42,
     "metadata": {},
     "output_type": "execute_result"
    }
   ],
   "source": [
    "len(resultados[0].index)"
   ]
  },
  {
   "cell_type": "markdown",
   "metadata": {},
   "source": [
    "## Função de Análise\n",
    "\n",
    "Como os resultados estão muito pequenos, usou-se a função do logarítmo neperiano, ln(x), para os valores ficarem com números mais adequados para o Python."
=======
   "execution_count": null,
   "metadata": {},
   "outputs": [],
   "source": [
    "serie_teste = pd.Series(teste_tweet)"
>>>>>>> 77117aa5bf40c990e04109441d5bd7486a29496d
   ]
  },
  {
   "cell_type": "code",
<<<<<<< HEAD
   "execution_count": 46,
=======
   "execution_count": null,
>>>>>>> 77117aa5bf40c990e04109441d5bd7486a29496d
   "metadata": {},
   "outputs": [],
   "source": [
    "#Função de Análise de Frase\n",
    "def analisa_frase(frase):\n",
    "    condicional_grupo1 = 1\n",
    "    condicional_grupo2 = 1\n",
    "    condicional_grupo3 = 1\n",
    "    lista = [condicional_grupo1, condicional_grupo2,condicional_grupo3]\n",
<<<<<<< HEAD
    "    \n",
    "    for palavra in frase:\n",
    "        if (palavra not in resultados[0].index):\n",
    "            condicional_grupo1 *= laplace(0,N_1,N)\n",
    "        else: \n",
    "            condicional_grupo1 *= resultados[0][palavra]\n",
    "            \n",
    "    for palavra in frase:\n",
    "        if (palavra not in resultados[1].index):\n",
    "            condicional_grupo2 *= laplace(0,N_1,N) \n",
    "        else:\n",
    "            condicional_grupo2 *= resultados[1][palavra]\n",
    "            \n",
    "    for palavra in frase:\n",
    "        if (palavra not in resultados[2].index):\n",
    "            condicional_grupo3 *= laplace(0,N_1,N) \n",
    "        else:\n",
    "            condicional_grupo3 *= resultados[2][palavra]\n",
    "            \n",
    "    return [condicional_grupo1,condicional_grupo2,condicional_grupo3]"
   ]
  },
  {
   "cell_type": "code",
   "execution_count": 47,
   "metadata": {},
   "outputs": [
    {
     "data": {
      "text/plain": [
       "[1.1116983151648638e-60, 4.458025834425154e-61, 1.3518821708300341e-62]"
      ]
     },
     "execution_count": 47,
     "metadata": {},
     "output_type": "execute_result"
    }
   ],
   "source": [
    "analisa_frase(\"Gostei muito de você\")"
   ]
  },
  {
   "cell_type": "code",
   "execution_count": 48,
   "metadata": {},
   "outputs": [],
   "source": [
    "def identifica_valor_maximo(lista_de_resultados):\n",
    "    if lista_de_resultados[0] == max(lista_de_resultados):\n",
    "        return 1\n",
    "    elif lista_de_resultados[1] == max(lista_de_resultados):\n",
    "        return 2\n",
    "    else:\n",
    "        return 3"
   ]
  },
  {
   "cell_type": "code",
   "execution_count": 49,
   "metadata": {},
   "outputs": [],
   "source": [
    "def resultado(n):\n",
    "    return identifica_valor_maximo(analisa_frase(limpeza_tweet(teste[n])))\n",
    "estimativa = []\n",
    "for k in range(0,len(teste)):\n",
    "    estimativa.append(resultado(k))"
   ]
  },
  {
   "cell_type": "code",
   "execution_count": 50,
   "metadata": {},
   "outputs": [],
   "source": [
    "planilha_teste[\"Relevância_Estimada\"] = estimativa"
=======
    "    for palavra in frase:\n",
    "        if (palavra not in resultados[0].index) or (palavra not in resultados[1].index) or (palavra not in resultados[2].index):\n",
    "            condicional_grupo1 *= 1\n",
    "            condicional_grupo2 *= 1\n",
    "            condicional_grupo3 *= 1\n",
    "        else:\n",
    "            condicional_grupo1 *= resultados[0][palavra]\n",
    "            condicional_grupo2 *= resultados[1][palavra]\n",
    "            condicional_grupo3 *= resultados[2][palavra]\n",
    "    if max(lista) == condicional_grupo1:\n",
    "        return 0\n",
    "    elif max(lista) == condicional_grupo2:\n",
    "        return 1\n",
    "    elif max(lista) == condicional_grupo3:\n",
    "        return 2\n",
    "    else:\n",
    "        return(\"Deu ruim\")"
>>>>>>> 77117aa5bf40c990e04109441d5bd7486a29496d
   ]
  },
  {
   "cell_type": "code",
<<<<<<< HEAD
   "execution_count": 51,
   "metadata": {},
   "outputs": [],
   "source": [
    "Acertos = 0\n",
    "for n in planilha_teste.index:\n",
    "    if planilha_teste[\"Relevância_Prevista\"][n] == planilha_teste[\"Relevância_Estimada\"][n]:\n",
    "        Acertos += 1"
   ]
  },
  {
   "cell_type": "code",
   "execution_count": 52,
   "metadata": {},
   "outputs": [
    {
     "data": {
      "text/plain": [
       "1.0    0.492205\n",
       "2.0    0.285078\n",
       "3.0    0.222717\n",
       "Name: Relevância, dtype: float64"
      ]
     },
     "execution_count": 52,
     "metadata": {},
     "output_type": "execute_result"
    }
   ],
   "source": [
    "planilha_treinamento[\"Relevância\"].value_counts(True)"
   ]
  },
  {
   "cell_type": "code",
   "execution_count": 53,
   "metadata": {},
   "outputs": [
    {
     "data": {
      "text/plain": [
       "1    0.536667\n",
       "3    0.236667\n",
       "2    0.223333\n",
       "0    0.003333\n",
       "Name: Relevância_Prevista, dtype: float64"
      ]
     },
     "execution_count": 53,
     "metadata": {},
     "output_type": "execute_result"
    }
   ],
   "source": [
    "planilha_teste[\"Relevância_Prevista\"].value_counts(True)"
   ]
  },
  {
   "cell_type": "code",
   "execution_count": 54,
   "metadata": {},
   "outputs": [
    {
     "data": {
      "text/plain": [
       "1    0.93\n",
       "2    0.05\n",
       "3    0.02\n",
       "Name: Relevância_Estimada, dtype: float64"
      ]
     },
     "execution_count": 54,
     "metadata": {},
     "output_type": "execute_result"
    }
   ],
   "source": [
    "planilha_teste[\"Relevância_Estimada\"].value_counts(True)"
   ]
  },
  {
   "cell_type": "code",
   "execution_count": 55,
   "metadata": {},
   "outputs": [
    {
     "data": {
      "text/plain": [
       "0.5466666666666666"
      ]
     },
     "execution_count": 55,
     "metadata": {},
     "output_type": "execute_result"
    }
   ],
   "source": [
    "Acertos/len(planilha_teste)"
=======
   "execution_count": null,
   "metadata": {},
   "outputs": [],
   "source": [
    "analisa_frase(serie_teste[1])"
>>>>>>> 77117aa5bf40c990e04109441d5bd7486a29496d
   ]
  },
  {
   "cell_type": "markdown",
   "metadata": {},
   "source": [
    "___\n",
    "### Concluindo"
   ]
  },
  {
   "cell_type": "code",
   "execution_count": null,
   "metadata": {},
   "outputs": [],
   "source": []
  },
  {
   "cell_type": "code",
   "execution_count": null,
   "metadata": {},
   "outputs": [],
   "source": []
  },
  {
   "cell_type": "markdown",
   "metadata": {},
   "source": [
    "## Aperfeiçoamento:\n",
    "\n",
    "Os trabalhos vão evoluir em conceito dependendo da quantidade de itens avançados:\n",
    "\n",
    "* Limpar: \\n, :, \", ', (, ), etc SEM remover emojis\n",
    "* Corrigir separação de espaços entre palavras e emojis ou emojis e emojis\n",
    "* Propor outras limpezas e transformações que não afetem a qualidade da informação ou classificação\n",
    "* Criar categorias intermediárias de relevância baseadas na probabilidade: ex.: muito relevante, relevante, neutro, irrelevante, muito irrelevante (3 categorias: C, mais categorias conta para B)\n",
    "* Explicar por que não posso usar o próprio classificador para gerar mais amostras de treinamento\n",
    "* Propor diferentes cenários para Naïve Bayes fora do contexto do projeto\n",
    "* Sugerir e explicar melhorias reais com indicações concretas de como implementar (indicar como fazer e indicar material de pesquisa)\n",
    "* Montar um dashboard que periodicamente realiza análise de sentimento e visualiza estes dados"
   ]
  },
  {
   "cell_type": "markdown",
   "metadata": {},
   "source": [
    "# Referências"
   ]
  },
  {
   "cell_type": "markdown",
   "metadata": {},
   "source": [
    "[Naive Bayes and Text Classification](https://arxiv.org/pdf/1410.5329.pdf)  **Mais completo**\n",
    "\n",
    "[A practical explanation of a Naive Bayes Classifier](https://monkeylearn.com/blog/practical-explanation-naive-bayes-classifier/) **Mais simples**"
   ]
  },
  {
   "cell_type": "code",
   "execution_count": null,
   "metadata": {},
   "outputs": [],
   "source": []
  }
 ],
 "metadata": {
  "kernelspec": {
   "display_name": "Python 3",
   "language": "python",
   "name": "python3"
  },
  "language_info": {
   "codemirror_mode": {
    "name": "ipython",
    "version": 3
   },
   "file_extension": ".py",
   "mimetype": "text/x-python",
   "name": "python",
   "nbconvert_exporter": "python",
   "pygments_lexer": "ipython3",
   "version": "3.7.1"
  }
 },
 "nbformat": 4,
 "nbformat_minor": 4
}
