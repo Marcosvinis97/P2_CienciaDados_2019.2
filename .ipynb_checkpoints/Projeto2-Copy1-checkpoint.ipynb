{
 "cells": [
  {
   "cell_type": "markdown",
   "metadata": {},
   "source": [
    "<h1> <font color=red> Engenharia 2019.2 - Ciência dos dados </font> </h1>\n",
    "\n",
    "<h2> Projeto 2 - Classificador Automático de Sentimento</h2>\n",
    "\n",
    "<h3> Alunos: </h3>\n",
    "<ul>\n",
    "    <li>Cicero Tiago Carneiro Valentim</li>\n",
    "    <li>Luiz Felipe Lazzaron</li>\n",
    "    <li>Marcos Vinícius</li>\n",
    "</ul>"
   ]
  },
  {
   "cell_type": "markdown",
   "metadata": {},
   "source": [
    "<h3> Sumário: </h3>\n",
    "<ol>\n",
    "   <li> Introdução </li>\n",
    "   <p></p>\n",
    "   <li>Preparando Ambiente no Jupyter</li>\n",
    "   <p></p>\n",
    "   <li>Autenticando no Twitter</li>\n",
    "   <p></p>\n",
    "   <li>Escolha de um produto</li>\n",
    "   <p></p>\n",
    "   <li>Classificando as mensagens na coragem</li>\n",
    "   <p></p>\n",
    "   <li>Montando o Classificador Naive-Bayes</li>\n",
    "   <p></p>\n",
    "   <li>Limpeza e Tratamento de Dados</li>\n",
    "   <ul>\n",
    "       <li>7.1 Função Remove;</li>\n",
    "       <li>7.2 Função SpaceCleaning;</li>\n",
    "       <li>7.3 Função TratamentodoGrupo;</li>\n",
    "       <li>7.4 Função Stemming;</li>\n",
    "       <li>7.5 Função RemoveStopWords;</li>\n",
    "       <li>7.6 Tratando os Dados da Base de Treinamento;</li>\n",
    "   </ul>\n",
    "   <p></p>\n",
    "   <li>Naive Bayes e Laplace Smoothing</li>\n",
    "   <ul>\n",
    "       <li>8.1 Função lista_sem_repetição</li>\n",
    "       <li>8.2 Função laplace</li>\n",
    "       <li>8.3 Função numero_de_vezes</li>\n",
    "       <li>8.4 Função conta_palavras</li>\n",
    "   </ul>\n",
    "   <p></p>\n",
    "   <li>Verificando a performance na Planilha Testes</li>\n",
    "   <ul>\n",
    "       <li>9.1 Função limpeza_tweet;</li>\n",
    "       <li>9.2 Função analisa_frase;</li>\n",
    "   </ul>\n",
    "   <p></p>\n",
    "   <li>Referências</li>\n",
    "   <p></p>\n",
    "   <li>Base de Dados</li>\n",
    "</ol>"
   ]
  },
  {
   "cell_type": "markdown",
   "metadata": {},
   "source": [
    "## 1. Introdução"
   ]
  },
  {
   "cell_type": "markdown",
   "metadata": {},
   "source": [
    "<p>\n",
    "    No presente trabalho, visa-se selecionar tweets relevantes para a classificação de postagens que possuem sinais de depressão por parte de seus autores. Nesse contexto, os integrantes dividiram os tweets em três categorias:\n",
    "</p>\n",
    "<ul>\n",
    "    <li> 1. Irrelavantes ou Neutros. Tweets que não indicam quaisquer indício de depressão;</li>\n",
    "    <li> 2. Relevantes. Tweets que possuem relevância na análise de indicação de depressão;</li>\n",
    "    <li> 3. Possuem interesse no assunto. Tweets que não demonstram doença mental, mas indicam um interresse no tema e na prevenção de suicídio;</li>\n",
    "</ul>\n",
    "<p>\n",
    "    Desse modo, com tal classificação, pode-se desenvolver um marketing específico para os públicos 2 e 3; para os relevantes, pode-se oferecer auxílio e suporte psicológico; para aqueles que possuem interesse no tema \"depressão\", pode-se direcionar materiais que ensinem a como lidar com pessoas com depressão.\n",
    "</p>"
   ]
  },
  {
   "cell_type": "markdown",
   "metadata": {},
   "source": [
    "## 2. Preparando o ambiente no jupyter:"
   ]
  },
  {
   "cell_type": "code",
   "execution_count": 261,
   "metadata": {},
   "outputs": [
    {
     "name": "stdout",
     "output_type": "stream",
     "text": [
      "Requirement already satisfied: emoji in c:\\users\\user\\anaconda3\\lib\\site-packages (0.5.4)\n",
      "Requirement already satisfied: nltk in c:\\users\\user\\anaconda3\\lib\\site-packages (3.4)\n",
      "Requirement already satisfied: six in c:\\users\\user\\anaconda3\\lib\\site-packages (from nltk) (1.12.0)\n",
      "Requirement already satisfied: singledispatch in c:\\users\\user\\anaconda3\\lib\\site-packages (from nltk) (3.4.0.3)\n"
     ]
    },
    {
     "name": "stderr",
     "output_type": "stream",
     "text": [
      "[nltk_data] Downloading package rslp to\n",
      "[nltk_data]     C:\\Users\\User\\AppData\\Roaming\\nltk_data...\n",
      "[nltk_data]   Package rslp is already up-to-date!\n",
      "[nltk_data] Downloading package stopwords to\n",
      "[nltk_data]     C:\\Users\\User\\AppData\\Roaming\\nltk_data...\n",
      "[nltk_data]   Package stopwords is already up-to-date!\n",
      "[nltk_data] Downloading package punkt to\n",
      "[nltk_data]     C:\\Users\\User\\AppData\\Roaming\\nltk_data...\n",
      "[nltk_data]   Package punkt is already up-to-date!\n"
     ]
    }
   ],
   "source": [
    "!pip install emoji\n",
    "!pip install nltk\n",
    "nltk.download('rslp')\n",
    "nltk.download('stopwords')\n",
    "nltk.download('punkt')\n",
    "import tweepy\n",
    "import math\n",
    "import os.path\n",
    "import pandas as pd\n",
    "import json\n",
    "from random import shuffle\n",
    "from IPython.display import clear_output\n",
    "from time import sleep\n",
    "import script\n",
    "from emoji import UNICODE_EMOJI\n",
    "import emoji\n",
    "import re \n",
    "import functools\n",
    "import operator\n",
    "import nltk \n",
    "from nltk.stem import RSLPStemmer"
   ]
  },
  {
   "cell_type": "markdown",
   "metadata": {},
   "source": [
    "## 3. Autenticando no  Twitter"
   ]
  },
  {
   "cell_type": "code",
   "execution_count": 262,
   "metadata": {},
   "outputs": [],
   "source": [
    "#Conta: ***@MarcosV96118169***\n",
    "\n",
    "#Dados de autenticação do twitter:\n",
    "\n",
    "#Coloque aqui o identificador da conta no twitter: @MarcosV96118169\n",
    "\n",
    "#leitura do arquivo no formato JSON\n",
    "with open('auth.pass') as fp:    \n",
    "    data = json.load(fp)\n",
    "\n",
    "#Configurando a biblioteca. Não modificar\n",
    "auth = tweepy.OAuthHandler(data['consumer_key'], data['consumer_secret'])\n",
    "auth.set_access_token(data['access_token'], data['access_token_secret'])"
   ]
  },
  {
   "cell_type": "markdown",
   "metadata": {},
   "source": [
    "## 4. Escolha de um produto"
   ]
  },
  {
   "cell_type": "markdown",
   "metadata": {},
   "source": [
    "<ul>\n",
    "Produto escolhido: <b>Depressão</b>\n",
    "\n",
    "Quantidade mínima de mensagens capturadas: <b>750</b>\n",
    "\n",
    "Quantidade mínima de mensagens para a base de treinamento: <b>300</b>\n",
    "\n",
    "Filtro de língua: <b>pt</b>\n",
    "</ul>"
   ]
  },
  {
   "cell_type": "markdown",
   "metadata": {},
   "source": [
    "## 5. Classificando as mensagens na coragem"
   ]
  },
  {
   "cell_type": "markdown",
   "metadata": {},
   "source": [
    "Esta etapa foi manual e foi feita diretamente no Excel."
   ]
  },
  {
   "cell_type": "markdown",
   "metadata": {},
   "source": [
    "#### Lendo arquivos xlsx:"
   ]
  },
  {
   "cell_type": "code",
   "execution_count": 293,
   "metadata": {},
   "outputs": [],
   "source": [
    "planilha_treinamento = pd.read_excel('depressao.xlsx', \"Treinamento\")\n",
    "planilha_teste = pd.read_excel('depressao.xlsx', \"Teste\")\n",
    "pd.set_option('display.max_colwidth', -1)"
   ]
  },
  {
   "cell_type": "markdown",
   "metadata": {},
   "source": [
    "## 6. Montando o Classificador Naive-Bayes"
   ]
  },
  {
   "cell_type": "markdown",
   "metadata": {},
   "source": [
    "<p>Primeiramente, iremos trabalhar com o <i>dataframe</i> treinamento, criando três banco de dados:</p>\n",
    "<ul>\n",
    "    <li>Grupo 1 - Irrelevantes/Neutros: group_1</li>\n",
    "    <li>Grupo 2 - Relevantes: group_2</li>\n",
    "    <li>Grupo 3 - Interesse no Assunto: group_3</li>\n",
    "</ul>"
   ]
  },
  {
   "cell_type": "code",
   "execution_count": 306,
   "metadata": {},
   "outputs": [],
   "source": [
    "group_1 = planilha_treinamento[planilha_treinamento[\"Relevância\"] == 1]\n",
    "group_2 = planilha_treinamento[planilha_treinamento[\"Relevância\"] == 2]\n",
    "group_3 = planilha_treinamento[planilha_treinamento[\"Relevância\"] == 3]"
   ]
  },
  {
   "cell_type": "markdown",
   "metadata": {},
   "source": [
    "## 7. Limpeza e Tratamento dos Dados"
   ]
  },
  {
   "cell_type": "markdown",
   "metadata": {},
   "source": [
    "### 7.1 Função Remove:\n",
    "<p>Essa função serve para retirarmos do nosso <i>DataFrame</i> qualquer string com as iniciais <b>http</b> e <b>@.</b></p>"
   ]
  },
  {
   "cell_type": "code",
   "execution_count": 301,
   "metadata": {},
   "outputs": [],
   "source": [
    "def Remove(dataframe):\n",
    "    data_aux = dataframe\n",
    "    lista_tweets = list(dataframe.loc[:,\"Tweet Text\"].values)\n",
    "    lista_reserva = []\n",
    "    for i in range(len(lista_tweets)):\n",
    "        lista_tweets[i] = lista_tweets[i].split()\n",
    "        for t in range(len(lista_tweets[i])):\n",
    "            if \"http\" in lista_tweets[i][t]:\n",
    "                lista_tweets[i][t] = \"http\"\n",
    "        while lista_tweets[i].count(\"http\") != 0:\n",
    "            lista_tweets[i].remove(\"http\")\n",
    "        lista_tweets[i] = ' '.join(lista_tweets[i])\n",
    "    data_aux.loc[:,\"Tweet Text\"] = lista_tweets\n",
    "    return data_aux"
   ]
  },
  {
   "cell_type": "markdown",
   "metadata": {},
   "source": [
    "### 7.2 Função SpaceCleaning:\n",
    "<p>Essa função serve para quebrarmos nosso texto por palavras e emojis, criando desse modo um array com todas as palavras e mojis contidas dentro do texto. Além disso, retiramos do nosso array algumas pontuações desnecessárias para a análise.</p>"
   ]
  },
  {
   "cell_type": "code",
   "execution_count": 296,
   "metadata": {},
   "outputs": [],
   "source": [
    "def SpaceCleaning(text):\n",
    "    punctuation = '[!\\-.:?;,''\"@/]' \n",
    "    pattern = re.compile(punctuation)\n",
    "    text_subbed = re.sub(pattern, ' ', text)\n",
    "    split_emoji = emoji.get_emoji_regexp().split(text_subbed)\n",
    "    split_whitespace = [substr.split() for substr in split_emoji]\n",
    "    split = functools.reduce(operator.concat,split_whitespace)\n",
    "    return split"
   ]
  },
  {
   "cell_type": "markdown",
   "metadata": {},
   "source": [
    "### 7.3 Função TratamentodoGrupo:\n",
    "<p>Essa função serve para tratar a base de dados do grupo 1, 2 e 3.</p>"
   ]
  },
  {
   "cell_type": "code",
   "execution_count": 297,
   "metadata": {},
   "outputs": [],
   "source": [
    "def TratamentodoGrupo(grupo):\n",
    "    total = []\n",
    "    for tweet in grupo[\"Tweet Text\"]:\n",
    "        tweet_splited = SpaceCleaning(tweet)\n",
    "        total.append(tweet_splited)\n",
    "    return total"
   ]
  },
  {
   "cell_type": "markdown",
   "metadata": {},
   "source": [
    "### 7.4 Função Stemming:\n",
    "<p>Essa função serve para diminuirmos a palavra até a sua raiz, pois assim, conseguimos tratar as palavras originais e suas respectivas derivações de uma mesma maneira.</p>"
   ]
  },
  {
   "cell_type": "code",
   "execution_count": 298,
   "metadata": {},
   "outputs": [],
   "source": [
    "def Stemming(sentence):\n",
    "    stemmer = RSLPStemmer()\n",
    "    phrase = []\n",
    "    for word in sentence:\n",
    "        phrase.append(stemmer.stem(word.lower()))\n",
    "    return phrase"
   ]
  },
  {
   "cell_type": "markdown",
   "metadata": {},
   "source": [
    "### 7.5 Função RemoveStopWords:\n",
    "<p>Essa função serve para retirarmos dentro do nosso array algumas palavras que não são interessantes para contabilizarmos uma pontuação na hora de classificar o nosso texto, então mantemos somente as palavras principais.</p>"
   ]
  },
  {
   "cell_type": "code",
   "execution_count": 299,
   "metadata": {},
   "outputs": [],
   "source": [
    "def RemoveStopWords(sentence):\n",
    "    stopwords = nltk.corpus.stopwords.words('portuguese')\n",
    "    phrase = []\n",
    "    for word in sentence:\n",
    "        if word not in stopwords:\n",
    "            phrase.append(word)\n",
    "    return phrase"
   ]
  },
  {
   "cell_type": "markdown",
   "metadata": {},
   "source": [
    "### 7.6 Tratando os Dados da Base de Treinamento:"
   ]
  },
  {
   "cell_type": "code",
   "execution_count": 305,
   "metadata": {},
   "outputs": [],
   "source": [
    "#Tratando com a função: Removehttp\n",
    "a0 = Remove(group_1)\n",
    "b0 = Remove(group_2)\n",
    "c0 = Remove(group_3)\n",
    "\n",
    "#Tratando com a função: TratamentoGrupo\n",
    "a1 = TratamentodoGrupo(a0)\n",
    "b1 = TratamentodoGrupo(a0)\n",
    "c1 = TratamentodoGrupo(a0)\n",
    "\n",
    "#Tratando com a função: Stemming\n",
    "i = 0\n",
    "a2 = len(a1)*[0]\n",
    "while i < len(a1):\n",
    "    a2[i] = Stemming(a1[i])\n",
    "    i+=1\n",
    "    \n",
    "h = 0\n",
    "b2 = len(b1)*[0]\n",
    "while h < len(b1):\n",
    "    b2[h] = Stemming(b1[h])\n",
    "    h+=1\n",
    "\n",
    "j = 0\n",
    "c2 = len(c1)*[0]\n",
    "while j < len(c1):\n",
    "    c2[j] = Stemming(c1[j])\n",
    "    j+=1\n",
    "\n",
    "#Tratando com a função: RemoveStopWords\n",
    "q = 0\n",
    "a3 = len(a2)*[0]\n",
    "while q < len(a2):\n",
    "    a3[q] = RemoveStopWords(a2[q])\n",
    "    q+=1\n",
    "    \n",
    "w = 0\n",
    "b3 = len(b2)*[0]\n",
    "while w < len(b2):\n",
    "    b3[w] = RemoveStopWords(b2[w])\n",
    "    w+=1\n",
    "\n",
    "l = 0\n",
    "c3 = len(c2)*[0]\n",
    "while l < len(c2):\n",
    "    c3[l] = RemoveStopWords(c2[l])\n",
    "    l+=1\n",
    "\n",
    "groups_tweet = [a3,b3,c3]"
   ]
  },
  {
   "cell_type": "markdown",
   "metadata": {},
   "source": [
    "## 8. Naive Bayes e Laplace Smoothing"
   ]
  },
  {
   "cell_type": "markdown",
   "metadata": {},
   "source": [
    "### 8.1 Função lista_sem_repetição:\n",
    "<p> A função abaixo cria uma lista com todas as palavras existentes num grupo sem repetição, adicionando elas na lista total_words. No fim, temos o número de palavras sem repetição, a qual é importante para cálculos futuros envolvendo a expressão de Laplace.\n",
    "</p>"
   ]
  },
  {
   "cell_type": "code",
   "execution_count": 310,
   "metadata": {},
   "outputs": [],
   "source": [
    "def lista_sem_repeticao(LISTA,lista):\n",
    "    resposta = LISTA\n",
    "    for tweet in lista:\n",
    "        for palavra in tweet:\n",
    "            if palavra not in resposta:\n",
    "                resposta.append(palavra)\n",
    "    return resposta"
   ]
  },
  {
   "cell_type": "code",
   "execution_count": 311,
   "metadata": {},
   "outputs": [],
   "source": [
    "total_words = []\n",
    "lista_sem_repeticao(total_words,groups_tweet[0])\n",
    "lista_sem_repeticao(total_words,groups_tweet[1])\n",
    "lista_sem_repeticao(total_words,groups_tweet[2])\n",
    "N =len(total_words)"
   ]
  },
  {
   "cell_type": "markdown",
   "metadata": {},
   "source": [
    "### 8.2 Função laplace:\n",
    "<p> Abaixo, tem-se a função proposta por Laplace, a qual realiza um smoothing nos dados. Ela recebe três parâmetros: \n",
    "</p>\n",
    "<ul>\n",
    "    <li>Número de vezes que a palavra aparece no grupo;</li>\n",
    "    <li>Número de elementos contido no grupo (1, 2 ou 3);</li>\n",
    "    <li>Número de elementos sem repetição em todas os grupos</li>    \n",
    "</ul>"
   ]
  },
  {
   "cell_type": "code",
   "execution_count": 312,
   "metadata": {},
   "outputs": [],
   "source": [
    "def laplace(num_vezes_no_grupo, num_elementos_do_grupo, num_elementos_sem_repeticao):\n",
    "    probabilidade = (num_vezes_no_grupo + 1 ) / ( num_elementos_do_grupo + num_elementos_sem_repeticao)\n",
    "    return probabilidade"
   ]
  },
  {
   "cell_type": "markdown",
   "metadata": {},
   "source": [
    "### 8.3 Função numero_de_vezes:\n",
    "<p> A função \"número de vezes\" fornece a quantidade de vezes que a palavra aparece no grupo. Essa função é utilizada juntamente com Laplace. \n",
    "</p>"
   ]
  },
  {
   "cell_type": "code",
   "execution_count": 313,
   "metadata": {},
   "outputs": [],
   "source": [
    "def numero_de_vezes(palavra_analisada,grupo):\n",
    "    n = 0\n",
    "    for tweet in grupo:\n",
    "        for palavra in tweet:\n",
    "            if palavra ==  palavra_analisada:\n",
    "                n +=1\n",
    "    return n"
   ]
  },
  {
   "cell_type": "code",
   "execution_count": 314,
   "metadata": {},
   "outputs": [],
   "source": [
    "resultados = []\n",
    "for group in groups_tweet:\n",
    "    dictionary= {}\n",
    "    for tweet in group:\n",
    "        for word in tweet:\n",
    "            probabilidade = laplace(numero_de_vezes(word,group),len(group),N)\n",
    "            dictionary[word] = probabilidade\n",
    "    resultado = pd.Series(dictionary)\n",
    "    resultados.append(resultado)"
   ]
  },
  {
   "cell_type": "markdown",
   "metadata": {},
   "source": [
    "### 8.4 Função conta_palavras:\n",
    "<p> A função palavras vê quantas existem num grupo, o qual é composto por um série de tweets.\n",
    "</p>"
   ]
  },
  {
   "cell_type": "code",
   "execution_count": 315,
   "metadata": {},
   "outputs": [],
   "source": [
    "def conta_palavras(grupo):\n",
    "    n = 0\n",
    "    for tweet in grupo:\n",
    "        n += len(tweet)\n",
    "    return n"
   ]
  },
  {
   "cell_type": "code",
   "execution_count": 316,
   "metadata": {},
   "outputs": [],
   "source": [
    "N_1 = conta_palavras(groups_tweet[0])\n",
    "N_2 = conta_palavras(groups_tweet[1])\n",
    "N_3 = conta_palavras(groups_tweet[2])"
   ]
  },
  {
   "cell_type": "markdown",
   "metadata": {},
   "source": [
    "## 9. Verificando a performance na Planilha Testes\n",
    "<p>\n",
    "Testando classificador com a base de Testes.\n",
    "</p>"
   ]
  },
  {
   "cell_type": "code",
   "execution_count": 317,
   "metadata": {},
   "outputs": [],
   "source": [
    "teste = planilha_teste[\"Tweet Text\"]"
   ]
  },
  {
   "cell_type": "markdown",
   "metadata": {},
   "source": [
    "### 9.1 Função limpeza_tweet:\n",
    "<p> A função limpa cada twetet.\n",
    "</p>"
   ]
  },
  {
   "cell_type": "code",
   "execution_count": 318,
   "metadata": {},
   "outputs": [],
   "source": [
    "def limpeza_tweet(tweet):\n",
    "    tweet_limpo = space_cleaning(str(tweet))\n",
    "    return tweet_limpo"
   ]
  },
  {
   "cell_type": "code",
   "execution_count": 319,
   "metadata": {},
   "outputs": [],
   "source": [
    "teste_tweet = []\n",
    "for tweet in teste:\n",
    "    teste_tweet.append(limpeza_tweet(tweet))"
   ]
  },
  {
   "cell_type": "code",
   "execution_count": 320,
   "metadata": {},
   "outputs": [],
   "source": [
    "serie_teste = pd.Series(teste_tweet)"
   ]
  },
  {
   "cell_type": "markdown",
   "metadata": {},
   "source": [
    "### 9.2 Função analisa_frase:\n",
    "<p> Como os resultados estão muito pequenos, usou-se a função do logarítmo neperiano, ln(x), para os valores ficarem com números mais adequados para o Python.\n",
    "</p>"
   ]
  },
  {
   "cell_type": "code",
   "execution_count": 321,
   "metadata": {},
   "outputs": [],
   "source": [
    "def analisa_frase(frase):\n",
    "    condicional_grupo1 = 1\n",
    "    condicional_grupo2 = 1\n",
    "    condicional_grupo3 = 1\n",
    "    lista = [condicional_grupo1, condicional_grupo2,condicional_grupo3]\n",
    "    \n",
    "    for palavra in frase:\n",
    "        if (palavra not in resultados[0].index):\n",
    "            condicional_grupo1 *= laplace(0,N_1,N)\n",
    "        else: \n",
    "            condicional_grupo1 *= resultados[0][palavra]\n",
    "            \n",
    "    for palavra in frase:\n",
    "        if (palavra not in resultados[1].index):\n",
    "            condicional_grupo2 *= laplace(0,N_1,N) \n",
    "        else:\n",
    "            condicional_grupo2 *= resultados[1][palavra]\n",
    "            \n",
    "    for palavra in frase:\n",
    "        if (palavra not in resultados[2].index):\n",
    "            condicional_grupo3 *= laplace(0,N_1,N) \n",
    "        else:\n",
    "            condicional_grupo3 *= resultados[2][palavra]\n",
    "            \n",
    "    return [condicional_grupo1,condicional_grupo2,condicional_grupo3]"
   ]
  },
  {
   "cell_type": "markdown",
   "metadata": {},
   "source": [
    "### 9.3 Função identifica_valor_maximo:\n",
    "<p> Como os resultados estão muito pequenos, usou-se a função do logarítmo neperiano, ln(x), para os valores ficarem com números mais adequados para o Python.\n",
    "</p>"
   ]
  },
  {
   "cell_type": "code",
   "execution_count": 322,
   "metadata": {},
   "outputs": [],
   "source": [
    "def identifica_valor_maximo(lista_de_resultados):\n",
    "    if lista_de_resultados[0] == max(lista_de_resultados):\n",
    "        return 1\n",
    "    elif lista_de_resultados[1] == max(lista_de_resultados):\n",
    "        return 2\n",
    "    else:\n",
    "        return 3"
   ]
  },
  {
   "cell_type": "markdown",
   "metadata": {},
   "source": [
    "### 9.3 Função resultado:\n",
    "<p> Como os resultados estão muito pequenos, usou-se a função do logarítmo neperiano, ln(x), para os valores ficarem com números mais adequados para o Python.\n",
    "</p>"
   ]
  },
  {
   "cell_type": "code",
   "execution_count": 286,
   "metadata": {},
   "outputs": [],
   "source": [
    "def resultado(n):\n",
    "    return identifica_valor_maximo(analisa_frase(limpeza_tweet(teste[n])))\n",
    "estimativa = []\n",
    "for k in range(0,len(teste)):\n",
    "    estimativa.append(resultado(k))"
   ]
  },
  {
   "cell_type": "code",
   "execution_count": 325,
   "metadata": {},
   "outputs": [],
   "source": [
    "planilha_teste[\"Relevância_Estimada\"] = estimativa\n",
    "\n",
    "Acertos = 0\n",
    "for n in planilha_teste.index:\n",
    "    if planilha_teste[\"Relevância_Prevista\"][n] == planilha_teste[\"Relevância_Estimada\"][n]:\n",
    "        Acertos += 1"
   ]
  },
  {
   "cell_type": "code",
   "execution_count": 326,
   "metadata": {},
   "outputs": [
    {
     "data": {
      "text/plain": [
       "1    0.536667\n",
       "3    0.236667\n",
       "2    0.223333\n",
       "0    0.003333\n",
       "Name: Relevância_Prevista, dtype: float64"
      ]
     },
     "execution_count": 326,
     "metadata": {},
     "output_type": "execute_result"
    }
   ],
   "source": [
    "planilha_teste[\"Relevância_Prevista\"].value_counts(True)"
   ]
  },
  {
   "cell_type": "code",
   "execution_count": 328,
   "metadata": {},
   "outputs": [
    {
     "data": {
      "text/plain": [
       "1.0    0.492205\n",
       "2.0    0.285078\n",
       "3.0    0.222717\n",
       "Name: Relevância, dtype: float64"
      ]
     },
     "execution_count": 328,
     "metadata": {},
     "output_type": "execute_result"
    }
   ],
   "source": [
    "planilha_treinamento[\"Relevância\"].value_counts(True)"
   ]
  },
  {
   "cell_type": "code",
   "execution_count": 291,
   "metadata": {},
   "outputs": [
    {
     "data": {
      "text/plain": [
       "1    1.0\n",
       "Name: Relevância_Estimada, dtype: float64"
      ]
     },
     "execution_count": 291,
     "metadata": {},
     "output_type": "execute_result"
    }
   ],
   "source": [
    "planilha_teste[\"Relevância_Estimada\"].value_counts(True)"
   ]
  },
  {
   "cell_type": "markdown",
   "metadata": {},
   "source": [
    "Comentário"
   ]
  },
  {
   "cell_type": "code",
   "execution_count": 292,
   "metadata": {},
   "outputs": [
    {
     "data": {
      "text/plain": [
       "0.5366666666666666"
      ]
     },
     "execution_count": 292,
     "metadata": {},
     "output_type": "execute_result"
    }
   ],
   "source": [
    "Acertos/len(planilha_teste)"
   ]
  },
  {
   "cell_type": "markdown",
   "metadata": {},
   "source": [
    "___\n",
    "### Concluindo"
   ]
  },
  {
   "cell_type": "code",
   "execution_count": null,
   "metadata": {},
   "outputs": [],
   "source": []
  },
  {
   "cell_type": "code",
   "execution_count": null,
   "metadata": {},
   "outputs": [],
   "source": []
  },
  {
   "cell_type": "markdown",
   "metadata": {},
   "source": [
    "## Aperfeiçoamento:\n",
    "\n",
    "Os trabalhos vão evoluir em conceito dependendo da quantidade de itens avançados:\n",
    "\n",
    "* Limpar: \\n, :, \", ', (, ), etc SEM remover emojis\n",
    "* Corrigir separação de espaços entre palavras e emojis ou emojis e emojis\n",
    "* Propor outras limpezas e transformações que não afetem a qualidade da informação ou classificação\n",
    "* Criar categorias intermediárias de relevância baseadas na probabilidade: ex.: muito relevante, relevante, neutro, irrelevante, muito irrelevante (3 categorias: C, mais categorias conta para B)\n",
    "* Explicar por que não posso usar o próprio classificador para gerar mais amostras de treinamento\n",
    "* Propor diferentes cenários para Naïve Bayes fora do contexto do projeto\n",
    "* Sugerir e explicar melhorias reais com indicações concretas de como implementar (indicar como fazer e indicar material de pesquisa)\n",
    "* Montar um dashboard que periodicamente realiza análise de sentimento e visualiza estes dados"
   ]
  },
  {
   "cell_type": "markdown",
   "metadata": {},
   "source": [
    "# Referências"
   ]
  },
  {
   "cell_type": "markdown",
   "metadata": {},
   "source": [
    "[Naive Bayes and Text Classification](https://arxiv.org/pdf/1410.5329.pdf)  **Mais completo**\n",
    "\n",
    "[A practical explanation of a Naive Bayes Classifier](https://monkeylearn.com/blog/practical-explanation-naive-bayes-classifier/) **Mais simples**"
   ]
  },
  {
   "cell_type": "code",
   "execution_count": null,
   "metadata": {},
   "outputs": [],
   "source": []
  }
 ],
 "metadata": {
  "kernelspec": {
   "display_name": "Python 3",
   "language": "python",
   "name": "python3"
  },
  "language_info": {
   "codemirror_mode": {
    "name": "ipython",
    "version": 3
   },
   "file_extension": ".py",
   "mimetype": "text/x-python",
   "name": "python",
   "nbconvert_exporter": "python",
   "pygments_lexer": "ipython3",
   "version": "3.7.1"
  }
 },
 "nbformat": 4,
 "nbformat_minor": 4
}
